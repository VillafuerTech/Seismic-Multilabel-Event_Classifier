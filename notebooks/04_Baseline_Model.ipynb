{
 "cells": [
  {
   "cell_type": "markdown",
   "id": "5b315f16",
   "metadata": {},
   "source": [
    "# Baseline Model: Logistic Regression"
   ]
  },
  {
   "cell_type": "code",
   "execution_count": 77,
   "id": "d18793bf",
   "metadata": {},
   "outputs": [],
   "source": [
    "\n",
    "import pandas as pd\n",
    "import numpy as np\n",
    "import os\n",
    "\n",
    "from sklearn.model_selection import train_test_split, GridSearchCV, KFold\n",
    "from sklearn.preprocessing import StandardScaler\n",
    "from sklearn.multiclass import OneVsRestClassifier\n",
    "from sklearn.pipeline import Pipeline\n",
    "from sklearn.linear_model import LogisticRegression\n",
    "from sklearn.metrics import classification_report, f1_score, make_scorer\n"
   ]
  },
  {
   "cell_type": "code",
   "execution_count": 78,
   "id": "c37e71dd",
   "metadata": {},
   "outputs": [],
   "source": [
    "if not os.path.basename(os.getcwd()) == 'Seismic-Multilabel-Event-Classifier':\n",
    "    os.chdir('..')\n",
    "    print(f\"Changed directory to {os.getcwd()}\")"
   ]
  },
  {
   "cell_type": "code",
   "execution_count": 79,
   "id": "74662df4",
   "metadata": {},
   "outputs": [
    {
     "name": "stdout",
     "output_type": "stream",
     "text": [
      "Dataset shape: (1674, 91)\n"
     ]
    },
    {
     "data": {
      "text/html": [
       "<div>\n",
       "<style scoped>\n",
       "    .dataframe tbody tr th:only-of-type {\n",
       "        vertical-align: middle;\n",
       "    }\n",
       "\n",
       "    .dataframe tbody tr th {\n",
       "        vertical-align: top;\n",
       "    }\n",
       "\n",
       "    .dataframe thead th {\n",
       "        text-align: right;\n",
       "    }\n",
       "</style>\n",
       "<table border=\"1\" class=\"dataframe\">\n",
       "  <thead>\n",
       "    <tr style=\"text-align: right;\">\n",
       "      <th></th>\n",
       "      <th>max_V</th>\n",
       "      <th>rms_V</th>\n",
       "      <th>max_H1</th>\n",
       "      <th>rms_H1</th>\n",
       "      <th>max_H2</th>\n",
       "      <th>rms_H2</th>\n",
       "      <th>duration</th>\n",
       "      <th>zcr_V</th>\n",
       "      <th>dom_freq_V</th>\n",
       "      <th>centroid_V</th>\n",
       "      <th>...</th>\n",
       "      <th>FFT_PCA_62</th>\n",
       "      <th>1 Stiker Slip (SS)</th>\n",
       "      <th>2 Normal-Oblique (SO)</th>\n",
       "      <th>3 Reverse-Oblique (RO)</th>\n",
       "      <th>4-6</th>\n",
       "      <th>6-8</th>\n",
       "      <th>0-200</th>\n",
       "      <th>200-400</th>\n",
       "      <th>400-600</th>\n",
       "      <th>600-</th>\n",
       "    </tr>\n",
       "  </thead>\n",
       "  <tbody>\n",
       "    <tr>\n",
       "      <th>0</th>\n",
       "      <td>0.000342</td>\n",
       "      <td>0.000052</td>\n",
       "      <td>0.000587</td>\n",
       "      <td>0.000111</td>\n",
       "      <td>0.000617</td>\n",
       "      <td>0.000107</td>\n",
       "      <td>321.68</td>\n",
       "      <td>2.014362</td>\n",
       "      <td>0.000000</td>\n",
       "      <td>5.447156</td>\n",
       "      <td>...</td>\n",
       "      <td>0.015319</td>\n",
       "      <td>True</td>\n",
       "      <td>False</td>\n",
       "      <td>False</td>\n",
       "      <td>True</td>\n",
       "      <td>False</td>\n",
       "      <td>False</td>\n",
       "      <td>False</td>\n",
       "      <td>False</td>\n",
       "      <td>True</td>\n",
       "    </tr>\n",
       "    <tr>\n",
       "      <th>1</th>\n",
       "      <td>0.003967</td>\n",
       "      <td>0.000347</td>\n",
       "      <td>0.006399</td>\n",
       "      <td>0.000501</td>\n",
       "      <td>0.004988</td>\n",
       "      <td>0.000475</td>\n",
       "      <td>200.00</td>\n",
       "      <td>9.034548</td>\n",
       "      <td>0.781250</td>\n",
       "      <td>17.551070</td>\n",
       "      <td>...</td>\n",
       "      <td>0.015314</td>\n",
       "      <td>True</td>\n",
       "      <td>False</td>\n",
       "      <td>False</td>\n",
       "      <td>True</td>\n",
       "      <td>False</td>\n",
       "      <td>False</td>\n",
       "      <td>False</td>\n",
       "      <td>False</td>\n",
       "      <td>True</td>\n",
       "    </tr>\n",
       "    <tr>\n",
       "      <th>2</th>\n",
       "      <td>0.000135</td>\n",
       "      <td>0.000023</td>\n",
       "      <td>0.000204</td>\n",
       "      <td>0.000028</td>\n",
       "      <td>0.000157</td>\n",
       "      <td>0.000026</td>\n",
       "      <td>323.79</td>\n",
       "      <td>1.429895</td>\n",
       "      <td>0.195312</td>\n",
       "      <td>2.573894</td>\n",
       "      <td>...</td>\n",
       "      <td>0.015312</td>\n",
       "      <td>True</td>\n",
       "      <td>False</td>\n",
       "      <td>False</td>\n",
       "      <td>True</td>\n",
       "      <td>False</td>\n",
       "      <td>False</td>\n",
       "      <td>False</td>\n",
       "      <td>False</td>\n",
       "      <td>True</td>\n",
       "    </tr>\n",
       "    <tr>\n",
       "      <th>3</th>\n",
       "      <td>0.003166</td>\n",
       "      <td>0.000453</td>\n",
       "      <td>0.005030</td>\n",
       "      <td>0.000657</td>\n",
       "      <td>0.004669</td>\n",
       "      <td>0.000725</td>\n",
       "      <td>41.00</td>\n",
       "      <td>21.189954</td>\n",
       "      <td>14.062500</td>\n",
       "      <td>14.019404</td>\n",
       "      <td>...</td>\n",
       "      <td>0.001835</td>\n",
       "      <td>True</td>\n",
       "      <td>False</td>\n",
       "      <td>False</td>\n",
       "      <td>True</td>\n",
       "      <td>False</td>\n",
       "      <td>False</td>\n",
       "      <td>False</td>\n",
       "      <td>False</td>\n",
       "      <td>True</td>\n",
       "    </tr>\n",
       "    <tr>\n",
       "      <th>4</th>\n",
       "      <td>0.000011</td>\n",
       "      <td>0.000002</td>\n",
       "      <td>0.000021</td>\n",
       "      <td>0.000003</td>\n",
       "      <td>0.000018</td>\n",
       "      <td>0.000003</td>\n",
       "      <td>180.80</td>\n",
       "      <td>3.943366</td>\n",
       "      <td>0.195312</td>\n",
       "      <td>10.936094</td>\n",
       "      <td>...</td>\n",
       "      <td>0.015316</td>\n",
       "      <td>True</td>\n",
       "      <td>False</td>\n",
       "      <td>False</td>\n",
       "      <td>True</td>\n",
       "      <td>False</td>\n",
       "      <td>False</td>\n",
       "      <td>False</td>\n",
       "      <td>False</td>\n",
       "      <td>True</td>\n",
       "    </tr>\n",
       "  </tbody>\n",
       "</table>\n",
       "<p>5 rows × 91 columns</p>\n",
       "</div>"
      ],
      "text/plain": [
       "      max_V     rms_V    max_H1    rms_H1    max_H2    rms_H2  duration  \\\n",
       "0  0.000342  0.000052  0.000587  0.000111  0.000617  0.000107    321.68   \n",
       "1  0.003967  0.000347  0.006399  0.000501  0.004988  0.000475    200.00   \n",
       "2  0.000135  0.000023  0.000204  0.000028  0.000157  0.000026    323.79   \n",
       "3  0.003166  0.000453  0.005030  0.000657  0.004669  0.000725     41.00   \n",
       "4  0.000011  0.000002  0.000021  0.000003  0.000018  0.000003    180.80   \n",
       "\n",
       "       zcr_V  dom_freq_V  centroid_V  ...  FFT_PCA_62  1 Stiker Slip (SS)  \\\n",
       "0   2.014362    0.000000    5.447156  ...    0.015319                True   \n",
       "1   9.034548    0.781250   17.551070  ...    0.015314                True   \n",
       "2   1.429895    0.195312    2.573894  ...    0.015312                True   \n",
       "3  21.189954   14.062500   14.019404  ...    0.001835                True   \n",
       "4   3.943366    0.195312   10.936094  ...    0.015316                True   \n",
       "\n",
       "   2 Normal-Oblique (SO)  3 Reverse-Oblique (RO)   4-6    6-8  0-200  200-400  \\\n",
       "0                  False                   False  True  False  False    False   \n",
       "1                  False                   False  True  False  False    False   \n",
       "2                  False                   False  True  False  False    False   \n",
       "3                  False                   False  True  False  False    False   \n",
       "4                  False                   False  True  False  False    False   \n",
       "\n",
       "   400-600  600-  \n",
       "0    False  True  \n",
       "1    False  True  \n",
       "2    False  True  \n",
       "3    False  True  \n",
       "4    False  True  \n",
       "\n",
       "[5 rows x 91 columns]"
      ]
     },
     "execution_count": 79,
     "metadata": {},
     "output_type": "execute_result"
    }
   ],
   "source": [
    "\n",
    "# Cargar dataset procesado\n",
    "data_path = 'data/processed/dataset_final.json'\n",
    "df = pd.read_json(data_path)\n",
    "print('Dataset shape:', df.shape)\n",
    "df.head()\n"
   ]
  },
  {
   "cell_type": "code",
   "execution_count": 80,
   "id": "fb50ef24",
   "metadata": {},
   "outputs": [
    {
     "name": "stdout",
     "output_type": "stream",
     "text": [
      "Features shape: (1674, 82)\n",
      "Labels shape: (1674, 9)\n",
      "Label columns: ['1 Stiker Slip (SS)', '2 Normal-Oblique (SO)', '3 Reverse-Oblique (RO)', '4-6', '6-8', '0-200', '200-400', '400-600', '600-']\n"
     ]
    }
   ],
   "source": [
    "# Primero, definimos qué columnas son las etiquetas one-hot\n",
    "label_cols = [\n",
    "    '1 Stiker Slip (SS)', '2 Normal-Oblique (SO)', '3 Reverse-Oblique (RO)',\n",
    "    '4-6', '6-8', '0-200', '200-400', '400-600', '600-'\n",
    "]\n",
    "\n",
    "# Columnas que queremos eliminar de X porque no son features numéricas\n",
    "drop_cols = ['Archivo', 'Falla_lbl', 'Mag_lbl', 'Vs_lbl', 'Combo'] + label_cols\n",
    "\n",
    "# Ahora sí sacamos sólo las columnas numéricas para X\n",
    "feature_cols = [c for c in df.columns if c not in drop_cols]\n",
    "\n",
    "X = df[feature_cols].values\n",
    "y = df[label_cols].values\n",
    "\n",
    "print('Features shape:', X.shape)\n",
    "print('Labels shape:', y.shape)\n",
    "print('Label columns:', label_cols)"
   ]
  },
  {
   "cell_type": "code",
   "execution_count": 81,
   "id": "3c12bc4e",
   "metadata": {},
   "outputs": [
    {
     "name": "stdout",
     "output_type": "stream",
     "text": [
      "Train: (1004, 82) (1004, 9)\n",
      "Validation: (335, 82) (335, 9)\n",
      "Test: (335, 82) (335, 9)\n"
     ]
    }
   ],
   "source": [
    "\n",
    "# División Train(60%)/Val(20%)/Test(20%)\n",
    "X_train_val, X_test, y_train_val, y_test = train_test_split(\n",
    "    X, y, test_size=0.2, random_state=42, stratify=y)\n",
    "\n",
    "X_train, X_val, y_train, y_val = train_test_split(\n",
    "    X_train_val, y_train_val, test_size=0.25, random_state=42, stratify=y_train_val)\n",
    "\n",
    "print('Train:', X_train.shape, y_train.shape)\n",
    "print('Validation:', X_val.shape, y_val.shape)\n",
    "print('Test:', X_test.shape, y_test.shape)\n"
   ]
  },
  {
   "cell_type": "code",
   "execution_count": 82,
   "id": "f3a480bc",
   "metadata": {},
   "outputs": [],
   "source": [
    "\n",
    "# Pipeline de escalado y LogisticRegression multilabel\n",
    "pipeline = Pipeline([\n",
    "    ('scaler', StandardScaler()),\n",
    "    ('clf', OneVsRestClassifier(LogisticRegression(max_iter=1000, solver='lbfgs')))\n",
    "])\n"
   ]
  },
  {
   "cell_type": "code",
   "execution_count": 83,
   "id": "454eb1cd",
   "metadata": {},
   "outputs": [
    {
     "name": "stdout",
     "output_type": "stream",
     "text": [
      "Param grid: {'clf__estimator__C': [0.01, 0.1, 1, 10], 'clf__estimator__penalty': ['l2'], 'clf__estimator__solver': ['lbfgs']}\n"
     ]
    }
   ],
   "source": [
    "\n",
    "# Definir grid de hiperparámetros\n",
    "param_grid = {\n",
    "    'clf__estimator__C': [0.01, 0.1, 1, 10],\n",
    "    'clf__estimator__penalty': ['l2'],\n",
    "    'clf__estimator__solver': ['lbfgs'],\n",
    "}\n",
    "\n",
    "print('Param grid:', param_grid)\n"
   ]
  },
  {
   "cell_type": "code",
   "execution_count": 84,
   "id": "2a2128ee",
   "metadata": {},
   "outputs": [
    {
     "name": "stdout",
     "output_type": "stream",
     "text": [
      "Fitting 5 folds for each of 4 candidates, totalling 20 fits\n",
      "[CV] END clf__estimator__C=0.01, clf__estimator__penalty=l2, clf__estimator__solver=lbfgs; total time=   0.0s\n",
      "[CV] END clf__estimator__C=0.01, clf__estimator__penalty=l2, clf__estimator__solver=lbfgs; total time=   0.0s\n",
      "[CV] END clf__estimator__C=0.01, clf__estimator__penalty=l2, clf__estimator__solver=lbfgs; total time=   0.0s\n",
      "[CV] END clf__estimator__C=0.01, clf__estimator__penalty=l2, clf__estimator__solver=lbfgs; total time=   0.0s\n",
      "[CV] END clf__estimator__C=0.1, clf__estimator__penalty=l2, clf__estimator__solver=lbfgs; total time=   0.0s\n",
      "[CV] END clf__estimator__C=0.1, clf__estimator__penalty=l2, clf__estimator__solver=lbfgs; total time=   0.0s\n",
      "[CV] END clf__estimator__C=0.1, clf__estimator__penalty=l2, clf__estimator__solver=lbfgs; total time=   0.0s\n",
      "[CV] END clf__estimator__C=0.01, clf__estimator__penalty=l2, clf__estimator__solver=lbfgs; total time=   0.0s\n",
      "[CV] END clf__estimator__C=1, clf__estimator__penalty=l2, clf__estimator__solver=lbfgs; total time=   0.1s\n",
      "[CV] END clf__estimator__C=0.1, clf__estimator__penalty=l2, clf__estimator__solver=lbfgs; total time=   0.0s\n",
      "[CV] END clf__estimator__C=0.1, clf__estimator__penalty=l2, clf__estimator__solver=lbfgs; total time=   0.0s\n",
      "[CV] END clf__estimator__C=1, clf__estimator__penalty=l2, clf__estimator__solver=lbfgs; total time=   0.1s\n",
      "[CV] END clf__estimator__C=1, clf__estimator__penalty=l2, clf__estimator__solver=lbfgs; total time=   0.1s\n",
      "[CV] END clf__estimator__C=1, clf__estimator__penalty=l2, clf__estimator__solver=lbfgs; total time=   0.1s\n",
      "[CV] END clf__estimator__C=1, clf__estimator__penalty=l2, clf__estimator__solver=lbfgs; total time=   0.1s\n",
      "[CV] END clf__estimator__C=10, clf__estimator__penalty=l2, clf__estimator__solver=lbfgs; total time=   0.1s[CV] END clf__estimator__C=10, clf__estimator__penalty=l2, clf__estimator__solver=lbfgs; total time=   0.1s\n",
      "\n",
      "[CV] END clf__estimator__C=10, clf__estimator__penalty=l2, clf__estimator__solver=lbfgs; total time=   0.1s\n",
      "[CV] END clf__estimator__C=10, clf__estimator__penalty=l2, clf__estimator__solver=lbfgs; total time=   0.1s\n",
      "[CV] END clf__estimator__C=10, clf__estimator__penalty=l2, clf__estimator__solver=lbfgs; total time=   0.1s\n",
      "Best params: {'clf__estimator__C': 10, 'clf__estimator__penalty': 'l2', 'clf__estimator__solver': 'lbfgs'}\n",
      "Best CV score (micro f1): 0.5374970889649585\n"
     ]
    }
   ],
   "source": [
    "\n",
    "# Configurar GridSearchCV con KFold sobre entrenamiento\n",
    "cv = KFold(n_splits=5, shuffle=True, random_state=42)\n",
    "scorer = make_scorer(f1_score, average='micro')\n",
    "\n",
    "grid = GridSearchCV(\n",
    "    estimator=pipeline,\n",
    "    param_grid=param_grid,\n",
    "    scoring=scorer,\n",
    "    cv=cv,\n",
    "    n_jobs=-1,\n",
    "    verbose=2\n",
    ")\n",
    "\n",
    "# Ejecutar búsqueda\n",
    "grid.fit(X_train, y_train)\n",
    "print('Best params:', grid.best_params_)\n",
    "print('Best CV score (micro f1):', grid.best_score_)\n"
   ]
  },
  {
   "cell_type": "code",
   "execution_count": 85,
   "id": "abd4238e",
   "metadata": {},
   "outputs": [
    {
     "name": "stdout",
     "output_type": "stream",
     "text": [
      "Validation F1 Micro: 0.5331820760068066\n",
      "Validation F1 Macro: 0.4579893932981597\n",
      "\n",
      "Classification Report on Validation:\n",
      "\n",
      "                        precision    recall  f1-score   support\n",
      "\n",
      "    1 Stiker Slip (SS)       0.44      0.23      0.30       119\n",
      " 2 Normal-Oblique (SO)       0.41      0.22      0.29        77\n",
      "3 Reverse-Oblique (RO)       0.54      0.46      0.50       139\n",
      "                   4-6       0.80      0.76      0.78       188\n",
      "                   6-8       0.71      0.76      0.73       147\n",
      "                 0-200       0.44      0.18      0.26        38\n",
      "               200-400       0.55      0.30      0.38        98\n",
      "               400-600       0.46      0.28      0.35       107\n",
      "                  600-       0.64      0.47      0.54        92\n",
      "\n",
      "             micro avg       0.62      0.47      0.53      1005\n",
      "             macro avg       0.55      0.41      0.46      1005\n",
      "          weighted avg       0.59      0.47      0.51      1005\n",
      "           samples avg       0.66      0.47      0.52      1005\n",
      "\n"
     ]
    }
   ],
   "source": [
    "\n",
    "# Evaluar mejor modelo en validation\n",
    "best_model = grid.best_estimator_\n",
    "y_val_pred = best_model.predict(X_val)\n",
    "\n",
    "print('Validation F1 Micro:', f1_score(y_val, y_val_pred, average='micro'))\n",
    "print('Validation F1 Macro:', f1_score(y_val, y_val_pred, average='macro'))\n",
    "print('\\nClassification Report on Validation:\\n')\n",
    "print(classification_report(y_val, y_val_pred, target_names=label_cols, zero_division=0))\n"
   ]
  },
  {
   "cell_type": "code",
   "execution_count": 86,
   "id": "b601e25b",
   "metadata": {},
   "outputs": [
    {
     "name": "stdout",
     "output_type": "stream",
     "text": [
      "Test F1 Micro: 0.5499412455934195\n",
      "Test F1 Macro: 0.45148476037016305\n",
      "\n",
      "Classification Report on Test:\n",
      "\n",
      "                        precision    recall  f1-score   support\n",
      "\n",
      "    1 Stiker Slip (SS)       0.61      0.18      0.28       119\n",
      " 2 Normal-Oblique (SO)       0.50      0.18      0.27        77\n",
      "3 Reverse-Oblique (RO)       0.61      0.45      0.52       139\n",
      "                   4-6       0.80      0.82      0.81       188\n",
      "                   6-8       0.77      0.73      0.75       147\n",
      "                 0-200       0.44      0.11      0.17        38\n",
      "               200-400       0.47      0.29      0.36        97\n",
      "               400-600       0.52      0.25      0.34       107\n",
      "                  600-       0.64      0.51      0.57        93\n",
      "\n",
      "             micro avg       0.67      0.47      0.55      1005\n",
      "             macro avg       0.60      0.39      0.45      1005\n",
      "          weighted avg       0.63      0.47      0.52      1005\n",
      "           samples avg       0.69      0.47      0.53      1005\n",
      "\n"
     ]
    }
   ],
   "source": [
    "\n",
    "# Reentrenar en train+val\n",
    "best_model.fit(np.vstack([X_train, X_val]), np.vstack([y_train, y_val]))\n",
    "y_test_pred = best_model.predict(X_test)\n",
    "\n",
    "print('Test F1 Micro:', f1_score(y_test, y_test_pred, average='micro'))\n",
    "print('Test F1 Macro:', f1_score(y_test, y_test_pred, average='macro'))\n",
    "print('\\nClassification Report on Test:\\n')\n",
    "print(classification_report(y_test, y_test_pred, target_names=label_cols, zero_division=0))\n"
   ]
  },
  {
   "cell_type": "code",
   "execution_count": 87,
   "id": "16f14968",
   "metadata": {},
   "outputs": [
    {
     "name": "stdout",
     "output_type": "stream",
     "text": [
      "Modelo guardado en models/logreg_best_hyperparams.pkl\n"
     ]
    }
   ],
   "source": [
    "\n",
    "# Guardar el mejor modelo\n",
    "import joblib\n",
    "os.makedirs('models', exist_ok=True)\n",
    "joblib.dump(best_model, 'models/logreg_best_hyperparams.pkl')\n",
    "print('Modelo guardado en models/logreg_best_hyperparams.pkl')\n"
   ]
  }
 ],
 "metadata": {
  "kernelspec": {
   "display_name": "env",
   "language": "python",
   "name": "python3"
  },
  "language_info": {
   "codemirror_mode": {
    "name": "ipython",
    "version": 3
   },
   "file_extension": ".py",
   "mimetype": "text/x-python",
   "name": "python",
   "nbconvert_exporter": "python",
   "pygments_lexer": "ipython3",
   "version": "3.12.7"
  }
 },
 "nbformat": 4,
 "nbformat_minor": 5
}
