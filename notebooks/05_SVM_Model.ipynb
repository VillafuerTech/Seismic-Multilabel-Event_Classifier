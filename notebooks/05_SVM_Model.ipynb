{
    "cells": [
        {
            "cell_type": "markdown",
            "id": "34b80887",
            "metadata": {},
            "source": [
                "# SVM multietiqueta con búsqueda Repeated K‑Fold\n",
                "Se entrena un **Support Vector Machine** (kernel lineal) en esquema *One‑vs‑Rest* para clasificación multietiqueta. La búsqueda de hiperparámetros se realiza con **Repeated K‑Fold CV** (5×3).\n",
                "\n",
                "Se incluyen:\n",
                "* Gráfica de optimización de λ (λ = 1/C).\n",
                "* Curva de aprendizaje (F1‑micro)."
            ]
        },
        {
            "cell_type": "markdown",
            "id": "2dc42fdc",
            "metadata": {},
            "source": [
                "## Bloque 1 – Importaciones\n",
                "Añadimos `LinearSVC` y métricas relevantes."
            ]
        },
        {
            "cell_type": "code",
            "execution_count": 13,
            "id": "70b1d63f",
            "metadata": {},
            "outputs": [],
            "source": [
                "# ----- Bloque 1 -----\n",
                "import os, joblib, numpy as np, pandas as pd, matplotlib.pyplot as plt, seaborn as sns\n",
                "\n",
                "from sklearn.model_selection import train_test_split, RepeatedKFold, GridSearchCV, learning_curve\n",
                "from sklearn.preprocessing import StandardScaler\n",
                "from sklearn.svm import LinearSVC\n",
                "from sklearn.multiclass import OneVsRestClassifier\n",
                "from sklearn.pipeline import Pipeline\n",
                "from sklearn.metrics import f1_score, hamming_loss, make_scorer\n"
            ]
        },
        {
            "cell_type": "markdown",
            "id": "6a15f637",
            "metadata": {},
            "source": [
                "## Bloque 2 – Ruta\n"
            ]
        },
        {
            "cell_type": "code",
            "execution_count": 14,
            "id": "b276a69b",
            "metadata": {},
            "outputs": [],
            "source": [
                "# ----- Bloque 2 -----\n",
                "if os.path.basename(os.getcwd()) != 'Seismic-Multilabel-Event-Classifier':\n",
                "    os.chdir('..')\n",
                "    print('CWD ->', os.getcwd())"
            ]
        },
        {
            "cell_type": "markdown",
            "id": "ee8de557",
            "metadata": {},
            "source": [
                "## Bloque 3 – Carga de datos\n"
            ]
        },
        {
            "cell_type": "code",
            "execution_count": 15,
            "id": "fff8800d",
            "metadata": {},
            "outputs": [
                {
                    "name": "stdout",
                    "output_type": "stream",
                    "text": [
                        "Shape: (1674, 92)\n"
                    ]
                },
                {
                    "data": {
                        "text/html": [
                            "<div>\n",
                            "<style scoped>\n",
                            "    .dataframe tbody tr th:only-of-type {\n",
                            "        vertical-align: middle;\n",
                            "    }\n",
                            "\n",
                            "    .dataframe tbody tr th {\n",
                            "        vertical-align: top;\n",
                            "    }\n",
                            "\n",
                            "    .dataframe thead th {\n",
                            "        text-align: right;\n",
                            "    }\n",
                            "</style>\n",
                            "<table border=\"1\" class=\"dataframe\">\n",
                            "  <thead>\n",
                            "    <tr style=\"text-align: right;\">\n",
                            "      <th></th>\n",
                            "      <th>max_V</th>\n",
                            "      <th>rms_V</th>\n",
                            "      <th>max_H1</th>\n",
                            "      <th>rms_H1</th>\n",
                            "      <th>max_H2</th>\n",
                            "      <th>rms_H2</th>\n",
                            "      <th>duration</th>\n",
                            "      <th>zcr_V</th>\n",
                            "      <th>dom_freq_V</th>\n",
                            "      <th>centroid_V</th>\n",
                            "      <th>...</th>\n",
                            "      <th>1 Stiker Slip (SS)</th>\n",
                            "      <th>2 Normal-Oblique (SO)</th>\n",
                            "      <th>3 Reverse-Oblique (RO)</th>\n",
                            "      <th>4-6</th>\n",
                            "      <th>6-8</th>\n",
                            "      <th>0-200</th>\n",
                            "      <th>200-400</th>\n",
                            "      <th>400-600</th>\n",
                            "      <th>600-</th>\n",
                            "      <th>label</th>\n",
                            "    </tr>\n",
                            "  </thead>\n",
                            "  <tbody>\n",
                            "    <tr>\n",
                            "      <th>0</th>\n",
                            "      <td>0.000342</td>\n",
                            "      <td>0.000052</td>\n",
                            "      <td>0.000587</td>\n",
                            "      <td>0.000111</td>\n",
                            "      <td>0.000617</td>\n",
                            "      <td>0.000107</td>\n",
                            "      <td>321.68</td>\n",
                            "      <td>2.014362</td>\n",
                            "      <td>0.000000</td>\n",
                            "      <td>5.447156</td>\n",
                            "      <td>...</td>\n",
                            "      <td>True</td>\n",
                            "      <td>False</td>\n",
                            "      <td>False</td>\n",
                            "      <td>True</td>\n",
                            "      <td>False</td>\n",
                            "      <td>False</td>\n",
                            "      <td>False</td>\n",
                            "      <td>False</td>\n",
                            "      <td>True</td>\n",
                            "      <td>1 Stiker Slip (SS) | 4-6 | 600-</td>\n",
                            "    </tr>\n",
                            "    <tr>\n",
                            "      <th>1</th>\n",
                            "      <td>0.003967</td>\n",
                            "      <td>0.000347</td>\n",
                            "      <td>0.006399</td>\n",
                            "      <td>0.000501</td>\n",
                            "      <td>0.004988</td>\n",
                            "      <td>0.000475</td>\n",
                            "      <td>200.00</td>\n",
                            "      <td>9.034548</td>\n",
                            "      <td>0.781250</td>\n",
                            "      <td>17.551070</td>\n",
                            "      <td>...</td>\n",
                            "      <td>True</td>\n",
                            "      <td>False</td>\n",
                            "      <td>False</td>\n",
                            "      <td>True</td>\n",
                            "      <td>False</td>\n",
                            "      <td>False</td>\n",
                            "      <td>False</td>\n",
                            "      <td>False</td>\n",
                            "      <td>True</td>\n",
                            "      <td>1 Stiker Slip (SS) | 4-6 | 600-</td>\n",
                            "    </tr>\n",
                            "    <tr>\n",
                            "      <th>2</th>\n",
                            "      <td>0.000135</td>\n",
                            "      <td>0.000023</td>\n",
                            "      <td>0.000204</td>\n",
                            "      <td>0.000028</td>\n",
                            "      <td>0.000157</td>\n",
                            "      <td>0.000026</td>\n",
                            "      <td>323.79</td>\n",
                            "      <td>1.429895</td>\n",
                            "      <td>0.195312</td>\n",
                            "      <td>2.573894</td>\n",
                            "      <td>...</td>\n",
                            "      <td>True</td>\n",
                            "      <td>False</td>\n",
                            "      <td>False</td>\n",
                            "      <td>True</td>\n",
                            "      <td>False</td>\n",
                            "      <td>False</td>\n",
                            "      <td>False</td>\n",
                            "      <td>False</td>\n",
                            "      <td>True</td>\n",
                            "      <td>1 Stiker Slip (SS) | 4-6 | 600-</td>\n",
                            "    </tr>\n",
                            "    <tr>\n",
                            "      <th>3</th>\n",
                            "      <td>0.003166</td>\n",
                            "      <td>0.000453</td>\n",
                            "      <td>0.005030</td>\n",
                            "      <td>0.000657</td>\n",
                            "      <td>0.004669</td>\n",
                            "      <td>0.000725</td>\n",
                            "      <td>41.00</td>\n",
                            "      <td>21.189954</td>\n",
                            "      <td>14.062500</td>\n",
                            "      <td>14.019404</td>\n",
                            "      <td>...</td>\n",
                            "      <td>True</td>\n",
                            "      <td>False</td>\n",
                            "      <td>False</td>\n",
                            "      <td>True</td>\n",
                            "      <td>False</td>\n",
                            "      <td>False</td>\n",
                            "      <td>False</td>\n",
                            "      <td>False</td>\n",
                            "      <td>True</td>\n",
                            "      <td>1 Stiker Slip (SS) | 4-6 | 600-</td>\n",
                            "    </tr>\n",
                            "    <tr>\n",
                            "      <th>4</th>\n",
                            "      <td>0.000011</td>\n",
                            "      <td>0.000002</td>\n",
                            "      <td>0.000021</td>\n",
                            "      <td>0.000003</td>\n",
                            "      <td>0.000018</td>\n",
                            "      <td>0.000003</td>\n",
                            "      <td>180.80</td>\n",
                            "      <td>3.943366</td>\n",
                            "      <td>0.195312</td>\n",
                            "      <td>10.936094</td>\n",
                            "      <td>...</td>\n",
                            "      <td>True</td>\n",
                            "      <td>False</td>\n",
                            "      <td>False</td>\n",
                            "      <td>True</td>\n",
                            "      <td>False</td>\n",
                            "      <td>False</td>\n",
                            "      <td>False</td>\n",
                            "      <td>False</td>\n",
                            "      <td>True</td>\n",
                            "      <td>1 Stiker Slip (SS) | 4-6 | 600-</td>\n",
                            "    </tr>\n",
                            "  </tbody>\n",
                            "</table>\n",
                            "<p>5 rows × 92 columns</p>\n",
                            "</div>"
                        ],
                        "text/plain": [
                            "      max_V     rms_V    max_H1    rms_H1    max_H2    rms_H2  duration  \\\n",
                            "0  0.000342  0.000052  0.000587  0.000111  0.000617  0.000107    321.68   \n",
                            "1  0.003967  0.000347  0.006399  0.000501  0.004988  0.000475    200.00   \n",
                            "2  0.000135  0.000023  0.000204  0.000028  0.000157  0.000026    323.79   \n",
                            "3  0.003166  0.000453  0.005030  0.000657  0.004669  0.000725     41.00   \n",
                            "4  0.000011  0.000002  0.000021  0.000003  0.000018  0.000003    180.80   \n",
                            "\n",
                            "       zcr_V  dom_freq_V  centroid_V  ...  1 Stiker Slip (SS)  \\\n",
                            "0   2.014362    0.000000    5.447156  ...                True   \n",
                            "1   9.034548    0.781250   17.551070  ...                True   \n",
                            "2   1.429895    0.195312    2.573894  ...                True   \n",
                            "3  21.189954   14.062500   14.019404  ...                True   \n",
                            "4   3.943366    0.195312   10.936094  ...                True   \n",
                            "\n",
                            "   2 Normal-Oblique (SO)  3 Reverse-Oblique (RO)   4-6    6-8  0-200  200-400  \\\n",
                            "0                  False                   False  True  False  False    False   \n",
                            "1                  False                   False  True  False  False    False   \n",
                            "2                  False                   False  True  False  False    False   \n",
                            "3                  False                   False  True  False  False    False   \n",
                            "4                  False                   False  True  False  False    False   \n",
                            "\n",
                            "   400-600  600-                            label  \n",
                            "0    False  True  1 Stiker Slip (SS) | 4-6 | 600-  \n",
                            "1    False  True  1 Stiker Slip (SS) | 4-6 | 600-  \n",
                            "2    False  True  1 Stiker Slip (SS) | 4-6 | 600-  \n",
                            "3    False  True  1 Stiker Slip (SS) | 4-6 | 600-  \n",
                            "4    False  True  1 Stiker Slip (SS) | 4-6 | 600-  \n",
                            "\n",
                            "[5 rows x 92 columns]"
                        ]
                    },
                    "execution_count": 15,
                    "metadata": {},
                    "output_type": "execute_result"
                }
            ],
            "source": [
                "# ----- Bloque 3 -----\n",
                "df = pd.read_json('data/processed/dataset_final.json')\n",
                "print('Shape:', df.shape)\n",
                "df.head()"
            ]
        },
        {
            "cell_type": "markdown",
            "id": "7211fb2a",
            "metadata": {},
            "source": [
                "## Bloque 4 – Separación X/y\n"
            ]
        },
        {
            "cell_type": "code",
            "execution_count": 16,
            "id": "759ef862",
            "metadata": {},
            "outputs": [
                {
                    "name": "stdout",
                    "output_type": "stream",
                    "text": [
                        "X: (1674, 83) y: (1674, 9)\n"
                    ]
                }
            ],
            "source": [
                "# ----- Bloque 4 -----\n",
                "label_cols = ['1 Stiker Slip (SS)','2 Normal-Oblique (SO)','3 Reverse-Oblique (RO)',\n",
                "              '4-6','6-8','0-200','200-400','400-600','600-']\n",
                "drop_cols = ['Archivo','Falla_lbl','Mag_lbl','Vs_lbl','Combo'] + label_cols\n",
                "feature_cols = [c for c in df.columns if c not in drop_cols]\n",
                "\n",
                "X = df[feature_cols].values\n",
                "y = df[label_cols].values\n",
                "print('X:', X.shape, 'y:', y.shape)"
            ]
        },
        {
            "cell_type": "markdown",
            "id": "5cb983da",
            "metadata": {},
            "source": [
                "## Bloque 5 – Hold‑out Test\n"
            ]
        },
        {
            "cell_type": "code",
            "execution_count": 17,
            "id": "7b31a37d",
            "metadata": {},
            "outputs": [
                {
                    "name": "stdout",
                    "output_type": "stream",
                    "text": [
                        "Train: (1339, 83) Test: (335, 83)\n"
                    ]
                }
            ],
            "source": [
                "# ----- Bloque 5 -----\n",
                "X_train, X_test, y_train, y_test = train_test_split(\n",
                "    X, y, test_size=0.2, random_state=42, stratify=y)\n",
                "print('Train:', X_train.shape, 'Test:', X_test.shape)"
            ]
        },
        {
            "cell_type": "markdown",
            "id": "ee9689e8",
            "metadata": {},
            "source": [
                "## Bloque 6 – Pipeline base\n"
            ]
        },
        {
            "cell_type": "code",
            "execution_count": 18,
            "id": "543cf463",
            "metadata": {},
            "outputs": [],
            "source": [
                "# ----- Bloque 6 -----\n",
                "base_pipe = Pipeline([\n",
                "    ('scaler', StandardScaler()),\n",
                "    ('clf', OneVsRestClassifier(LinearSVC(max_iter=5000)))\n",
                "])"
            ]
        },
        {
            "cell_type": "markdown",
            "id": "02f3a85d",
            "metadata": {},
            "source": [
                "## Bloque 7 – Grid y Repeated K‑Fold\n"
            ]
        },
        {
            "cell_type": "code",
            "execution_count": 19,
            "id": "56fdd381",
            "metadata": {},
            "outputs": [
                {
                    "name": "stdout",
                    "output_type": "stream",
                    "text": [
                        "Fitting 15 folds for each of 10 candidates, totalling 150 fits\n",
                        "[CV] END ............................clf__estimator__C=0.001; total time=   0.0s\n",
                        "[CV] END ............................clf__estimator__C=0.001; total time=   0.0s\n",
                        "[CV] END ............................clf__estimator__C=0.001; total time=   0.0s\n",
                        "[CV] END ............................clf__estimator__C=0.001; total time=   0.0s\n",
                        "[CV] END ............................clf__estimator__C=0.001; total time=   0.0s\n",
                        "[CV] END ............................clf__estimator__C=0.001; total time=   0.0s\n",
                        "[CV] END .............clf__estimator__C=0.003593813663804626; total time=   0.0s\n",
                        "[CV] END ............................clf__estimator__C=0.001; total time=   0.0s\n",
                        "[CV] END .............clf__estimator__C=0.003593813663804626; total time=   0.0s\n",
                        "[CV] END .............clf__estimator__C=0.003593813663804626; total time=   0.0s\n",
                        "[CV] END ............................clf__estimator__C=0.001; total time=   0.0s\n",
                        "[CV] END ............................clf__estimator__C=0.001; total time=   0.0s\n",
                        "[CV] END .............clf__estimator__C=0.003593813663804626; total time=   0.0s\n",
                        "[CV] END .............clf__estimator__C=0.003593813663804626; total time=   0.0s\n",
                        "[CV] END .............clf__estimator__C=0.003593813663804626; total time=   0.0s\n",
                        "[CV] END .............clf__estimator__C=0.003593813663804626; total time=   0.0s\n",
                        "[CV] END .............clf__estimator__C=0.003593813663804626; total time=   0.0s\n",
                        "[CV] END .............clf__estimator__C=0.003593813663804626; total time=   0.0s\n",
                        "[CV] END ............................clf__estimator__C=0.001; total time=   0.0s\n",
                        "[CV] END .............clf__estimator__C=0.003593813663804626; total time=   0.0s\n",
                        "[CV] END .............clf__estimator__C=0.003593813663804626; total time=   0.0s\n",
                        "[CV] END ............................clf__estimator__C=0.001; total time=   0.0s\n",
                        "[CV] END .............clf__estimator__C=0.003593813663804626; total time=   0.0s\n",
                        "[CV] END .............clf__estimator__C=0.003593813663804626; total time=   0.0s\n",
                        "[CV] END .............clf__estimator__C=0.003593813663804626; total time=   0.0s\n",
                        "[CV] END ............................clf__estimator__C=0.001; total time=   0.0s\n",
                        "[CV] END .............clf__estimator__C=0.003593813663804626; total time=   0.0s\n",
                        "[CV] END ............................clf__estimator__C=0.001; total time=   0.0s\n",
                        "[CV] END ..............clf__estimator__C=0.01291549665014884; total time=   0.0s\n",
                        "[CV] END ............................clf__estimator__C=0.001; total time=   0.0s\n",
                        "[CV] END ..............clf__estimator__C=0.01291549665014884; total time=   0.0s\n",
                        "[CV] END ..............clf__estimator__C=0.01291549665014884; total time=   0.0s\n",
                        "[CV] END ..............clf__estimator__C=0.01291549665014884; total time=   0.0s\n",
                        "[CV] END ..............clf__estimator__C=0.01291549665014884; total time=   0.0s\n",
                        "[CV] END ..............clf__estimator__C=0.01291549665014884; total time=   0.0s\n",
                        "[CV] END ............................clf__estimator__C=0.001; total time=   0.0s\n",
                        "[CV] END ..............clf__estimator__C=0.01291549665014884; total time=   0.0s\n",
                        "[CV] END ..............clf__estimator__C=0.01291549665014884; total time=   0.0s\n",
                        "[CV] END ..............clf__estimator__C=0.01291549665014884; total time=   0.0s\n",
                        "[CV] END ..............clf__estimator__C=0.01291549665014884; total time=   0.0s\n",
                        "[CV] END ..............clf__estimator__C=0.01291549665014884; total time=   0.0s\n",
                        "[CV] END ..............clf__estimator__C=0.01291549665014884; total time=   0.0s\n",
                        "[CV] END ..............clf__estimator__C=0.01291549665014884; total time=   0.0s\n",
                        "[CV] END ..............clf__estimator__C=0.01291549665014884; total time=   0.0s\n",
                        "[CV] END ..............clf__estimator__C=0.01291549665014884; total time=   0.0s\n",
                        "[CV] END .............clf__estimator__C=0.046415888336127795; total time=   0.0s\n",
                        "[CV] END .............clf__estimator__C=0.046415888336127795; total time=   0.0s\n",
                        "[CV] END .............clf__estimator__C=0.046415888336127795; total time=   0.0s\n",
                        "[CV] END .............clf__estimator__C=0.046415888336127795; total time=   0.0s\n",
                        "[CV] END .............clf__estimator__C=0.046415888336127795; total time=   0.0s\n",
                        "[CV] END .............clf__estimator__C=0.046415888336127795; total time=   0.0s\n",
                        "[CV] END .............clf__estimator__C=0.046415888336127795; total time=   0.0s\n",
                        "[CV] END .............clf__estimator__C=0.046415888336127795; total time=   0.0s\n",
                        "[CV] END .............clf__estimator__C=0.046415888336127795; total time=   0.0s\n",
                        "[CV] END .............clf__estimator__C=0.046415888336127795; total time=   0.0s\n",
                        "[CV] END .............clf__estimator__C=0.046415888336127795; total time=   0.0s\n",
                        "[CV] END .............clf__estimator__C=0.046415888336127795; total time=   0.0s\n",
                        "[CV] END .............clf__estimator__C=0.046415888336127795; total time=   0.0s\n",
                        "[CV] END .............clf__estimator__C=0.046415888336127795; total time=   0.0s\n",
                        "[CV] END .............clf__estimator__C=0.046415888336127795; total time=   0.0s\n",
                        "[CV] END ...............clf__estimator__C=0.1668100537200059; total time=   0.0s\n",
                        "[CV] END ...............clf__estimator__C=0.1668100537200059; total time=   0.0s\n",
                        "[CV] END ...............clf__estimator__C=0.1668100537200059; total time=   0.0s\n",
                        "[CV] END ...............clf__estimator__C=0.1668100537200059; total time=   0.0s\n",
                        "[CV] END ...............clf__estimator__C=0.1668100537200059; total time=   0.0s\n",
                        "[CV] END ...............clf__estimator__C=0.1668100537200059; total time=   0.0s\n",
                        "[CV] END ...............clf__estimator__C=0.1668100537200059; total time=   0.0s\n",
                        "[CV] END ...............clf__estimator__C=0.1668100537200059; total time=   0.0s\n",
                        "[CV] END ...............clf__estimator__C=0.1668100537200059; total time=   0.0s\n",
                        "[CV] END ...............clf__estimator__C=0.1668100537200059; total time=   0.0s\n",
                        "[CV] END ...............clf__estimator__C=0.1668100537200059; total time=   0.0s\n",
                        "[CV] END ...............clf__estimator__C=0.1668100537200059; total time=   0.0s\n",
                        "[CV] END ...............clf__estimator__C=0.1668100537200059; total time=   0.0s\n",
                        "[CV] END ...............clf__estimator__C=0.1668100537200059; total time=   0.0s\n",
                        "[CV] END ...............clf__estimator__C=0.1668100537200059; total time=   0.0s\n",
                        "[CV] END ...............clf__estimator__C=0.5994842503189409; total time=   0.0s\n",
                        "[CV] END ...............clf__estimator__C=0.5994842503189409; total time=   0.0s\n",
                        "[CV] END ...............clf__estimator__C=0.5994842503189409; total time=   0.0s\n",
                        "[CV] END ...............clf__estimator__C=0.5994842503189409; total time=   0.0s\n",
                        "[CV] END ...............clf__estimator__C=0.5994842503189409; total time=   0.0s\n",
                        "[CV] END ...............clf__estimator__C=0.5994842503189409; total time=   0.0s\n",
                        "[CV] END ...............clf__estimator__C=0.5994842503189409; total time=   0.0s\n",
                        "[CV] END ...............clf__estimator__C=0.5994842503189409; total time=   0.0s\n",
                        "[CV] END ...............clf__estimator__C=0.5994842503189409; total time=   0.0s\n",
                        "[CV] END ...............clf__estimator__C=0.5994842503189409; total time=   0.0s\n",
                        "[CV] END ...............clf__estimator__C=0.5994842503189409; total time=   0.0s\n",
                        "[CV] END ...............clf__estimator__C=0.5994842503189409; total time=   0.0s\n",
                        "[CV] END ...............clf__estimator__C=0.5994842503189409; total time=   0.0s\n",
                        "[CV] END ...............clf__estimator__C=0.5994842503189409; total time=   0.0s\n",
                        "[CV] END ...............clf__estimator__C=0.5994842503189409; total time=   0.0s\n",
                        "[CV] END ...............clf__estimator__C=2.1544346900318843; total time=   0.0s\n",
                        "[CV] END ...............clf__estimator__C=2.1544346900318843; total time=   0.0s\n",
                        "[CV] END ...............clf__estimator__C=2.1544346900318843; total time=   0.0s\n",
                        "[CV] END ...............clf__estimator__C=2.1544346900318843; total time=   0.0s\n",
                        "[CV] END ...............clf__estimator__C=2.1544346900318843; total time=   0.0s\n",
                        "[CV] END ...............clf__estimator__C=2.1544346900318843; total time=   0.0s\n",
                        "[CV] END ...............clf__estimator__C=2.1544346900318843; total time=   0.0s\n",
                        "[CV] END ...............clf__estimator__C=2.1544346900318843; total time=   0.0s\n",
                        "[CV] END ...............clf__estimator__C=2.1544346900318843; total time=   0.0s\n",
                        "[CV] END ...............clf__estimator__C=2.1544346900318843; total time=   0.0s\n",
                        "[CV] END ...............clf__estimator__C=2.1544346900318843; total time=   0.0s\n",
                        "[CV] END ...............clf__estimator__C=2.1544346900318843; total time=   0.0s\n",
                        "[CV] END ...............clf__estimator__C=2.1544346900318843; total time=   0.0s\n",
                        "[CV] END ...............clf__estimator__C=2.1544346900318843; total time=   0.0s\n",
                        "[CV] END ...............clf__estimator__C=2.1544346900318843; total time=   0.0s\n",
                        "[CV] END ................clf__estimator__C=7.742636826811277; total time=   0.0s\n",
                        "[CV] END ................clf__estimator__C=7.742636826811277; total time=   0.0s\n",
                        "[CV] END ................clf__estimator__C=7.742636826811277; total time=   0.0s\n",
                        "[CV] END ................clf__estimator__C=7.742636826811277; total time=   0.0s\n",
                        "[CV] END ................clf__estimator__C=7.742636826811277; total time=   0.0s\n",
                        "[CV] END ................clf__estimator__C=7.742636826811277; total time=   0.0s\n",
                        "[CV] END ................clf__estimator__C=7.742636826811277; total time=   0.0s\n",
                        "[CV] END ................clf__estimator__C=7.742636826811277; total time=   0.0s\n",
                        "[CV] END ................clf__estimator__C=7.742636826811277; total time=   0.0s\n",
                        "[CV] END ................clf__estimator__C=7.742636826811277; total time=   0.0s\n",
                        "[CV] END ................clf__estimator__C=7.742636826811277; total time=   0.0s\n",
                        "[CV] END ................clf__estimator__C=7.742636826811277; total time=   0.0s\n",
                        "[CV] END ................clf__estimator__C=7.742636826811277; total time=   0.0s\n",
                        "[CV] END ................clf__estimator__C=7.742636826811277; total time=   0.0s\n",
                        "[CV] END ................clf__estimator__C=7.742636826811277; total time=   0.0s\n",
                        "[CV] END ...............clf__estimator__C=27.825594022071257; total time=   0.0s\n",
                        "[CV] END ...............clf__estimator__C=27.825594022071257; total time=   0.0s\n",
                        "[CV] END ...............clf__estimator__C=27.825594022071257; total time=   0.0s\n",
                        "[CV] END ...............clf__estimator__C=27.825594022071257; total time=   0.0s\n",
                        "[CV] END ...............clf__estimator__C=27.825594022071257; total time=   0.0s\n",
                        "[CV] END ...............clf__estimator__C=27.825594022071257; total time=   0.0s\n",
                        "[CV] END ...............clf__estimator__C=27.825594022071257; total time=   0.0s\n",
                        "[CV] END ...............clf__estimator__C=27.825594022071257; total time=   0.0s\n",
                        "[CV] END ...............clf__estimator__C=27.825594022071257; total time=   0.0s\n",
                        "[CV] END ...............clf__estimator__C=27.825594022071257; total time=   0.0s\n",
                        "[CV] END ...............clf__estimator__C=27.825594022071257; total time=   0.0s\n",
                        "[CV] END ...............clf__estimator__C=27.825594022071257; total time=   0.0s\n",
                        "[CV] END ...............clf__estimator__C=27.825594022071257; total time=   0.0s\n",
                        "[CV] END ...............clf__estimator__C=27.825594022071257; total time=   0.0s\n",
                        "[CV] END ...............clf__estimator__C=27.825594022071257; total time=   0.0s\n",
                        "[CV] END ............................clf__estimator__C=100.0; total time=   0.0s\n",
                        "[CV] END ............................clf__estimator__C=100.0; total time=   0.0s\n",
                        "[CV] END ............................clf__estimator__C=100.0; total time=   0.0s\n",
                        "[CV] END ............................clf__estimator__C=100.0; total time=   0.0s\n",
                        "[CV] END ............................clf__estimator__C=100.0; total time=   0.0s\n",
                        "[CV] END ............................clf__estimator__C=100.0; total time=   0.0s\n",
                        "[CV] END ............................clf__estimator__C=100.0; total time=   0.0s\n",
                        "[CV] END ............................clf__estimator__C=100.0; total time=   0.0s\n",
                        "[CV] END ............................clf__estimator__C=100.0; total time=   0.0s\n",
                        "[CV] END ............................clf__estimator__C=100.0; total time=   0.0s\n",
                        "[CV] END ............................clf__estimator__C=100.0; total time=   0.0s\n",
                        "[CV] END ............................clf__estimator__C=100.0; total time=   0.0s\n",
                        "[CV] END ............................clf__estimator__C=100.0; total time=   0.0s\n",
                        "[CV] END ............................clf__estimator__C=100.0; total time=   0.0s\n",
                        "[CV] END ............................clf__estimator__C=100.0; total time=   0.0s\n"
                    ]
                },
                {
                    "ename": "ValueError",
                    "evalue": "\nAll the 150 fits failed.\nIt is very likely that your model is misconfigured.\nYou can try to debug the error by setting error_score='raise'.\n\nBelow are more details about the failures:\n--------------------------------------------------------------------------------\n120 fits failed with the following error:\nTraceback (most recent call last):\n  File \"/Users/villafuertech/Documents/Academic/University/Sexto_Semestre/Machine_Learning/Seismic-Multilabel-Event-Classifier/env/lib/python3.12/site-packages/sklearn/model_selection/_validation.py\", line 866, in _fit_and_score\n    estimator.fit(X_train, y_train, **fit_params)\n  File \"/Users/villafuertech/Documents/Academic/University/Sexto_Semestre/Machine_Learning/Seismic-Multilabel-Event-Classifier/env/lib/python3.12/site-packages/sklearn/base.py\", line 1389, in wrapper\n    return fit_method(estimator, *args, **kwargs)\n           ^^^^^^^^^^^^^^^^^^^^^^^^^^^^^^^^^^^^^^\n  File \"/Users/villafuertech/Documents/Academic/University/Sexto_Semestre/Machine_Learning/Seismic-Multilabel-Event-Classifier/env/lib/python3.12/site-packages/sklearn/pipeline.py\", line 654, in fit\n    Xt = self._fit(X, y, routed_params, raw_params=params)\n         ^^^^^^^^^^^^^^^^^^^^^^^^^^^^^^^^^^^^^^^^^^^^^^^^^\n  File \"/Users/villafuertech/Documents/Academic/University/Sexto_Semestre/Machine_Learning/Seismic-Multilabel-Event-Classifier/env/lib/python3.12/site-packages/sklearn/pipeline.py\", line 588, in _fit\n    X, fitted_transformer = fit_transform_one_cached(\n                            ^^^^^^^^^^^^^^^^^^^^^^^^^\n  File \"/Users/villafuertech/Documents/Academic/University/Sexto_Semestre/Machine_Learning/Seismic-Multilabel-Event-Classifier/env/lib/python3.12/site-packages/joblib/memory.py\", line 312, in __call__\n    return self.func(*args, **kwargs)\n           ^^^^^^^^^^^^^^^^^^^^^^^^^^\n  File \"/Users/villafuertech/Documents/Academic/University/Sexto_Semestre/Machine_Learning/Seismic-Multilabel-Event-Classifier/env/lib/python3.12/site-packages/sklearn/pipeline.py\", line 1551, in _fit_transform_one\n    res = transformer.fit_transform(X, y, **params.get(\"fit_transform\", {}))\n          ^^^^^^^^^^^^^^^^^^^^^^^^^^^^^^^^^^^^^^^^^^^^^^^^^^^^^^^^^^^^^^^^^^\n  File \"/Users/villafuertech/Documents/Academic/University/Sexto_Semestre/Machine_Learning/Seismic-Multilabel-Event-Classifier/env/lib/python3.12/site-packages/sklearn/utils/_set_output.py\", line 319, in wrapped\n    data_to_wrap = f(self, X, *args, **kwargs)\n                   ^^^^^^^^^^^^^^^^^^^^^^^^^^^\n  File \"/Users/villafuertech/Documents/Academic/University/Sexto_Semestre/Machine_Learning/Seismic-Multilabel-Event-Classifier/env/lib/python3.12/site-packages/sklearn/base.py\", line 921, in fit_transform\n    return self.fit(X, y, **fit_params).transform(X)\n           ^^^^^^^^^^^^^^^^^^^^^^^^^^^^\n  File \"/Users/villafuertech/Documents/Academic/University/Sexto_Semestre/Machine_Learning/Seismic-Multilabel-Event-Classifier/env/lib/python3.12/site-packages/sklearn/preprocessing/_data.py\", line 894, in fit\n    return self.partial_fit(X, y, sample_weight)\n           ^^^^^^^^^^^^^^^^^^^^^^^^^^^^^^^^^^^^^\n  File \"/Users/villafuertech/Documents/Academic/University/Sexto_Semestre/Machine_Learning/Seismic-Multilabel-Event-Classifier/env/lib/python3.12/site-packages/sklearn/base.py\", line 1389, in wrapper\n    return fit_method(estimator, *args, **kwargs)\n           ^^^^^^^^^^^^^^^^^^^^^^^^^^^^^^^^^^^^^^\n  File \"/Users/villafuertech/Documents/Academic/University/Sexto_Semestre/Machine_Learning/Seismic-Multilabel-Event-Classifier/env/lib/python3.12/site-packages/sklearn/preprocessing/_data.py\", line 930, in partial_fit\n    X = validate_data(\n        ^^^^^^^^^^^^^^\n  File \"/Users/villafuertech/Documents/Academic/University/Sexto_Semestre/Machine_Learning/Seismic-Multilabel-Event-Classifier/env/lib/python3.12/site-packages/sklearn/utils/validation.py\", line 2944, in validate_data\n    out = check_array(X, input_name=\"X\", **check_params)\n          ^^^^^^^^^^^^^^^^^^^^^^^^^^^^^^^^^^^^^^^^^^^^^^\n  File \"/Users/villafuertech/Documents/Academic/University/Sexto_Semestre/Machine_Learning/Seismic-Multilabel-Event-Classifier/env/lib/python3.12/site-packages/sklearn/utils/validation.py\", line 1055, in check_array\n    array = _asarray_with_order(array, order=order, dtype=dtype, xp=xp)\n            ^^^^^^^^^^^^^^^^^^^^^^^^^^^^^^^^^^^^^^^^^^^^^^^^^^^^^^^^^^^\n  File \"/Users/villafuertech/Documents/Academic/University/Sexto_Semestre/Machine_Learning/Seismic-Multilabel-Event-Classifier/env/lib/python3.12/site-packages/sklearn/utils/_array_api.py\", line 839, in _asarray_with_order\n    array = numpy.asarray(array, order=order, dtype=dtype)\n            ^^^^^^^^^^^^^^^^^^^^^^^^^^^^^^^^^^^^^^^^^^^^^^\nValueError: could not convert string to float: '2 Normal-Oblique (SO) | 6-8 | 400-600'\n\n--------------------------------------------------------------------------------\n30 fits failed with the following error:\nTraceback (most recent call last):\n  File \"/Users/villafuertech/Documents/Academic/University/Sexto_Semestre/Machine_Learning/Seismic-Multilabel-Event-Classifier/env/lib/python3.12/site-packages/sklearn/model_selection/_validation.py\", line 866, in _fit_and_score\n    estimator.fit(X_train, y_train, **fit_params)\n  File \"/Users/villafuertech/Documents/Academic/University/Sexto_Semestre/Machine_Learning/Seismic-Multilabel-Event-Classifier/env/lib/python3.12/site-packages/sklearn/base.py\", line 1389, in wrapper\n    return fit_method(estimator, *args, **kwargs)\n           ^^^^^^^^^^^^^^^^^^^^^^^^^^^^^^^^^^^^^^\n  File \"/Users/villafuertech/Documents/Academic/University/Sexto_Semestre/Machine_Learning/Seismic-Multilabel-Event-Classifier/env/lib/python3.12/site-packages/sklearn/pipeline.py\", line 654, in fit\n    Xt = self._fit(X, y, routed_params, raw_params=params)\n         ^^^^^^^^^^^^^^^^^^^^^^^^^^^^^^^^^^^^^^^^^^^^^^^^^\n  File \"/Users/villafuertech/Documents/Academic/University/Sexto_Semestre/Machine_Learning/Seismic-Multilabel-Event-Classifier/env/lib/python3.12/site-packages/sklearn/pipeline.py\", line 588, in _fit\n    X, fitted_transformer = fit_transform_one_cached(\n                            ^^^^^^^^^^^^^^^^^^^^^^^^^\n  File \"/Users/villafuertech/Documents/Academic/University/Sexto_Semestre/Machine_Learning/Seismic-Multilabel-Event-Classifier/env/lib/python3.12/site-packages/joblib/memory.py\", line 312, in __call__\n    return self.func(*args, **kwargs)\n           ^^^^^^^^^^^^^^^^^^^^^^^^^^\n  File \"/Users/villafuertech/Documents/Academic/University/Sexto_Semestre/Machine_Learning/Seismic-Multilabel-Event-Classifier/env/lib/python3.12/site-packages/sklearn/pipeline.py\", line 1551, in _fit_transform_one\n    res = transformer.fit_transform(X, y, **params.get(\"fit_transform\", {}))\n          ^^^^^^^^^^^^^^^^^^^^^^^^^^^^^^^^^^^^^^^^^^^^^^^^^^^^^^^^^^^^^^^^^^\n  File \"/Users/villafuertech/Documents/Academic/University/Sexto_Semestre/Machine_Learning/Seismic-Multilabel-Event-Classifier/env/lib/python3.12/site-packages/sklearn/utils/_set_output.py\", line 319, in wrapped\n    data_to_wrap = f(self, X, *args, **kwargs)\n                   ^^^^^^^^^^^^^^^^^^^^^^^^^^^\n  File \"/Users/villafuertech/Documents/Academic/University/Sexto_Semestre/Machine_Learning/Seismic-Multilabel-Event-Classifier/env/lib/python3.12/site-packages/sklearn/base.py\", line 921, in fit_transform\n    return self.fit(X, y, **fit_params).transform(X)\n           ^^^^^^^^^^^^^^^^^^^^^^^^^^^^\n  File \"/Users/villafuertech/Documents/Academic/University/Sexto_Semestre/Machine_Learning/Seismic-Multilabel-Event-Classifier/env/lib/python3.12/site-packages/sklearn/preprocessing/_data.py\", line 894, in fit\n    return self.partial_fit(X, y, sample_weight)\n           ^^^^^^^^^^^^^^^^^^^^^^^^^^^^^^^^^^^^^\n  File \"/Users/villafuertech/Documents/Academic/University/Sexto_Semestre/Machine_Learning/Seismic-Multilabel-Event-Classifier/env/lib/python3.12/site-packages/sklearn/base.py\", line 1389, in wrapper\n    return fit_method(estimator, *args, **kwargs)\n           ^^^^^^^^^^^^^^^^^^^^^^^^^^^^^^^^^^^^^^\n  File \"/Users/villafuertech/Documents/Academic/University/Sexto_Semestre/Machine_Learning/Seismic-Multilabel-Event-Classifier/env/lib/python3.12/site-packages/sklearn/preprocessing/_data.py\", line 930, in partial_fit\n    X = validate_data(\n        ^^^^^^^^^^^^^^\n  File \"/Users/villafuertech/Documents/Academic/University/Sexto_Semestre/Machine_Learning/Seismic-Multilabel-Event-Classifier/env/lib/python3.12/site-packages/sklearn/utils/validation.py\", line 2944, in validate_data\n    out = check_array(X, input_name=\"X\", **check_params)\n          ^^^^^^^^^^^^^^^^^^^^^^^^^^^^^^^^^^^^^^^^^^^^^^\n  File \"/Users/villafuertech/Documents/Academic/University/Sexto_Semestre/Machine_Learning/Seismic-Multilabel-Event-Classifier/env/lib/python3.12/site-packages/sklearn/utils/validation.py\", line 1055, in check_array\n    array = _asarray_with_order(array, order=order, dtype=dtype, xp=xp)\n            ^^^^^^^^^^^^^^^^^^^^^^^^^^^^^^^^^^^^^^^^^^^^^^^^^^^^^^^^^^^\n  File \"/Users/villafuertech/Documents/Academic/University/Sexto_Semestre/Machine_Learning/Seismic-Multilabel-Event-Classifier/env/lib/python3.12/site-packages/sklearn/utils/_array_api.py\", line 839, in _asarray_with_order\n    array = numpy.asarray(array, order=order, dtype=dtype)\n            ^^^^^^^^^^^^^^^^^^^^^^^^^^^^^^^^^^^^^^^^^^^^^^\nValueError: could not convert string to float: '1 Stiker Slip (SS) | 4-6 | 400-600'\n",
                    "output_type": "error",
                    "traceback": [
                        "\u001b[31m---------------------------------------------------------------------------\u001b[39m",
                        "\u001b[31mValueError\u001b[39m                                Traceback (most recent call last)",
                        "\u001b[36mCell\u001b[39m\u001b[36m \u001b[39m\u001b[32mIn[19]\u001b[39m\u001b[32m, line 10\u001b[39m\n\u001b[32m      6\u001b[39m scorer = make_scorer(f1_score, average=\u001b[33m'\u001b[39m\u001b[33mmicro\u001b[39m\u001b[33m'\u001b[39m)\n\u001b[32m      8\u001b[39m grid = GridSearchCV(base_pipe, param_grid, scoring=scorer,\n\u001b[32m      9\u001b[39m                     cv=rkf, n_jobs=-\u001b[32m1\u001b[39m, verbose=\u001b[32m2\u001b[39m)\n\u001b[32m---> \u001b[39m\u001b[32m10\u001b[39m \u001b[43mgrid\u001b[49m\u001b[43m.\u001b[49m\u001b[43mfit\u001b[49m\u001b[43m(\u001b[49m\u001b[43mX_train\u001b[49m\u001b[43m,\u001b[49m\u001b[43m \u001b[49m\u001b[43my_train\u001b[49m\u001b[43m)\u001b[49m\n\u001b[32m     12\u001b[39m best_C = grid.best_params_[\u001b[33m'\u001b[39m\u001b[33mclf__estimator__C\u001b[39m\u001b[33m'\u001b[39m]\n\u001b[32m     13\u001b[39m \u001b[38;5;28mprint\u001b[39m(\u001b[33m'\u001b[39m\u001b[33mMejor C:\u001b[39m\u001b[33m'\u001b[39m, best_C)\n",
                        "\u001b[36mFile \u001b[39m\u001b[32m~/Documents/Academic/University/Sexto_Semestre/Machine_Learning/Seismic-Multilabel-Event-Classifier/env/lib/python3.12/site-packages/sklearn/base.py:1389\u001b[39m, in \u001b[36m_fit_context.<locals>.decorator.<locals>.wrapper\u001b[39m\u001b[34m(estimator, *args, **kwargs)\u001b[39m\n\u001b[32m   1382\u001b[39m     estimator._validate_params()\n\u001b[32m   1384\u001b[39m \u001b[38;5;28;01mwith\u001b[39;00m config_context(\n\u001b[32m   1385\u001b[39m     skip_parameter_validation=(\n\u001b[32m   1386\u001b[39m         prefer_skip_nested_validation \u001b[38;5;129;01mor\u001b[39;00m global_skip_validation\n\u001b[32m   1387\u001b[39m     )\n\u001b[32m   1388\u001b[39m ):\n\u001b[32m-> \u001b[39m\u001b[32m1389\u001b[39m     \u001b[38;5;28;01mreturn\u001b[39;00m \u001b[43mfit_method\u001b[49m\u001b[43m(\u001b[49m\u001b[43mestimator\u001b[49m\u001b[43m,\u001b[49m\u001b[43m \u001b[49m\u001b[43m*\u001b[49m\u001b[43margs\u001b[49m\u001b[43m,\u001b[49m\u001b[43m \u001b[49m\u001b[43m*\u001b[49m\u001b[43m*\u001b[49m\u001b[43mkwargs\u001b[49m\u001b[43m)\u001b[49m\n",
                        "\u001b[36mFile \u001b[39m\u001b[32m~/Documents/Academic/University/Sexto_Semestre/Machine_Learning/Seismic-Multilabel-Event-Classifier/env/lib/python3.12/site-packages/sklearn/model_selection/_search.py:1024\u001b[39m, in \u001b[36mBaseSearchCV.fit\u001b[39m\u001b[34m(self, X, y, **params)\u001b[39m\n\u001b[32m   1018\u001b[39m     results = \u001b[38;5;28mself\u001b[39m._format_results(\n\u001b[32m   1019\u001b[39m         all_candidate_params, n_splits, all_out, all_more_results\n\u001b[32m   1020\u001b[39m     )\n\u001b[32m   1022\u001b[39m     \u001b[38;5;28;01mreturn\u001b[39;00m results\n\u001b[32m-> \u001b[39m\u001b[32m1024\u001b[39m \u001b[38;5;28;43mself\u001b[39;49m\u001b[43m.\u001b[49m\u001b[43m_run_search\u001b[49m\u001b[43m(\u001b[49m\u001b[43mevaluate_candidates\u001b[49m\u001b[43m)\u001b[49m\n\u001b[32m   1026\u001b[39m \u001b[38;5;66;03m# multimetric is determined here because in the case of a callable\u001b[39;00m\n\u001b[32m   1027\u001b[39m \u001b[38;5;66;03m# self.scoring the return type is only known after calling\u001b[39;00m\n\u001b[32m   1028\u001b[39m first_test_score = all_out[\u001b[32m0\u001b[39m][\u001b[33m\"\u001b[39m\u001b[33mtest_scores\u001b[39m\u001b[33m\"\u001b[39m]\n",
                        "\u001b[36mFile \u001b[39m\u001b[32m~/Documents/Academic/University/Sexto_Semestre/Machine_Learning/Seismic-Multilabel-Event-Classifier/env/lib/python3.12/site-packages/sklearn/model_selection/_search.py:1571\u001b[39m, in \u001b[36mGridSearchCV._run_search\u001b[39m\u001b[34m(self, evaluate_candidates)\u001b[39m\n\u001b[32m   1569\u001b[39m \u001b[38;5;28;01mdef\u001b[39;00m\u001b[38;5;250m \u001b[39m\u001b[34m_run_search\u001b[39m(\u001b[38;5;28mself\u001b[39m, evaluate_candidates):\n\u001b[32m   1570\u001b[39m \u001b[38;5;250m    \u001b[39m\u001b[33;03m\"\"\"Search all candidates in param_grid\"\"\"\u001b[39;00m\n\u001b[32m-> \u001b[39m\u001b[32m1571\u001b[39m     \u001b[43mevaluate_candidates\u001b[49m\u001b[43m(\u001b[49m\u001b[43mParameterGrid\u001b[49m\u001b[43m(\u001b[49m\u001b[38;5;28;43mself\u001b[39;49m\u001b[43m.\u001b[49m\u001b[43mparam_grid\u001b[49m\u001b[43m)\u001b[49m\u001b[43m)\u001b[49m\n",
                        "\u001b[36mFile \u001b[39m\u001b[32m~/Documents/Academic/University/Sexto_Semestre/Machine_Learning/Seismic-Multilabel-Event-Classifier/env/lib/python3.12/site-packages/sklearn/model_selection/_search.py:1001\u001b[39m, in \u001b[36mBaseSearchCV.fit.<locals>.evaluate_candidates\u001b[39m\u001b[34m(candidate_params, cv, more_results)\u001b[39m\n\u001b[32m    994\u001b[39m \u001b[38;5;28;01melif\u001b[39;00m \u001b[38;5;28mlen\u001b[39m(out) != n_candidates * n_splits:\n\u001b[32m    995\u001b[39m     \u001b[38;5;28;01mraise\u001b[39;00m \u001b[38;5;167;01mValueError\u001b[39;00m(\n\u001b[32m    996\u001b[39m         \u001b[33m\"\u001b[39m\u001b[33mcv.split and cv.get_n_splits returned \u001b[39m\u001b[33m\"\u001b[39m\n\u001b[32m    997\u001b[39m         \u001b[33m\"\u001b[39m\u001b[33minconsistent results. Expected \u001b[39m\u001b[38;5;132;01m{}\u001b[39;00m\u001b[33m \u001b[39m\u001b[33m\"\u001b[39m\n\u001b[32m    998\u001b[39m         \u001b[33m\"\u001b[39m\u001b[33msplits, got \u001b[39m\u001b[38;5;132;01m{}\u001b[39;00m\u001b[33m\"\u001b[39m.format(n_splits, \u001b[38;5;28mlen\u001b[39m(out) // n_candidates)\n\u001b[32m    999\u001b[39m     )\n\u001b[32m-> \u001b[39m\u001b[32m1001\u001b[39m \u001b[43m_warn_or_raise_about_fit_failures\u001b[49m\u001b[43m(\u001b[49m\u001b[43mout\u001b[49m\u001b[43m,\u001b[49m\u001b[43m \u001b[49m\u001b[38;5;28;43mself\u001b[39;49m\u001b[43m.\u001b[49m\u001b[43merror_score\u001b[49m\u001b[43m)\u001b[49m\n\u001b[32m   1003\u001b[39m \u001b[38;5;66;03m# For callable self.scoring, the return type is only know after\u001b[39;00m\n\u001b[32m   1004\u001b[39m \u001b[38;5;66;03m# calling. If the return type is a dictionary, the error scores\u001b[39;00m\n\u001b[32m   1005\u001b[39m \u001b[38;5;66;03m# can now be inserted with the correct key. The type checking\u001b[39;00m\n\u001b[32m   1006\u001b[39m \u001b[38;5;66;03m# of out will be done in `_insert_error_scores`.\u001b[39;00m\n\u001b[32m   1007\u001b[39m \u001b[38;5;28;01mif\u001b[39;00m \u001b[38;5;28mcallable\u001b[39m(\u001b[38;5;28mself\u001b[39m.scoring):\n",
                        "\u001b[36mFile \u001b[39m\u001b[32m~/Documents/Academic/University/Sexto_Semestre/Machine_Learning/Seismic-Multilabel-Event-Classifier/env/lib/python3.12/site-packages/sklearn/model_selection/_validation.py:517\u001b[39m, in \u001b[36m_warn_or_raise_about_fit_failures\u001b[39m\u001b[34m(results, error_score)\u001b[39m\n\u001b[32m    510\u001b[39m \u001b[38;5;28;01mif\u001b[39;00m num_failed_fits == num_fits:\n\u001b[32m    511\u001b[39m     all_fits_failed_message = (\n\u001b[32m    512\u001b[39m         \u001b[33mf\u001b[39m\u001b[33m\"\u001b[39m\u001b[38;5;130;01m\\n\u001b[39;00m\u001b[33mAll the \u001b[39m\u001b[38;5;132;01m{\u001b[39;00mnum_fits\u001b[38;5;132;01m}\u001b[39;00m\u001b[33m fits failed.\u001b[39m\u001b[38;5;130;01m\\n\u001b[39;00m\u001b[33m\"\u001b[39m\n\u001b[32m    513\u001b[39m         \u001b[33m\"\u001b[39m\u001b[33mIt is very likely that your model is misconfigured.\u001b[39m\u001b[38;5;130;01m\\n\u001b[39;00m\u001b[33m\"\u001b[39m\n\u001b[32m    514\u001b[39m         \u001b[33m\"\u001b[39m\u001b[33mYou can try to debug the error by setting error_score=\u001b[39m\u001b[33m'\u001b[39m\u001b[33mraise\u001b[39m\u001b[33m'\u001b[39m\u001b[33m.\u001b[39m\u001b[38;5;130;01m\\n\u001b[39;00m\u001b[38;5;130;01m\\n\u001b[39;00m\u001b[33m\"\u001b[39m\n\u001b[32m    515\u001b[39m         \u001b[33mf\u001b[39m\u001b[33m\"\u001b[39m\u001b[33mBelow are more details about the failures:\u001b[39m\u001b[38;5;130;01m\\n\u001b[39;00m\u001b[38;5;132;01m{\u001b[39;00mfit_errors_summary\u001b[38;5;132;01m}\u001b[39;00m\u001b[33m\"\u001b[39m\n\u001b[32m    516\u001b[39m     )\n\u001b[32m--> \u001b[39m\u001b[32m517\u001b[39m     \u001b[38;5;28;01mraise\u001b[39;00m \u001b[38;5;167;01mValueError\u001b[39;00m(all_fits_failed_message)\n\u001b[32m    519\u001b[39m \u001b[38;5;28;01melse\u001b[39;00m:\n\u001b[32m    520\u001b[39m     some_fits_failed_message = (\n\u001b[32m    521\u001b[39m         \u001b[33mf\u001b[39m\u001b[33m\"\u001b[39m\u001b[38;5;130;01m\\n\u001b[39;00m\u001b[38;5;132;01m{\u001b[39;00mnum_failed_fits\u001b[38;5;132;01m}\u001b[39;00m\u001b[33m fits failed out of a total of \u001b[39m\u001b[38;5;132;01m{\u001b[39;00mnum_fits\u001b[38;5;132;01m}\u001b[39;00m\u001b[33m.\u001b[39m\u001b[38;5;130;01m\\n\u001b[39;00m\u001b[33m\"\u001b[39m\n\u001b[32m    522\u001b[39m         \u001b[33m\"\u001b[39m\u001b[33mThe score on these train-test partitions for these parameters\u001b[39m\u001b[33m\"\u001b[39m\n\u001b[32m   (...)\u001b[39m\u001b[32m    526\u001b[39m         \u001b[33mf\u001b[39m\u001b[33m\"\u001b[39m\u001b[33mBelow are more details about the failures:\u001b[39m\u001b[38;5;130;01m\\n\u001b[39;00m\u001b[38;5;132;01m{\u001b[39;00mfit_errors_summary\u001b[38;5;132;01m}\u001b[39;00m\u001b[33m\"\u001b[39m\n\u001b[32m    527\u001b[39m     )\n",
                        "\u001b[31mValueError\u001b[39m: \nAll the 150 fits failed.\nIt is very likely that your model is misconfigured.\nYou can try to debug the error by setting error_score='raise'.\n\nBelow are more details about the failures:\n--------------------------------------------------------------------------------\n120 fits failed with the following error:\nTraceback (most recent call last):\n  File \"/Users/villafuertech/Documents/Academic/University/Sexto_Semestre/Machine_Learning/Seismic-Multilabel-Event-Classifier/env/lib/python3.12/site-packages/sklearn/model_selection/_validation.py\", line 866, in _fit_and_score\n    estimator.fit(X_train, y_train, **fit_params)\n  File \"/Users/villafuertech/Documents/Academic/University/Sexto_Semestre/Machine_Learning/Seismic-Multilabel-Event-Classifier/env/lib/python3.12/site-packages/sklearn/base.py\", line 1389, in wrapper\n    return fit_method(estimator, *args, **kwargs)\n           ^^^^^^^^^^^^^^^^^^^^^^^^^^^^^^^^^^^^^^\n  File \"/Users/villafuertech/Documents/Academic/University/Sexto_Semestre/Machine_Learning/Seismic-Multilabel-Event-Classifier/env/lib/python3.12/site-packages/sklearn/pipeline.py\", line 654, in fit\n    Xt = self._fit(X, y, routed_params, raw_params=params)\n         ^^^^^^^^^^^^^^^^^^^^^^^^^^^^^^^^^^^^^^^^^^^^^^^^^\n  File \"/Users/villafuertech/Documents/Academic/University/Sexto_Semestre/Machine_Learning/Seismic-Multilabel-Event-Classifier/env/lib/python3.12/site-packages/sklearn/pipeline.py\", line 588, in _fit\n    X, fitted_transformer = fit_transform_one_cached(\n                            ^^^^^^^^^^^^^^^^^^^^^^^^^\n  File \"/Users/villafuertech/Documents/Academic/University/Sexto_Semestre/Machine_Learning/Seismic-Multilabel-Event-Classifier/env/lib/python3.12/site-packages/joblib/memory.py\", line 312, in __call__\n    return self.func(*args, **kwargs)\n           ^^^^^^^^^^^^^^^^^^^^^^^^^^\n  File \"/Users/villafuertech/Documents/Academic/University/Sexto_Semestre/Machine_Learning/Seismic-Multilabel-Event-Classifier/env/lib/python3.12/site-packages/sklearn/pipeline.py\", line 1551, in _fit_transform_one\n    res = transformer.fit_transform(X, y, **params.get(\"fit_transform\", {}))\n          ^^^^^^^^^^^^^^^^^^^^^^^^^^^^^^^^^^^^^^^^^^^^^^^^^^^^^^^^^^^^^^^^^^\n  File \"/Users/villafuertech/Documents/Academic/University/Sexto_Semestre/Machine_Learning/Seismic-Multilabel-Event-Classifier/env/lib/python3.12/site-packages/sklearn/utils/_set_output.py\", line 319, in wrapped\n    data_to_wrap = f(self, X, *args, **kwargs)\n                   ^^^^^^^^^^^^^^^^^^^^^^^^^^^\n  File \"/Users/villafuertech/Documents/Academic/University/Sexto_Semestre/Machine_Learning/Seismic-Multilabel-Event-Classifier/env/lib/python3.12/site-packages/sklearn/base.py\", line 921, in fit_transform\n    return self.fit(X, y, **fit_params).transform(X)\n           ^^^^^^^^^^^^^^^^^^^^^^^^^^^^\n  File \"/Users/villafuertech/Documents/Academic/University/Sexto_Semestre/Machine_Learning/Seismic-Multilabel-Event-Classifier/env/lib/python3.12/site-packages/sklearn/preprocessing/_data.py\", line 894, in fit\n    return self.partial_fit(X, y, sample_weight)\n           ^^^^^^^^^^^^^^^^^^^^^^^^^^^^^^^^^^^^^\n  File \"/Users/villafuertech/Documents/Academic/University/Sexto_Semestre/Machine_Learning/Seismic-Multilabel-Event-Classifier/env/lib/python3.12/site-packages/sklearn/base.py\", line 1389, in wrapper\n    return fit_method(estimator, *args, **kwargs)\n           ^^^^^^^^^^^^^^^^^^^^^^^^^^^^^^^^^^^^^^\n  File \"/Users/villafuertech/Documents/Academic/University/Sexto_Semestre/Machine_Learning/Seismic-Multilabel-Event-Classifier/env/lib/python3.12/site-packages/sklearn/preprocessing/_data.py\", line 930, in partial_fit\n    X = validate_data(\n        ^^^^^^^^^^^^^^\n  File \"/Users/villafuertech/Documents/Academic/University/Sexto_Semestre/Machine_Learning/Seismic-Multilabel-Event-Classifier/env/lib/python3.12/site-packages/sklearn/utils/validation.py\", line 2944, in validate_data\n    out = check_array(X, input_name=\"X\", **check_params)\n          ^^^^^^^^^^^^^^^^^^^^^^^^^^^^^^^^^^^^^^^^^^^^^^\n  File \"/Users/villafuertech/Documents/Academic/University/Sexto_Semestre/Machine_Learning/Seismic-Multilabel-Event-Classifier/env/lib/python3.12/site-packages/sklearn/utils/validation.py\", line 1055, in check_array\n    array = _asarray_with_order(array, order=order, dtype=dtype, xp=xp)\n            ^^^^^^^^^^^^^^^^^^^^^^^^^^^^^^^^^^^^^^^^^^^^^^^^^^^^^^^^^^^\n  File \"/Users/villafuertech/Documents/Academic/University/Sexto_Semestre/Machine_Learning/Seismic-Multilabel-Event-Classifier/env/lib/python3.12/site-packages/sklearn/utils/_array_api.py\", line 839, in _asarray_with_order\n    array = numpy.asarray(array, order=order, dtype=dtype)\n            ^^^^^^^^^^^^^^^^^^^^^^^^^^^^^^^^^^^^^^^^^^^^^^\nValueError: could not convert string to float: '2 Normal-Oblique (SO) | 6-8 | 400-600'\n\n--------------------------------------------------------------------------------\n30 fits failed with the following error:\nTraceback (most recent call last):\n  File \"/Users/villafuertech/Documents/Academic/University/Sexto_Semestre/Machine_Learning/Seismic-Multilabel-Event-Classifier/env/lib/python3.12/site-packages/sklearn/model_selection/_validation.py\", line 866, in _fit_and_score\n    estimator.fit(X_train, y_train, **fit_params)\n  File \"/Users/villafuertech/Documents/Academic/University/Sexto_Semestre/Machine_Learning/Seismic-Multilabel-Event-Classifier/env/lib/python3.12/site-packages/sklearn/base.py\", line 1389, in wrapper\n    return fit_method(estimator, *args, **kwargs)\n           ^^^^^^^^^^^^^^^^^^^^^^^^^^^^^^^^^^^^^^\n  File \"/Users/villafuertech/Documents/Academic/University/Sexto_Semestre/Machine_Learning/Seismic-Multilabel-Event-Classifier/env/lib/python3.12/site-packages/sklearn/pipeline.py\", line 654, in fit\n    Xt = self._fit(X, y, routed_params, raw_params=params)\n         ^^^^^^^^^^^^^^^^^^^^^^^^^^^^^^^^^^^^^^^^^^^^^^^^^\n  File \"/Users/villafuertech/Documents/Academic/University/Sexto_Semestre/Machine_Learning/Seismic-Multilabel-Event-Classifier/env/lib/python3.12/site-packages/sklearn/pipeline.py\", line 588, in _fit\n    X, fitted_transformer = fit_transform_one_cached(\n                            ^^^^^^^^^^^^^^^^^^^^^^^^^\n  File \"/Users/villafuertech/Documents/Academic/University/Sexto_Semestre/Machine_Learning/Seismic-Multilabel-Event-Classifier/env/lib/python3.12/site-packages/joblib/memory.py\", line 312, in __call__\n    return self.func(*args, **kwargs)\n           ^^^^^^^^^^^^^^^^^^^^^^^^^^\n  File \"/Users/villafuertech/Documents/Academic/University/Sexto_Semestre/Machine_Learning/Seismic-Multilabel-Event-Classifier/env/lib/python3.12/site-packages/sklearn/pipeline.py\", line 1551, in _fit_transform_one\n    res = transformer.fit_transform(X, y, **params.get(\"fit_transform\", {}))\n          ^^^^^^^^^^^^^^^^^^^^^^^^^^^^^^^^^^^^^^^^^^^^^^^^^^^^^^^^^^^^^^^^^^\n  File \"/Users/villafuertech/Documents/Academic/University/Sexto_Semestre/Machine_Learning/Seismic-Multilabel-Event-Classifier/env/lib/python3.12/site-packages/sklearn/utils/_set_output.py\", line 319, in wrapped\n    data_to_wrap = f(self, X, *args, **kwargs)\n                   ^^^^^^^^^^^^^^^^^^^^^^^^^^^\n  File \"/Users/villafuertech/Documents/Academic/University/Sexto_Semestre/Machine_Learning/Seismic-Multilabel-Event-Classifier/env/lib/python3.12/site-packages/sklearn/base.py\", line 921, in fit_transform\n    return self.fit(X, y, **fit_params).transform(X)\n           ^^^^^^^^^^^^^^^^^^^^^^^^^^^^\n  File \"/Users/villafuertech/Documents/Academic/University/Sexto_Semestre/Machine_Learning/Seismic-Multilabel-Event-Classifier/env/lib/python3.12/site-packages/sklearn/preprocessing/_data.py\", line 894, in fit\n    return self.partial_fit(X, y, sample_weight)\n           ^^^^^^^^^^^^^^^^^^^^^^^^^^^^^^^^^^^^^\n  File \"/Users/villafuertech/Documents/Academic/University/Sexto_Semestre/Machine_Learning/Seismic-Multilabel-Event-Classifier/env/lib/python3.12/site-packages/sklearn/base.py\", line 1389, in wrapper\n    return fit_method(estimator, *args, **kwargs)\n           ^^^^^^^^^^^^^^^^^^^^^^^^^^^^^^^^^^^^^^\n  File \"/Users/villafuertech/Documents/Academic/University/Sexto_Semestre/Machine_Learning/Seismic-Multilabel-Event-Classifier/env/lib/python3.12/site-packages/sklearn/preprocessing/_data.py\", line 930, in partial_fit\n    X = validate_data(\n        ^^^^^^^^^^^^^^\n  File \"/Users/villafuertech/Documents/Academic/University/Sexto_Semestre/Machine_Learning/Seismic-Multilabel-Event-Classifier/env/lib/python3.12/site-packages/sklearn/utils/validation.py\", line 2944, in validate_data\n    out = check_array(X, input_name=\"X\", **check_params)\n          ^^^^^^^^^^^^^^^^^^^^^^^^^^^^^^^^^^^^^^^^^^^^^^\n  File \"/Users/villafuertech/Documents/Academic/University/Sexto_Semestre/Machine_Learning/Seismic-Multilabel-Event-Classifier/env/lib/python3.12/site-packages/sklearn/utils/validation.py\", line 1055, in check_array\n    array = _asarray_with_order(array, order=order, dtype=dtype, xp=xp)\n            ^^^^^^^^^^^^^^^^^^^^^^^^^^^^^^^^^^^^^^^^^^^^^^^^^^^^^^^^^^^\n  File \"/Users/villafuertech/Documents/Academic/University/Sexto_Semestre/Machine_Learning/Seismic-Multilabel-Event-Classifier/env/lib/python3.12/site-packages/sklearn/utils/_array_api.py\", line 839, in _asarray_with_order\n    array = numpy.asarray(array, order=order, dtype=dtype)\n            ^^^^^^^^^^^^^^^^^^^^^^^^^^^^^^^^^^^^^^^^^^^^^^\nValueError: could not convert string to float: '1 Stiker Slip (SS) | 4-6 | 400-600'\n"
                    ]
                }
            ],
            "source": [
                "# ----- Bloque 7 -----\n",
                "C_vals = np.logspace(-3, 2, 10)\n",
                "param_grid = {'clf__estimator__C': C_vals}\n",
                "\n",
                "rkf = RepeatedKFold(n_splits=5, n_repeats=3, random_state=42)\n",
                "scorer = make_scorer(f1_score, average='micro')\n",
                "\n",
                "grid = GridSearchCV(base_pipe, param_grid, scoring=scorer,\n",
                "                    cv=rkf, n_jobs=-1, verbose=2)\n",
                "grid.fit(X_train, y_train)\n",
                "\n",
                "best_C = grid.best_params_['clf__estimator__C']\n",
                "print('Mejor C:', best_C)\n",
                "print('Mejor F1 CV:', grid.best_score_)"
            ]
        },
        {
            "cell_type": "markdown",
            "id": "0119ceb0",
            "metadata": {},
            "source": [
                "## Bloque 8 – Optimización λ\n"
            ]
        },
        {
            "cell_type": "code",
            "execution_count": null,
            "id": "ac3ed548",
            "metadata": {},
            "outputs": [],
            "source": [
                "# ----- Bloque 8 -----\n",
                "res = pd.DataFrame(grid.cv_results_)\n",
                "res['lambda'] = 1 / res['param_clf__estimator__C'].astype(float)\n",
                "means = res.groupby('lambda')['mean_test_score'].mean().sort_index()\n",
                "\n",
                "plt.figure(figsize=(7,5))\n",
                "plt.plot(means.index, means.values, marker='o')\n",
                "plt.xscale('log')\n",
                "plt.xlabel('λ = 1/C')\n",
                "plt.ylabel('F1-micro promedio CV')\n",
                "plt.title('Optimización de λ – SVM')\n",
                "plt.grid(True)\n",
                "plt.show()"
            ]
        },
        {
            "cell_type": "markdown",
            "id": "f610b381",
            "metadata": {},
            "source": [
                "## Bloque 9 – Curva de aprendizaje\n"
            ]
        },
        {
            "cell_type": "code",
            "execution_count": null,
            "id": "725ea294",
            "metadata": {},
            "outputs": [],
            "source": [
                "# ----- Bloque 9 -----\n",
                "best_pipe = Pipeline([\n",
                "    ('scaler', StandardScaler()),\n",
                "    ('clf', OneVsRestClassifier(LinearSVC(C=best_C, max_iter=5000)))\n",
                "])\n",
                "\n",
                "train_sizes, tr_scores, val_scores = learning_curve(\n",
                "    best_pipe, X_train, y_train,\n",
                "    cv=rkf, scoring=scorer,\n",
                "    train_sizes=np.linspace(0.1,1.0,6),\n",
                "    n_jobs=-1\n",
                ")\n",
                "\n",
                "plt.figure(figsize=(7,5))\n",
                "plt.plot(train_sizes, tr_scores.mean(axis=1), 'o-', label='Train')\n",
                "plt.plot(train_sizes, val_scores.mean(axis=1), 'o-', label='Validación CV')\n",
                "plt.xlabel('Tamaño de entrenamiento')\n",
                "plt.ylabel('F1‑micro')\n",
                "plt.title('Curva de aprendizaje – SVM')\n",
                "plt.legend(); plt.grid(True); plt.show()"
            ]
        },
        {
            "cell_type": "markdown",
            "id": "ec6d103c",
            "metadata": {},
            "source": [
                "## Bloque 10 – Evaluación Test\n"
            ]
        },
        {
            "cell_type": "code",
            "execution_count": null,
            "id": "f57f7c13",
            "metadata": {},
            "outputs": [
                {
                    "name": "stdout",
                    "output_type": "stream",
                    "text": [
                        "Test F1‑micro: 0.533974744437763\n",
                        "Test F1‑macro: 0.4224744160535898\n",
                        "Test Hamming loss: 0.2570480928689884\n"
                    ]
                }
            ],
            "source": [
                "# ----- Bloque 10 -----\n",
                "best_pipe.fit(X_train, y_train)\n",
                "y_pred = best_pipe.predict(X_test)\n",
                "print('Test F1‑micro:', f1_score(y_test, y_pred, average='micro'))\n",
                "print('Test F1‑macro:', f1_score(y_test, y_pred, average='macro'))\n",
                "print('Test Hamming loss:', hamming_loss(y_test, y_pred))"
            ]
        },
        {
            "cell_type": "markdown",
            "id": "38eb9c3d",
            "metadata": {},
            "source": [
                "## Bloque 11 – Guardar modelo\n"
            ]
        },
        {
            "cell_type": "code",
            "execution_count": null,
            "id": "fa2c401b",
            "metadata": {},
            "outputs": [
                {
                    "name": "stdout",
                    "output_type": "stream",
                    "text": [
                        "Modelo guardado en models/svm_repkfold.pkl\n"
                    ]
                }
            ],
            "source": [
                "# ----- Bloque 11 -----\n",
                "os.makedirs('models', exist_ok=True)\n",
                "joblib.dump(best_pipe, 'models/svm_repkfold.pkl')\n",
                "print('Modelo guardado en models/svm_repkfold.pkl')"
            ]
        }
    ],
    "metadata": {
        "kernelspec": {
            "display_name": "env",
            "language": "python",
            "name": "python3"
        },
        "language_info": {
            "codemirror_mode": {
                "name": "ipython",
                "version": 3
            },
            "file_extension": ".py",
            "mimetype": "text/x-python",
            "name": "python",
            "nbconvert_exporter": "python",
            "pygments_lexer": "ipython3",
            "version": "3.12.7"
        }
    },
    "nbformat": 4,
    "nbformat_minor": 5
}
