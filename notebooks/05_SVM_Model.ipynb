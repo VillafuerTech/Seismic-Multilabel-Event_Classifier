{
    "cells": [
        {
            "cell_type": "markdown",
            "id": "34b80887",
            "metadata": {},
            "source": [
                "# SVM multietiqueta con búsqueda Repeated K‑Fold\n",
                "Se entrena un **Support Vector Machine** (kernel lineal) en esquema *One‑vs‑Rest* para clasificación multietiqueta. La búsqueda de hiperparámetros se realiza con **Repeated K‑Fold CV** (5×3).\n",
                "\n",
                "Se incluyen:\n",
                "* Gráfica de optimización de λ (λ = 1/C).\n",
                "* Curva de aprendizaje (F1‑micro)."
            ]
        },
        {
            "cell_type": "markdown",
            "id": "2dc42fdc",
            "metadata": {},
            "source": [
                "## Bloque 1 – Importaciones\n",
                "Añadimos `LinearSVC` y métricas relevantes."
            ]
        },
        {
            "cell_type": "code",
            "execution_count": 29,
            "id": "70b1d63f",
            "metadata": {},
            "outputs": [],
            "source": [
                "# ----- Bloque 1 -----\n",
                "import os, joblib, numpy as np, pandas as pd, matplotlib.pyplot as plt, seaborn as sns\n",
                "\n",
                "from sklearn.model_selection import train_test_split, RepeatedKFold, GridSearchCV, learning_curve\n",
                "from sklearn.preprocessing import StandardScaler\n",
                "from sklearn.svm import LinearSVC\n",
                "from sklearn.multiclass import OneVsRestClassifier\n",
                "from sklearn.pipeline import Pipeline\n",
                "from sklearn.metrics import f1_score, hamming_loss, make_scorer\n"
            ]
        },
        {
            "cell_type": "markdown",
            "id": "6a15f637",
            "metadata": {},
            "source": [
                "## Bloque 2 – Ruta\n"
            ]
        },
        {
            "cell_type": "code",
            "execution_count": 30,
            "id": "b276a69b",
            "metadata": {},
            "outputs": [],
            "source": [
                "# ----- Bloque 2 -----\n",
                "if os.path.basename(os.getcwd()) != 'Seismic-Multilabel-Event-Classifier':\n",
                "    os.chdir('..')\n",
                "    print('CWD ->', os.getcwd())"
            ]
        },
        {
            "cell_type": "markdown",
            "id": "ee8de557",
            "metadata": {},
            "source": [
                "## Bloque 3 – Carga de datos\n"
            ]
        },
        {
            "cell_type": "code",
            "execution_count": 31,
            "id": "fff8800d",
            "metadata": {},
            "outputs": [
                {
                    "name": "stdout",
                    "output_type": "stream",
                    "text": [
                        "Shape: (1674, 92)\n"
                    ]
                },
                {
                    "data": {
                        "text/html": [
                            "<div>\n",
                            "<style scoped>\n",
                            "    .dataframe tbody tr th:only-of-type {\n",
                            "        vertical-align: middle;\n",
                            "    }\n",
                            "\n",
                            "    .dataframe tbody tr th {\n",
                            "        vertical-align: top;\n",
                            "    }\n",
                            "\n",
                            "    .dataframe thead th {\n",
                            "        text-align: right;\n",
                            "    }\n",
                            "</style>\n",
                            "<table border=\"1\" class=\"dataframe\">\n",
                            "  <thead>\n",
                            "    <tr style=\"text-align: right;\">\n",
                            "      <th></th>\n",
                            "      <th>max_V</th>\n",
                            "      <th>rms_V</th>\n",
                            "      <th>max_H1</th>\n",
                            "      <th>rms_H1</th>\n",
                            "      <th>max_H2</th>\n",
                            "      <th>rms_H2</th>\n",
                            "      <th>duration</th>\n",
                            "      <th>zcr_V</th>\n",
                            "      <th>dom_freq_V</th>\n",
                            "      <th>centroid_V</th>\n",
                            "      <th>...</th>\n",
                            "      <th>1 Stiker Slip (SS)</th>\n",
                            "      <th>2 Normal-Oblique (SO)</th>\n",
                            "      <th>3 Reverse-Oblique (RO)</th>\n",
                            "      <th>4-6</th>\n",
                            "      <th>6-8</th>\n",
                            "      <th>0-200</th>\n",
                            "      <th>200-400</th>\n",
                            "      <th>400-600</th>\n",
                            "      <th>600-</th>\n",
                            "      <th>label</th>\n",
                            "    </tr>\n",
                            "  </thead>\n",
                            "  <tbody>\n",
                            "    <tr>\n",
                            "      <th>0</th>\n",
                            "      <td>0.000342</td>\n",
                            "      <td>0.000052</td>\n",
                            "      <td>0.000587</td>\n",
                            "      <td>0.000111</td>\n",
                            "      <td>0.000617</td>\n",
                            "      <td>0.000107</td>\n",
                            "      <td>321.68</td>\n",
                            "      <td>2.014362</td>\n",
                            "      <td>0.000000</td>\n",
                            "      <td>5.447156</td>\n",
                            "      <td>...</td>\n",
                            "      <td>True</td>\n",
                            "      <td>False</td>\n",
                            "      <td>False</td>\n",
                            "      <td>True</td>\n",
                            "      <td>False</td>\n",
                            "      <td>False</td>\n",
                            "      <td>False</td>\n",
                            "      <td>False</td>\n",
                            "      <td>True</td>\n",
                            "      <td>1 Stiker Slip (SS) | 4-6 | 600-</td>\n",
                            "    </tr>\n",
                            "    <tr>\n",
                            "      <th>1</th>\n",
                            "      <td>0.003967</td>\n",
                            "      <td>0.000347</td>\n",
                            "      <td>0.006399</td>\n",
                            "      <td>0.000501</td>\n",
                            "      <td>0.004988</td>\n",
                            "      <td>0.000475</td>\n",
                            "      <td>200.00</td>\n",
                            "      <td>9.034548</td>\n",
                            "      <td>0.781250</td>\n",
                            "      <td>17.551070</td>\n",
                            "      <td>...</td>\n",
                            "      <td>True</td>\n",
                            "      <td>False</td>\n",
                            "      <td>False</td>\n",
                            "      <td>True</td>\n",
                            "      <td>False</td>\n",
                            "      <td>False</td>\n",
                            "      <td>False</td>\n",
                            "      <td>False</td>\n",
                            "      <td>True</td>\n",
                            "      <td>1 Stiker Slip (SS) | 4-6 | 600-</td>\n",
                            "    </tr>\n",
                            "    <tr>\n",
                            "      <th>2</th>\n",
                            "      <td>0.000135</td>\n",
                            "      <td>0.000023</td>\n",
                            "      <td>0.000204</td>\n",
                            "      <td>0.000028</td>\n",
                            "      <td>0.000157</td>\n",
                            "      <td>0.000026</td>\n",
                            "      <td>323.79</td>\n",
                            "      <td>1.429895</td>\n",
                            "      <td>0.195312</td>\n",
                            "      <td>2.573894</td>\n",
                            "      <td>...</td>\n",
                            "      <td>True</td>\n",
                            "      <td>False</td>\n",
                            "      <td>False</td>\n",
                            "      <td>True</td>\n",
                            "      <td>False</td>\n",
                            "      <td>False</td>\n",
                            "      <td>False</td>\n",
                            "      <td>False</td>\n",
                            "      <td>True</td>\n",
                            "      <td>1 Stiker Slip (SS) | 4-6 | 600-</td>\n",
                            "    </tr>\n",
                            "    <tr>\n",
                            "      <th>3</th>\n",
                            "      <td>0.003166</td>\n",
                            "      <td>0.000453</td>\n",
                            "      <td>0.005030</td>\n",
                            "      <td>0.000657</td>\n",
                            "      <td>0.004669</td>\n",
                            "      <td>0.000725</td>\n",
                            "      <td>41.00</td>\n",
                            "      <td>21.189954</td>\n",
                            "      <td>14.062500</td>\n",
                            "      <td>14.019404</td>\n",
                            "      <td>...</td>\n",
                            "      <td>True</td>\n",
                            "      <td>False</td>\n",
                            "      <td>False</td>\n",
                            "      <td>True</td>\n",
                            "      <td>False</td>\n",
                            "      <td>False</td>\n",
                            "      <td>False</td>\n",
                            "      <td>False</td>\n",
                            "      <td>True</td>\n",
                            "      <td>1 Stiker Slip (SS) | 4-6 | 600-</td>\n",
                            "    </tr>\n",
                            "    <tr>\n",
                            "      <th>4</th>\n",
                            "      <td>0.000011</td>\n",
                            "      <td>0.000002</td>\n",
                            "      <td>0.000021</td>\n",
                            "      <td>0.000003</td>\n",
                            "      <td>0.000018</td>\n",
                            "      <td>0.000003</td>\n",
                            "      <td>180.80</td>\n",
                            "      <td>3.943366</td>\n",
                            "      <td>0.195312</td>\n",
                            "      <td>10.936094</td>\n",
                            "      <td>...</td>\n",
                            "      <td>True</td>\n",
                            "      <td>False</td>\n",
                            "      <td>False</td>\n",
                            "      <td>True</td>\n",
                            "      <td>False</td>\n",
                            "      <td>False</td>\n",
                            "      <td>False</td>\n",
                            "      <td>False</td>\n",
                            "      <td>True</td>\n",
                            "      <td>1 Stiker Slip (SS) | 4-6 | 600-</td>\n",
                            "    </tr>\n",
                            "  </tbody>\n",
                            "</table>\n",
                            "<p>5 rows × 92 columns</p>\n",
                            "</div>"
                        ],
                        "text/plain": [
                            "      max_V     rms_V    max_H1    rms_H1    max_H2    rms_H2  duration  \\\n",
                            "0  0.000342  0.000052  0.000587  0.000111  0.000617  0.000107    321.68   \n",
                            "1  0.003967  0.000347  0.006399  0.000501  0.004988  0.000475    200.00   \n",
                            "2  0.000135  0.000023  0.000204  0.000028  0.000157  0.000026    323.79   \n",
                            "3  0.003166  0.000453  0.005030  0.000657  0.004669  0.000725     41.00   \n",
                            "4  0.000011  0.000002  0.000021  0.000003  0.000018  0.000003    180.80   \n",
                            "\n",
                            "       zcr_V  dom_freq_V  centroid_V  ...  1 Stiker Slip (SS)  \\\n",
                            "0   2.014362    0.000000    5.447156  ...                True   \n",
                            "1   9.034548    0.781250   17.551070  ...                True   \n",
                            "2   1.429895    0.195312    2.573894  ...                True   \n",
                            "3  21.189954   14.062500   14.019404  ...                True   \n",
                            "4   3.943366    0.195312   10.936094  ...                True   \n",
                            "\n",
                            "   2 Normal-Oblique (SO)  3 Reverse-Oblique (RO)   4-6    6-8  0-200  200-400  \\\n",
                            "0                  False                   False  True  False  False    False   \n",
                            "1                  False                   False  True  False  False    False   \n",
                            "2                  False                   False  True  False  False    False   \n",
                            "3                  False                   False  True  False  False    False   \n",
                            "4                  False                   False  True  False  False    False   \n",
                            "\n",
                            "   400-600  600-                            label  \n",
                            "0    False  True  1 Stiker Slip (SS) | 4-6 | 600-  \n",
                            "1    False  True  1 Stiker Slip (SS) | 4-6 | 600-  \n",
                            "2    False  True  1 Stiker Slip (SS) | 4-6 | 600-  \n",
                            "3    False  True  1 Stiker Slip (SS) | 4-6 | 600-  \n",
                            "4    False  True  1 Stiker Slip (SS) | 4-6 | 600-  \n",
                            "\n",
                            "[5 rows x 92 columns]"
                        ]
                    },
                    "execution_count": 31,
                    "metadata": {},
                    "output_type": "execute_result"
                }
            ],
            "source": [
                "# ----- Bloque 3 -----\n",
                "df = pd.read_json('data/processed/dataset_final.json')\n",
                "print('Shape:', df.shape)\n",
                "df.head()"
            ]
        },
        {
            "cell_type": "markdown",
            "id": "7211fb2a",
            "metadata": {},
            "source": [
                "## Bloque 4 – Separación X/y\n"
            ]
        },
        {
            "cell_type": "code",
            "execution_count": 32,
            "id": "759ef862",
            "metadata": {},
            "outputs": [
                {
                    "name": "stdout",
                    "output_type": "stream",
                    "text": [
                        "X: (1674, 82) y: (1674, 9)\n"
                    ]
                }
            ],
            "source": [
                "# ----- Bloque 4 -----\n",
                "label_cols = ['1 Stiker Slip (SS)','2 Normal-Oblique (SO)','3 Reverse-Oblique (RO)',\n",
                "              '4-6','6-8','0-200','200-400','400-600','600-']\n",
                "drop_cols = ['Archivo','Falla_lbl','Mag_lbl','Vs_lbl','Combo', \n",
                "            'label'] + label_cols\n",
                "feature_cols = [c for c in df.columns if c not in drop_cols]\n",
                "\n",
                "X = df[feature_cols].values\n",
                "y = df[label_cols].values\n",
                "print('X:', X.shape, 'y:', y.shape)"
            ]
        },
        {
            "cell_type": "markdown",
            "id": "5cb983da",
            "metadata": {},
            "source": [
                "## Bloque 5 – Hold‑out Test\n"
            ]
        },
        {
            "cell_type": "code",
            "execution_count": 33,
            "id": "7b31a37d",
            "metadata": {},
            "outputs": [
                {
                    "name": "stdout",
                    "output_type": "stream",
                    "text": [
                        "Train: (1339, 82) Test: (335, 82)\n"
                    ]
                }
            ],
            "source": [
                "# ----- Bloque 5 -----\n",
                "X_train, X_test, y_train, y_test = train_test_split(\n",
                "    X, y, test_size=0.2, random_state=42, stratify=y)\n",
                "print('Train:', X_train.shape, 'Test:', X_test.shape)"
            ]
        },
        {
            "cell_type": "markdown",
            "id": "ee9689e8",
            "metadata": {},
            "source": [
                "## Bloque 6 – Pipeline base\n"
            ]
        },
        {
            "cell_type": "code",
            "execution_count": 34,
            "id": "543cf463",
            "metadata": {},
            "outputs": [],
            "source": [
                "# ----- Bloque 6 -----\n",
                "base_pipe = Pipeline([\n",
                "    ('scaler', StandardScaler()),\n",
                "    ('clf', OneVsRestClassifier(LinearSVC(max_iter=5000)))\n",
                "])"
            ]
        },
        {
            "cell_type": "markdown",
            "id": "02f3a85d",
            "metadata": {},
            "source": [
                "## Bloque 7 – Grid y Repeated K‑Fold\n"
            ]
        },
        {
            "cell_type": "code",
            "execution_count": 35,
            "id": "56fdd381",
            "metadata": {},
            "outputs": [
                {
                    "name": "stdout",
                    "output_type": "stream",
                    "text": [
                        "Fitting 15 folds for each of 15 candidates, totalling 225 fits\n",
                        "[CV] END ............................clf__estimator__C=1e-05; total time=   0.2s\n",
                        "[CV] END ............................clf__estimator__C=1e-05; total time=   0.2s\n",
                        "[CV] END ............................clf__estimator__C=1e-05; total time=   0.2s\n",
                        "[CV] END ............................clf__estimator__C=1e-05; total time=   0.3s\n",
                        "[CV] END ............clf__estimator__C=3.727593720314938e-05; total time=   0.1s\n",
                        "[CV] END ............clf__estimator__C=3.727593720314938e-05; total time=   0.2s\n",
                        "[CV] END ............clf__estimator__C=3.727593720314938e-05; total time=   0.2s\n",
                        "[CV] END ............clf__estimator__C=3.727593720314938e-05; total time=   0.2s\n",
                        "[CV] END ............clf__estimator__C=3.727593720314938e-05; total time=   0.2s\n",
                        "[CV] END ............clf__estimator__C=3.727593720314938e-05; total time=   0.2s\n",
                        "[CV] END ............clf__estimator__C=3.727593720314938e-05; total time=   0.4s\n",
                        "[CV] END ............clf__estimator__C=3.727593720314938e-05; total time=   0.0s\n",
                        "[CV] END ............clf__estimator__C=3.727593720314938e-05; total time=   0.0s\n",
                        "[CV] END ............clf__estimator__C=3.727593720314938e-05; total time=   0.0s\n",
                        "[CV] END ............clf__estimator__C=3.727593720314938e-05; total time=   0.5s\n",
                        "[CV] END ............clf__estimator__C=3.727593720314938e-05; total time=   0.0s\n",
                        "[CV] END ............clf__estimator__C=3.727593720314938e-05; total time=   0.0s\n",
                        "[CV] END ............clf__estimator__C=3.727593720314938e-05; total time=   0.1s\n",
                        "[CV] END ............clf__estimator__C=3.727593720314938e-05; total time=   0.0s\n",
                        "[CV] END ...........clf__estimator__C=0.00013894954943731373; total time=   0.6s\n",
                        "[CV] END ...........clf__estimator__C=0.00013894954943731373; total time=   0.5s\n",
                        "[CV] END ...........clf__estimator__C=0.00013894954943731373; total time=   0.4s\n",
                        "[CV] END ...........clf__estimator__C=0.00013894954943731373; total time=   0.3s\n",
                        "[CV] END ............................clf__estimator__C=1e-05; total time=   0.5s\n",
                        "[CV] END ...........clf__estimator__C=0.00013894954943731373; total time=   0.6s\n",
                        "[CV] END ............................clf__estimator__C=1e-05; total time=   0.5s\n",
                        "[CV] END ...........clf__estimator__C=0.00013894954943731373; total time=   0.4s\n",
                        "[CV] END ...........clf__estimator__C=0.00013894954943731373; total time=   0.3s\n",
                        "[CV] END ............................clf__estimator__C=1e-05; total time=   0.4s\n",
                        "[CV] END ............................clf__estimator__C=1e-05; total time=   0.1s\n",
                        "[CV] END ............................clf__estimator__C=1e-05; total time=   0.4s\n",
                        "[CV] END ...........clf__estimator__C=0.00013894954943731373; total time=   0.3s\n",
                        "[CV] END ...........clf__estimator__C=0.00013894954943731373; total time=   0.4s\n",
                        "[CV] END ............................clf__estimator__C=1e-05; total time=   0.1s\n",
                        "[CV] END ............................clf__estimator__C=1e-05; total time=   0.3s\n",
                        "[CV] END ............................clf__estimator__C=1e-05; total time=   0.2s\n",
                        "[CV] END ...........clf__estimator__C=0.00013894954943731373; total time=   0.4s\n",
                        "[CV] END ...........clf__estimator__C=0.00013894954943731373; total time=   0.3s\n",
                        "[CV] END ............................clf__estimator__C=1e-05; total time=   0.2s\n",
                        "[CV] END ...........clf__estimator__C=0.00013894954943731373; total time=   0.3s\n",
                        "[CV] END ...........clf__estimator__C=0.00013894954943731373; total time=   0.1s\n",
                        "[CV] END ............................clf__estimator__C=1e-05; total time=   0.1s\n",
                        "[CV] END ...........clf__estimator__C=0.00013894954943731373; total time=   0.3s\n",
                        "[CV] END ...........clf__estimator__C=0.00013894954943731373; total time=   0.4s\n",
                        "[CV] END ............clf__estimator__C=0.0005179474679231213; total time=   0.5s\n",
                        "[CV] END ............clf__estimator__C=0.0005179474679231213; total time=   0.4s\n",
                        "[CV] END ............................clf__estimator__C=1e-05; total time=   0.7s\n",
                        "[CV] END ............clf__estimator__C=0.0005179474679231213; total time=   0.7s\n",
                        "[CV] END ............clf__estimator__C=0.0005179474679231213; total time=   0.7s\n",
                        "[CV] END ............clf__estimator__C=0.0005179474679231213; total time=   0.6s\n",
                        "[CV] END ............clf__estimator__C=0.0005179474679231213; total time=   0.7s\n",
                        "[CV] END ............clf__estimator__C=0.0005179474679231213; total time=   0.4s\n",
                        "[CV] END ............clf__estimator__C=0.0005179474679231213; total time=   0.8s\n",
                        "[CV] END ............clf__estimator__C=0.0005179474679231213; total time=   0.2s\n",
                        "[CV] END ............clf__estimator__C=0.0005179474679231213; total time=   0.8s\n",
                        "[CV] END ............clf__estimator__C=0.0005179474679231213; total time=   0.2s\n",
                        "[CV] END ............clf__estimator__C=0.0005179474679231213; total time=   0.4s\n",
                        "[CV] END ............clf__estimator__C=0.0005179474679231213; total time=   0.4s\n",
                        "[CV] END ............clf__estimator__C=0.0019306977288832496; total time=   0.3s\n",
                        "[CV] END ............clf__estimator__C=0.0005179474679231213; total time=   0.5s\n",
                        "[CV] END ............clf__estimator__C=0.0005179474679231213; total time=   0.5s\n",
                        "[CV] END ............clf__estimator__C=0.0019306977288832496; total time=   0.5s\n",
                        "[CV] END ............clf__estimator__C=0.0019306977288832496; total time=   0.4s\n",
                        "[CV] END ............clf__estimator__C=0.0019306977288832496; total time=   0.5s\n",
                        "[CV] END ............clf__estimator__C=0.0019306977288832496; total time=   0.5s\n",
                        "[CV] END ............clf__estimator__C=0.0019306977288832496; total time=   0.6s\n",
                        "[CV] END ............clf__estimator__C=0.0019306977288832496; total time=   0.6s\n",
                        "[CV] END ............clf__estimator__C=0.0019306977288832496; total time=   0.8s\n",
                        "[CV] END ............clf__estimator__C=0.0019306977288832496; total time=   0.5s\n",
                        "[CV] END ............clf__estimator__C=0.0019306977288832496; total time=   0.6s\n",
                        "[CV] END ............clf__estimator__C=0.0019306977288832496; total time=   0.7s\n",
                        "[CV] END ............clf__estimator__C=0.0019306977288832496; total time=   0.6s\n",
                        "[CV] END ............clf__estimator__C=0.0019306977288832496; total time=   0.6s\n",
                        "[CV] END ............clf__estimator__C=0.0019306977288832496; total time=   0.6s\n",
                        "[CV] END ............clf__estimator__C=0.0019306977288832496; total time=   0.6s\n",
                        "[CV] END .............clf__estimator__C=0.007196856730011514; total time=   0.5s\n",
                        "[CV] END .............clf__estimator__C=0.007196856730011514; total time=   0.6s\n",
                        "[CV] END .............clf__estimator__C=0.007196856730011514; total time=   0.6s\n",
                        "[CV] END .............clf__estimator__C=0.007196856730011514; total time=   0.6s\n",
                        "[CV] END .............clf__estimator__C=0.007196856730011514; total time=   0.6s\n",
                        "[CV] END .............clf__estimator__C=0.007196856730011514; total time=   0.4s\n",
                        "[CV] END .............clf__estimator__C=0.007196856730011514; total time=   0.4s\n",
                        "[CV] END .............clf__estimator__C=0.007196856730011514; total time=   0.5s\n",
                        "[CV] END .............clf__estimator__C=0.007196856730011514; total time=   0.6s\n",
                        "[CV] END .............clf__estimator__C=0.007196856730011514; total time=   0.6s\n",
                        "[CV] END .............clf__estimator__C=0.007196856730011514; total time=   0.7s\n",
                        "[CV] END .............clf__estimator__C=0.007196856730011514; total time=   0.8s\n",
                        "[CV] END .............clf__estimator__C=0.007196856730011514; total time=   0.6s\n",
                        "[CV] END .............clf__estimator__C=0.007196856730011514; total time=   0.7s\n",
                        "[CV] END .............clf__estimator__C=0.007196856730011514; total time=   0.8s\n",
                        "[CV] END .............clf__estimator__C=0.026826957952797246; total time=   0.9s\n",
                        "[CV] END .............clf__estimator__C=0.026826957952797246; total time=   0.9s\n",
                        "[CV] END .............clf__estimator__C=0.026826957952797246; total time=   1.0s\n",
                        "[CV] END .............clf__estimator__C=0.026826957952797246; total time=   0.7s\n",
                        "[CV] END .............clf__estimator__C=0.026826957952797246; total time=   0.8s\n",
                        "[CV] END .............clf__estimator__C=0.026826957952797246; total time=   0.8s\n",
                        "[CV] END .............clf__estimator__C=0.026826957952797246; total time=   0.8s\n",
                        "[CV] END .............clf__estimator__C=0.026826957952797246; total time=   0.9s\n",
                        "[CV] END .............clf__estimator__C=0.026826957952797246; total time=   1.0s\n",
                        "[CV] END .............clf__estimator__C=0.026826957952797246; total time=   0.9s\n",
                        "[CV] END .............clf__estimator__C=0.026826957952797246; total time=   0.6s\n",
                        "[CV] END .............clf__estimator__C=0.026826957952797246; total time=   0.7s\n",
                        "[CV] END .............clf__estimator__C=0.026826957952797246; total time=   0.7s\n",
                        "[CV] END .............clf__estimator__C=0.026826957952797246; total time=   0.7s\n",
                        "[CV] END .............clf__estimator__C=0.026826957952797246; total time=   0.8s\n",
                        "[CV] END ..............................clf__estimator__C=0.1; total time=   0.8s\n",
                        "[CV] END ..............................clf__estimator__C=0.1; total time=   1.0s\n",
                        "[CV] END ..............................clf__estimator__C=0.1; total time=   1.0s\n",
                        "[CV] END ..............................clf__estimator__C=0.1; total time=   0.9s\n",
                        "[CV] END ..............................clf__estimator__C=0.1; total time=   1.3s\n",
                        "[CV] END ..............................clf__estimator__C=0.1; total time=   1.3s\n",
                        "[CV] END ..............................clf__estimator__C=0.1; total time=   1.1s\n",
                        "[CV] END ..............................clf__estimator__C=0.1; total time=   1.0s\n",
                        "[CV] END ..............................clf__estimator__C=0.1; total time=   1.2s\n",
                        "[CV] END ..............................clf__estimator__C=0.1; total time=   1.1s\n",
                        "[CV] END ..............................clf__estimator__C=0.1; total time=   1.3s\n",
                        "[CV] END ..............................clf__estimator__C=0.1; total time=   1.4s\n",
                        "[CV] END ..............................clf__estimator__C=0.1; total time=   1.5s\n",
                        "[CV] END ..............................clf__estimator__C=0.1; total time=   1.3s\n",
                        "[CV] END ..............................clf__estimator__C=0.1; total time=   1.4s\n",
                        "[CV] END ...............clf__estimator__C=0.3727593720314938; total time=   1.4s\n",
                        "[CV] END ...............clf__estimator__C=0.3727593720314938; total time=   1.5s\n",
                        "[CV] END ...............clf__estimator__C=0.3727593720314938; total time=   1.6s\n",
                        "[CV] END ...............clf__estimator__C=0.3727593720314938; total time=   1.4s\n",
                        "[CV] END ...............clf__estimator__C=0.3727593720314938; total time=   1.8s\n",
                        "[CV] END ...............clf__estimator__C=0.3727593720314938; total time=   2.6s\n",
                        "[CV] END ...............clf__estimator__C=0.3727593720314938; total time=   1.7s\n",
                        "[CV] END ...............clf__estimator__C=0.3727593720314938; total time=   1.7s\n",
                        "[CV] END ...............clf__estimator__C=0.3727593720314938; total time=   1.7s\n",
                        "[CV] END ...............clf__estimator__C=0.3727593720314938; total time=   3.0s\n",
                        "[CV] END ...............clf__estimator__C=0.3727593720314938; total time=   1.8s\n",
                        "[CV] END ...............clf__estimator__C=0.3727593720314938; total time=   2.3s\n",
                        "[CV] END ...............clf__estimator__C=0.3727593720314938; total time=   2.9s\n",
                        "[CV] END ...............clf__estimator__C=0.3727593720314938; total time=   2.1s\n",
                        "[CV] END ................clf__estimator__C=1.389495494373136; total time=   2.1s\n",
                        "[CV] END ...............clf__estimator__C=0.3727593720314938; total time=   3.0s\n",
                        "[CV] END ................clf__estimator__C=1.389495494373136; total time=   2.0s\n",
                        "[CV] END ................clf__estimator__C=1.389495494373136; total time=   3.1s\n",
                        "[CV] END ................clf__estimator__C=1.389495494373136; total time=   3.2s\n",
                        "[CV] END ................clf__estimator__C=1.389495494373136; total time=   3.7s\n",
                        "[CV] END ................clf__estimator__C=1.389495494373136; total time=   2.5s\n",
                        "[CV] END ................clf__estimator__C=1.389495494373136; total time=   3.1s\n",
                        "[CV] END ................clf__estimator__C=1.389495494373136; total time=   2.5s\n",
                        "[CV] END ................clf__estimator__C=1.389495494373136; total time=   3.6s\n",
                        "[CV] END ................clf__estimator__C=1.389495494373136; total time=   3.3s\n",
                        "[CV] END ................clf__estimator__C=1.389495494373136; total time=   4.2s\n",
                        "[CV] END ................clf__estimator__C=5.179474679231202; total time=   1.9s\n",
                        "[CV] END ................clf__estimator__C=1.389495494373136; total time=   3.3s\n",
                        "[CV] END ................clf__estimator__C=1.389495494373136; total time=   3.2s\n",
                        "[CV] END ................clf__estimator__C=1.389495494373136; total time=   6.7s\n",
                        "[CV] END ................clf__estimator__C=5.179474679231202; total time=   4.5s\n",
                        "[CV] END ................clf__estimator__C=1.389495494373136; total time=   4.9s\n",
                        "[CV] END ................clf__estimator__C=5.179474679231202; total time=   4.9s\n",
                        "[CV] END ................clf__estimator__C=5.179474679231202; total time=   4.7s\n",
                        "[CV] END ................clf__estimator__C=5.179474679231202; total time=   5.4s\n",
                        "[CV] END ................clf__estimator__C=5.179474679231202; total time=   3.7s\n",
                        "[CV] END ................clf__estimator__C=5.179474679231202; total time=   4.9s\n",
                        "[CV] END ................clf__estimator__C=5.179474679231202; total time=   4.9s\n",
                        "[CV] END ................clf__estimator__C=5.179474679231202; total time=   2.7s\n",
                        "[CV] END ...............clf__estimator__C=19.306977288832496; total time=   1.9s\n",
                        "[CV] END ................clf__estimator__C=5.179474679231202; total time=   4.5s\n",
                        "[CV] END ................clf__estimator__C=5.179474679231202; total time=   6.0s\n",
                        "[CV] END ................clf__estimator__C=5.179474679231202; total time=   4.6s\n",
                        "[CV] END ................clf__estimator__C=5.179474679231202; total time=   4.7s\n",
                        "[CV] END ................clf__estimator__C=5.179474679231202; total time=   4.5s\n",
                        "[CV] END ...............clf__estimator__C=19.306977288832496; total time=   4.0s\n",
                        "[CV] END ................clf__estimator__C=5.179474679231202; total time=   8.7s\n",
                        "[CV] END ...............clf__estimator__C=19.306977288832496; total time=   4.8s\n",
                        "[CV] END ...............clf__estimator__C=19.306977288832496; total time=   4.9s\n",
                        "[CV] END ...............clf__estimator__C=19.306977288832496; total time=   7.5s\n",
                        "[CV] END ...............clf__estimator__C=19.306977288832496; total time=   5.6s\n",
                        "[CV] END ...............clf__estimator__C=19.306977288832496; total time=   6.5s\n",
                        "[CV] END ...............clf__estimator__C=19.306977288832496; total time=   9.4s\n",
                        "[CV] END ...............clf__estimator__C=19.306977288832496; total time=  12.1s\n",
                        "[CV] END ................clf__estimator__C=71.96856730011514; total time=   2.5s\n",
                        "[CV] END ...............clf__estimator__C=19.306977288832496; total time=   7.4s\n",
                        "[CV] END ...............clf__estimator__C=19.306977288832496; total time=   9.2s\n",
                        "[CV] END ...............clf__estimator__C=19.306977288832496; total time=   5.8s\n",
                        "[CV] END ...............clf__estimator__C=19.306977288832496; total time=  12.8s\n",
                        "[CV] END ...............clf__estimator__C=19.306977288832496; total time=   9.6s\n",
                        "[CV] END ................clf__estimator__C=71.96856730011514; total time=   4.9s\n",
                        "[CV] END ................clf__estimator__C=71.96856730011514; total time=   4.8s\n",
                        "[CV] END ................clf__estimator__C=71.96856730011514; total time=   6.1s\n",
                        "[CV] END ................clf__estimator__C=71.96856730011514; total time=   8.7s\n",
                        "[CV] END ................clf__estimator__C=71.96856730011514; total time=   7.3s\n",
                        "[CV] END ................clf__estimator__C=71.96856730011514; total time=  11.3s\n",
                        "[CV] END ................clf__estimator__C=71.96856730011514; total time=  17.2s\n",
                        "[CV] END ...............clf__estimator__C=19.306977288832496; total time=  23.4s\n",
                        "[CV] END ...............clf__estimator__C=268.26957952797216; total time=   5.1s\n",
                        "[CV] END ................clf__estimator__C=71.96856730011514; total time=  17.2s\n",
                        "[CV] END ................clf__estimator__C=71.96856730011514; total time=  16.3s\n",
                        "[CV] END ...............clf__estimator__C=268.26957952797216; total time=  10.2s\n",
                        "[CV] END ................clf__estimator__C=71.96856730011514; total time=  12.6s\n"
                    ]
                },
                {
                    "name": "stderr",
                    "output_type": "stream",
                    "text": [
                        "/Users/villafuertech/Documents/Academic/University/Sexto_Semestre/Machine_Learning/Seismic-Multilabel-Event-Classifier/env/lib/python3.12/site-packages/sklearn/svm/_base.py:1249: ConvergenceWarning: Liblinear failed to converge, increase the number of iterations.\n",
                        "  warnings.warn(\n"
                    ]
                },
                {
                    "name": "stdout",
                    "output_type": "stream",
                    "text": [
                        "[CV] END ................clf__estimator__C=71.96856730011514; total time=  19.8s\n",
                        "[CV] END ...............clf__estimator__C=268.26957952797216; total time=   7.7s\n",
                        "[CV] END ................clf__estimator__C=71.96856730011514; total time=  27.0s\n",
                        "[CV] END ...............clf__estimator__C=268.26957952797216; total time=  11.7s\n",
                        "[CV] END ...............clf__estimator__C=268.26957952797216; total time=  15.7s\n"
                    ]
                },
                {
                    "name": "stderr",
                    "output_type": "stream",
                    "text": [
                        "/Users/villafuertech/Documents/Academic/University/Sexto_Semestre/Machine_Learning/Seismic-Multilabel-Event-Classifier/env/lib/python3.12/site-packages/sklearn/svm/_base.py:1249: ConvergenceWarning: Liblinear failed to converge, increase the number of iterations.\n",
                        "  warnings.warn(\n"
                    ]
                },
                {
                    "name": "stdout",
                    "output_type": "stream",
                    "text": [
                        "[CV] END ...............clf__estimator__C=268.26957952797216; total time=  22.8s\n",
                        "[CV] END ...............clf__estimator__C=268.26957952797216; total time=  18.0s\n",
                        "[CV] END ................clf__estimator__C=71.96856730011514; total time=  30.6s\n",
                        "[CV] END ................clf__estimator__C=71.96856730011514; total time=  34.6s\n",
                        "[CV] END ...............clf__estimator__C=268.26957952797216; total time=   8.7s\n",
                        "[CV] END ...........................clf__estimator__C=1000.0; total time=   7.3s\n",
                        "[CV] END ...........................clf__estimator__C=1000.0; total time=   8.6s\n",
                        "[CV] END ...............clf__estimator__C=268.26957952797216; total time=  13.3s\n"
                    ]
                },
                {
                    "name": "stderr",
                    "output_type": "stream",
                    "text": [
                        "/Users/villafuertech/Documents/Academic/University/Sexto_Semestre/Machine_Learning/Seismic-Multilabel-Event-Classifier/env/lib/python3.12/site-packages/sklearn/svm/_base.py:1249: ConvergenceWarning: Liblinear failed to converge, increase the number of iterations.\n",
                        "  warnings.warn(\n"
                    ]
                },
                {
                    "name": "stdout",
                    "output_type": "stream",
                    "text": [
                        "[CV] END ...............clf__estimator__C=268.26957952797216; total time=  26.9s\n",
                        "[CV] END ...............clf__estimator__C=268.26957952797216; total time=  30.5s\n",
                        "[CV] END ...............clf__estimator__C=268.26957952797216; total time=  19.8s\n"
                    ]
                },
                {
                    "name": "stderr",
                    "output_type": "stream",
                    "text": [
                        "/Users/villafuertech/Documents/Academic/University/Sexto_Semestre/Machine_Learning/Seismic-Multilabel-Event-Classifier/env/lib/python3.12/site-packages/sklearn/svm/_base.py:1249: ConvergenceWarning: Liblinear failed to converge, increase the number of iterations.\n",
                        "  warnings.warn(\n"
                    ]
                },
                {
                    "name": "stdout",
                    "output_type": "stream",
                    "text": [
                        "[CV] END ...............clf__estimator__C=268.26957952797216; total time=  38.5s\n",
                        "[CV] END ...........................clf__estimator__C=1000.0; total time=  20.7s\n",
                        "[CV] END ...........................clf__estimator__C=1000.0; total time=   7.2s\n",
                        "[CV] END ...........................clf__estimator__C=1000.0; total time=  14.1s\n",
                        "[CV] END ...............clf__estimator__C=268.26957952797216; total time=  28.4s\n"
                    ]
                },
                {
                    "name": "stderr",
                    "output_type": "stream",
                    "text": [
                        "/Users/villafuertech/Documents/Academic/University/Sexto_Semestre/Machine_Learning/Seismic-Multilabel-Event-Classifier/env/lib/python3.12/site-packages/sklearn/svm/_base.py:1249: ConvergenceWarning: Liblinear failed to converge, increase the number of iterations.\n",
                        "  warnings.warn(\n"
                    ]
                },
                {
                    "name": "stdout",
                    "output_type": "stream",
                    "text": [
                        "[CV] END ...............clf__estimator__C=268.26957952797216; total time=  31.7s\n",
                        "[CV] END ...........................clf__estimator__C=1000.0; total time=  13.2s\n",
                        "[CV] END ...........................clf__estimator__C=1000.0; total time=  22.0s\n",
                        "[CV] END ...........................clf__estimator__C=1000.0; total time=  10.2s\n"
                    ]
                },
                {
                    "name": "stderr",
                    "output_type": "stream",
                    "text": [
                        "/Users/villafuertech/Documents/Academic/University/Sexto_Semestre/Machine_Learning/Seismic-Multilabel-Event-Classifier/env/lib/python3.12/site-packages/sklearn/svm/_base.py:1249: ConvergenceWarning: Liblinear failed to converge, increase the number of iterations.\n",
                        "  warnings.warn(\n"
                    ]
                },
                {
                    "name": "stdout",
                    "output_type": "stream",
                    "text": [
                        "[CV] END ...........................clf__estimator__C=1000.0; total time=  14.1s\n",
                        "[CV] END ...........................clf__estimator__C=1000.0; total time=  28.4s\n"
                    ]
                },
                {
                    "name": "stderr",
                    "output_type": "stream",
                    "text": [
                        "/Users/villafuertech/Documents/Academic/University/Sexto_Semestre/Machine_Learning/Seismic-Multilabel-Event-Classifier/env/lib/python3.12/site-packages/sklearn/svm/_base.py:1249: ConvergenceWarning: Liblinear failed to converge, increase the number of iterations.\n",
                        "  warnings.warn(\n"
                    ]
                },
                {
                    "name": "stdout",
                    "output_type": "stream",
                    "text": [
                        "[CV] END ...........................clf__estimator__C=1000.0; total time=  36.8s\n",
                        "[CV] END ...........................clf__estimator__C=1000.0; total time=  18.5s\n",
                        "[CV] END ...........................clf__estimator__C=1000.0; total time=  21.4s\n",
                        "[CV] END ...........................clf__estimator__C=1000.0; total time=  25.3s\n",
                        "[CV] END ...........................clf__estimator__C=1000.0; total time=  25.1s\n",
                        "Mejor C: 1e-05\n",
                        "Mejor F1 CV: 0.5368839151316325\n"
                    ]
                }
            ],
            "source": [
                "# ----- Bloque 7 Ampliado -----\n",
                "C_vals = np.logspace(-5, 3, 15)  # Ampliamos el rango de 10⁻⁵ a 10³ con 15 valores\n",
                "\n",
                "param_grid = {'clf__estimator__C': C_vals}\n",
                "\n",
                "rkf = RepeatedKFold(n_splits=5, n_repeats=3, random_state=42)\n",
                "scorer = make_scorer(f1_score, average='micro')\n",
                "\n",
                "grid = GridSearchCV(base_pipe, param_grid, scoring=scorer,\n",
                "                    cv=rkf, n_jobs=-1, verbose=2)\n",
                "grid.fit(X_train, y_train)\n",
                "\n",
                "best_C = grid.best_params_['clf__estimator__C']\n",
                "print('Mejor C:', best_C)\n",
                "print('Mejor F1 CV:', grid.best_score_)"
            ]
        },
        {
            "cell_type": "markdown",
            "id": "0119ceb0",
            "metadata": {},
            "source": [
                "## Bloque 8 – Optimización λ\n"
            ]
        },
        {
            "cell_type": "code",
            "execution_count": 36,
            "id": "ac3ed548",
            "metadata": {},
            "outputs": [
                {
                    "data": {
                        "image/png": "[encoded data removed]",
                        "text/plain": [
                            "<Figure size 700x500 with 1 Axes>"
                        ]
                    },
                    "metadata": {},
                    "output_type": "display_data"
                }
            ],
            "source": [
                "# ----- Bloque 8 -----\n",
                "res = pd.DataFrame(grid.cv_results_)\n",
                "res['lambda'] = 1 / res['param_clf__estimator__C'].astype(float)\n",
                "means = res.groupby('lambda')['mean_test_score'].mean().sort_index()\n",
                "\n",
                "plt.figure(figsize=(7,5))\n",
                "plt.plot(means.index, means.values, marker='o')\n",
                "plt.xscale('log')\n",
                "plt.xlabel('λ = 1/C')\n",
                "plt.ylabel('F1-micro promedio CV')\n",
                "plt.title('Optimización de λ – SVM')\n",
                "plt.grid(True)\n",
                "plt.show()"
            ]
        },
        {
            "cell_type": "markdown",
            "id": "f610b381",
            "metadata": {},
            "source": [
                "## Bloque 9 – Curva de aprendizaje\n"
            ]
        },
        {
            "cell_type": "code",
            "execution_count": 37,
            "id": "725ea294",
            "metadata": {},
            "outputs": [
                {
                    "data": {
                        "image/png": "[encoded data removed]",
                        "text/plain": [
                            "<Figure size 700x500 with 1 Axes>"
                        ]
                    },
                    "metadata": {},
                    "output_type": "display_data"
                }
            ],
            "source": [
                "# ----- Bloque 9 -----\n",
                "best_pipe = Pipeline([\n",
                "    ('scaler', StandardScaler()),\n",
                "    ('clf', OneVsRestClassifier(LinearSVC(C=best_C, max_iter=5000)))\n",
                "])\n",
                "\n",
                "train_sizes, tr_scores, val_scores = learning_curve(\n",
                "    best_pipe, X_train, y_train,\n",
                "    cv=rkf, scoring=scorer,\n",
                "    train_sizes=np.linspace(0.1,1.0,6),\n",
                "    n_jobs=-1\n",
                ")\n",
                "\n",
                "plt.figure(figsize=(7,5))\n",
                "plt.plot(train_sizes, tr_scores.mean(axis=1), 'o-', label='Train')\n",
                "plt.plot(train_sizes, val_scores.mean(axis=1), 'o-', label='Validación CV')\n",
                "plt.xlabel('Tamaño de entrenamiento')\n",
                "plt.ylabel('F1‑micro')\n",
                "plt.title('Curva de aprendizaje – SVM')\n",
                "plt.legend(); plt.grid(True); plt.show()"
            ]
        },
        {
            "cell_type": "markdown",
            "id": "ec6d103c",
            "metadata": {},
            "source": [
                "## Bloque 10 – Evaluación Test\n"
            ]
        },
        {
            "cell_type": "code",
            "execution_count": 38,
            "id": "f57f7c13",
            "metadata": {},
            "outputs": [
                {
                    "name": "stdout",
                    "output_type": "stream",
                    "text": [
                        "Test F1‑micro: 0.5279533300923676\n",
                        "Test F1‑macro: 0.4744035519716927\n",
                        "Test Hamming loss: 0.3220563847429519\n"
                    ]
                }
            ],
            "source": [
                "# ----- Bloque 10 -----\n",
                "best_pipe.fit(X_train, y_train)\n",
                "y_pred = best_pipe.predict(X_test)\n",
                "print('Test F1‑micro:', f1_score(y_test, y_pred, average='micro'))\n",
                "print('Test F1‑macro:', f1_score(y_test, y_pred, average='macro'))\n",
                "print('Test Hamming loss:', hamming_loss(y_test, y_pred))"
            ]
        },
        {
            "cell_type": "markdown",
            "id": "38eb9c3d",
            "metadata": {},
            "source": [
                "## Bloque 11 – Guardar modelo\n"
            ]
        },
        {
            "cell_type": "code",
            "execution_count": 39,
            "id": "fa2c401b",
            "metadata": {},
            "outputs": [
                {
                    "name": "stdout",
                    "output_type": "stream",
                    "text": [
                        "Modelo guardado en models/svm_repkfold.pkl\n"
                    ]
                }
            ],
            "source": [
                "# ----- Bloque 11 -----\n",
                "os.makedirs('models', exist_ok=True)\n",
                "joblib.dump(best_pipe, 'models/svm_repkfold.pkl')\n",
                "print('Modelo guardado en models/svm_repkfold.pkl')"
            ]
        }
    ],
    "metadata": {
        "kernelspec": {
            "display_name": "env",
            "language": "python",
            "name": "python3"
        },
        "language_info": {
            "codemirror_mode": {
                "name": "ipython",
                "version": 3
            },
            "file_extension": ".py",
            "mimetype": "text/x-python",
            "name": "python",
            "nbconvert_exporter": "python",
            "pygments_lexer": "ipython3",
            "version": "3.12.7"
        }
    },
    "nbformat": 4,
    "nbformat_minor": 5
}
