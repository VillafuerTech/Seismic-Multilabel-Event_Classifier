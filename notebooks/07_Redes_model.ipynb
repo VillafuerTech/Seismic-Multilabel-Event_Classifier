{
    "cells": [
        {
            "cell_type": "markdown",
            "metadata": {},
            "source": [
                "# Clasificación multietiqueta de eventos sísmicos con redes neuronales\n",
                "\n",
                "Este cuaderno implementa un **clasificador multietiqueta** basado en Keras/TensorFlow y *pipelines* de `scikit-learn`.\n",
                "\n",
                "**Lo que incluye:**\n",
                "1. Carga y pre-procesado del *dataset* (misma estructura usada en los ejemplos SVM/RF).\n",
                "2. Definición de la red neuronal (regularización *L2*, *dropout*, *batch-norm*).\n",
                "3. Integración con `scikeras.wrappers.KerasClassifier` para poder usar `Pipeline`, `GridSearchCV` y **Repeated K-Fold** (5×3).\n",
                "4. Optimización de hiperparámetros (λ ≡ tasa *L2*) + gráfica.\n",
                "5. Curva de aprendizaje (tamaño de entrenamiento vs F1-micro).\n",
                "6. Evaluación en *hold-out* y persistencia (`joblib`)."
            ]
        },
        {
            "cell_type": "code",
            "execution_count": null,
            "metadata": {
                "tags": []
            },
            "outputs": [],
            "source": [
    # ----- Bloque 1 – Imports generales -----\n","import os, joblib, json, warnings\n",
                "import numpy as np, pandas as pd, matplotlib.pyplot as plt, seaborn as sns\n",
                "from sklearn.model_selection import train_test_split, RepeatedKFold, GridSearchCV, learning_curve\n",
                "from sklearn.preprocessing import StandardScaler\n",
                "from sklearn.pipeline import Pipeline\n",
                "from sklearn.metrics import f1_score, hamming_loss, make_scorer\n",
                "from scikeras.wrappers import KerasClassifier\n",
                "import tensorflow as tf\n",
                "from tensorflow import keras\n",
                "from tensorflow.keras import layers, regularizers, callbacks, optimizers, metrics\n",
                "\n",
                "sns.set(style=\"whitegrid\")\n",
                "warnings.filterwarnings('ignore')\n"
            ]
        },
        {
            "cell_type": "markdown",
            "metadata": {},
            "source": [
                "## Bloque 2 – Carga del dataset"
            ]
        },
        {
            "cell_type": "code",
            "execution_count": null,
            "metadata": {},
            "outputs": [],
            "source": [
    # ----- Bloque 2 -----\n","df = pd.read_json('data/processed/dataset_final.json')\n",
                "label_cols = [\n",
                "    '1 Stiker Slip (SS)','2 Normal-Oblique (SO)','3 Reverse-Oblique (RO)',\n",
                "    '4-6','6-8','0-200','200-400','400-600','600-'\n",
                "]\n",
                "drop_cols  = ['Archivo','Falla_lbl','Mag_lbl','Vs_lbl','Combo'] + label_cols\n",
                "feature_cols = [c for c in df.columns if c not in drop_cols]\n",
                "\n",
                "X = df[feature_cols].astype('float32').values\n",
                "y = df[label_cols].astype('float32').values\n",
                "\n",
                "print('Shape X:', X.shape, '| Shape y:', y.shape)"
            ]
        },
        {
            "cell_type": "markdown",
            "metadata": {},
            "source": [
                "## Bloque 3 – Hold-out (*20 %*)"
            ]
        },
        {
            "cell_type": "code",
            "execution_count": null,
            "metadata": {},
            "outputs": [],
            "source": [
    # ----- Bloque 3 -----\n","X_train, X_test, y_train, y_test = train_test_split(\n",
                "    X, y, test_size=0.20, random_state=42, stratify=y)\n",
                "print(X_train.shape, X_test.shape)"
            ]
        },
        {
            "cell_type": "markdown",
            "metadata": {},
            "source": [
                "## Bloque 4 – Definición del modelo Keras\n",
                "\n",
                "*Parámetros que expondremos al *grid* (prefijo `model__` según la sintaxis de `scikeras`):*\n",
                "- `l2`: coeficiente de regularización λ.\n",
                "- `drop`: *dropout* interno.\n",
                "- `units`: tamaño de la primera capa (luego se reduce a la mitad sucesivamente)."
            ]
        },
        {
            "cell_type": "code",
            "execution_count": null,
            "metadata": {},
            "outputs": [],
            "source": [
    # ----- Bloque 4 -----\n","def build_nn(l2=1e-4, drop=0.3, units=256, input_dim=None, n_labels=9):\n",
                "    reg = regularizers.l2(l2)\n",
                "    inputs = layers.Input(shape=(input_dim,))\n",
                "    x = layers.Dense(units, activation='relu', kernel_regularizer=reg)(inputs)\n",
                "    x = layers.BatchNormalization()(x)\n",
                "    x = layers.Dropout(drop)(x)\n",
                "\n",
                "    for _ in range(2):\n",
                "        units //= 2\n",
                "        x = layers.Dense(units, activation='relu', kernel_regularizer=reg)(x)\n",
                "        x = layers.BatchNormalization()(x)\n",
                "        x = layers.Dropout(drop)(x)\n",
                "\n",
                "    outputs = layers.Dense(n_labels, activation='sigmoid')(x)\n",
                "    model = keras.Model(inputs, outputs, name='seismic_multilabel_nn')\n",
                "    model.compile(\n",
                "        optimizer=optimizers.Adam(learning_rate=1e-3),\n",
                "        loss='binary_crossentropy',\n",
                "        metrics=[metrics.AUC(name='auc', multi_label=True)]\n",
                "    )\n",
                "    return model"
            ]
        },
        {
            "cell_type": "markdown",
            "metadata": {},
            "source": [
                "## Bloque 5 – Pipeline base"
            ]
        },
        {
            "cell_type": "code",
            "execution_count": null,
            "metadata": {},
            "outputs": [],
            "source": [
    # ----- Bloque 5 -----\n","base_pipe = Pipeline([\n",
                "    ('scaler', StandardScaler()),\n",
                "    ('clf', KerasClassifier(\n",
                "        model=build_nn,\n",
                "        # argumentos \"no-optimizables\" (puedes exponer más si lo deseas)\n",
                "        epochs=60,\n",
                "        batch_size=32,\n",
                "        verbose=0,\n",
                "        callbacks=[\n",
                "            callbacks.EarlyStopping(patience=10, restore_best_weights=True)\n",
                "        ]\n",
                "    ))\n",
                "])"
            ]
        },
        {
            "cell_type": "markdown",
            "metadata": {},
            "source": [
                "## Bloque 6 – Grid y Repeated K-Fold"
            ]
        },
        {
            "cell_type": "code",
            "execution_count": null,
            "metadata": {},
            "outputs": [],
            "source": [
    # ----- Bloque 6 -----\n","lambda_vals = np.concatenate(([0.0], np.logspace(-4, -1, 4)))  # 0,1e-4,1e-3,1e-2,1e-1\n",
                "param_grid = {\n",
                "    'clf__model__l2': lambda_vals,\n",
                "    'clf__model__drop': [0.3],\n",
                "    'clf__epochs': [60]\n",
                "}\n",
                "\n",
                "rkf = RepeatedKFold(n_splits=5, n_repeats=3, random_state=42)\n",
                "scorer = make_scorer(f1_score, average='micro')\n",
                "\n",
                "grid = GridSearchCV(\n",
                "    estimator=base_pipe,\n",
                "    param_grid=param_grid,\n",
                "    scoring=scorer,\n",
                "    cv=rkf,\n",
                "    n_jobs=-1,\n",
                "    verbose=2\n",
                ")\n",
                "\n",
                "grid.fit(X_train, y_train)\n",
                "print('Mejor λ:', grid.best_params_['clf__model__l2'])\n",
                "print('Mejor F1-micro CV:', grid.best_score_)\n"
            ]
        },
        {
            "cell_type": "markdown",
            "metadata": {},
            "source": [
                "## Bloque 7 – Gráfica de optimización de λ"
            ]
        },
        {
            "cell_type": "code",
            "execution_count": null,
            "metadata": {},
            "outputs": [],
            "source": [
    # ----- Bloque 7 -----\n","results = pd.DataFrame(grid.cv_results_)\n",
                "means = (results.assign(lambda_val=results['param_clf__model__l2'].astype(float))\n",
                "                   .groupby('lambda_val')['mean_test_score'].mean()\n",
                "                   .sort_index())\n",
                "\n",
                "plt.figure(figsize=(7,5))\n",
                "plt.semilogx(means.index, means.values, marker='o')\n",
                "plt.xlabel('λ (coeficiente L2) – escala log')\n",
                "plt.ylabel('F1-micro promedio CV')\n",
                "plt.title('Optimización de λ – Red neuronal')\n",
                "plt.grid(True)\n",
                "plt.show()"
            ]
        },
        {
            "cell_type": "markdown",
            "metadata": {},
            "source": [
                "## Bloque 8 – Curva de aprendizaje"
            ]
        },
        {
            "cell_type": "code",
            "execution_count": null,
            "metadata": {},
            "outputs": [],
            "source": [
    # ----- Bloque 8 -----\n","best_lambda = grid.best_params_['clf__model__l2']\n",
                "\n",
                "best_pipe = Pipeline([\n",
                "    ('scaler', StandardScaler()),\n",
                "    ('clf', KerasClassifier(\n",
                "        model=build_nn,\n",
                "        model__l2=best_lambda,\n",
                "        epochs=60,\n",
                "        batch_size=32,\n",
                "        verbose=0,\n",
                "        callbacks=[callbacks.EarlyStopping(patience=10, restore_best_weights=True)]\n",
                "    ))\n",
                "])\n",
                "\n",
                "train_sizes, tr_scores, val_scores = learning_curve(\n",
                "    best_pipe, X_train, y_train,\n",
                "    cv=rkf,\n",
                "    scoring=scorer,\n",
                "    train_sizes=np.linspace(0.1, 1.0, 6),\n",
                "    n_jobs=-1\n",
                ")\n",
                "\n",
                "plt.figure(figsize=(7,5))\n",
                "plt.plot(train_sizes, tr_scores.mean(axis=1), 'o-', label='Train')\n",
                "plt.plot(train_sizes, val_scores.mean(axis=1), 'o-', label='Validación CV')\n",
                "plt.xlabel('Tamaño de entrenamiento')\n",
                "plt.ylabel('F1-micro')\n",
                "plt.title('Curva de aprendizaje – Red neuronal')\n",
                "plt.legend(); plt.grid(True); plt.show()"
            ]
        },
        {
            "cell_type": "markdown",
            "metadata": {},
            "source": [
                "## Bloque 9 – Evaluación final y persistencia"
            ]
        },
        {
            "cell_type": "code",
            "execution_count": null,
            "metadata": {},
            "outputs": [],
            "source": [
    # ----- Bloque 9 -----\n","best_pipe.fit(X_train, y_train)\n",
                "y_pred = best_pipe.predict(X_test)\n",
                "\n",
                "print('Test F1-micro :', f1_score(y_test, y_pred, average='micro'))\n",
                "print('Test Hamming loss:', hamming_loss(y_test, y_pred))\n",
                "\n",
                "os.makedirs('models', exist_ok=True)\n",
                "joblib.dump(best_pipe, 'models/nn_cv_pipeline.pkl')\n",
                "print('Pipeline guardado en models/nn_cv_pipeline.pkl')"
            ]
        }
    ],
    "metadata": {
        "kernelspec": {
            "display_name": "Python 3 (env)",
            "language": "python",
            "name": "python3"
        },
        "language_info": {
            "name": "python",
            "version": "3.11"
        }
    },
    "nbformat": 4,
    "nbformat_minor": 5
}
