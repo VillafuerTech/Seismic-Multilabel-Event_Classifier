{
    "cells": [
        {
            "cell_type": "markdown",
            "id": "89269703",
            "metadata": {},
            "source": [
                "# Comparación Estadística de Tres Técnicas de ML\n",
                "\n",
                "**Proyecto:** Clasificación Multietiqueta de Señales Sísmicas  \n",
                "**Modelos comparados:**  \n",
                "1. Random Forest (`rf_repkfold.pkl`)  \n",
                "2. Support‑Vector Machine (`svm_repkfold.pkl`)  \n",
                "3. Red Neuronal (`best_seismic.ckpt` + `scaler.pkl`)\n",
                "\n",
                "Evaluamos los modelos con **Validación Cruzada Repetida K‑Fold** y comparamos estadísticamente su rendimiento F1‑micro utilizando la prueba de Friedman y las pruebas post‑hoc de rango con signo de Wilcoxon.  \n",
                "Ajusta `n_repeats` / `k` si el tiempo de entrenamiento es excesivo (valores predeterminados = 2 × 5)."
            ]
        },
        {
            "cell_type": "code",
            "execution_count": null,
            "id": "70a61f3a",
            "metadata": {},
            "outputs": [],
            "source": [
                "import os, json, joblib, torch, numpy as np, pandas as pd\n",
                "from sklearn.model_selection import RepeatedKFold\n",
                "from sklearn.metrics import f1_score\n",
                "from sklearn.preprocessing import StandardScaler\n",
                "from sklearn.pipeline import Pipeline\n",
                "from sklearn.base import clone\n",
                "from scipy.stats import friedmanchisquare, wilcoxon\n",
                "import matplotlib.pyplot as plt\n",
                "import seaborn as sns  # comment out if seaborn is not installed\n",
                "\n",
                "import lightning as L          # unified Lightning import\n",
                "import torch.nn as nn\n",
                "from torchmetrics import F1Score, HammingDistance\n"
            ]
        },
        {
            "cell_type": "code",
            "execution_count": null,
            "id": "00afca39",
            "metadata": {},
            "outputs": [],
            "source": [
                "# --- Ensure we are at project root ---\n",
                "if os.path.basename(os.getcwd()) != 'Seismic-Multilabel-Event-Classifier':\n",
                "    while os.path.basename(os.getcwd()) != 'Seismic-Multilabel-Event-Classifier':\n",
                "        os.chdir('..')\n",
                "    print('CWD ->', os.getcwd())\n"
            ]
        },
        {
            "cell_type": "code",
            "execution_count": null,
            "id": "6d7e1150",
            "metadata": {},
            "outputs": [
                {
                    "name": "stdout",
                    "output_type": "stream",
                    "text": [
                        "Dataset: (1674, 82) (1674, 9)\n"
                    ]
                }
            ],
            "source": [
                "# --- Load processed dataset ---\n",
                "with open('data/processed/dataset_final.json', 'r') as f:\n",
                "    data = json.load(f)\n",
                "df = pd.DataFrame(data)\n",
                "\n",
                "label_cols = [\n",
                "    '1 Stiker Slip (SS)', '2 Normal-Oblique (SO)', '3 Reverse-Oblique (RO)',\n",
                "    '4-6', '6-8', '0-200', '200-400', '400-600', '600-'\n",
                "]\n",
                "feature_cols = [c for c in df.columns if c not in label_cols]\n",
                "\n",
                "X = df[feature_cols].to_numpy(dtype='float32')\n",
                "y = df[label_cols].astype(int).to_numpy()\n",
                "\n",
                "print('Dataset:', X.shape, y.shape)"
            ]
        },
        {
            "cell_type": "code",
            "execution_count": null,
            "id": "3a8cf45a",
            "metadata": {},
            "outputs": [],
            "source": [
                "# --- Lightning model ---\n",
                "class SeismicMultilabelModel(L.LightningModule):\n",
                "    \"\"\"Simple MLP for multilabel seismic classification.\"\"\"\n",
                "    def __init__(self,\n",
                "                 input_dim:int,\n",
                "                 num_classes:int,\n",
                "                 hidden_units=(128, 64),\n",
                "                 lambda_L2:float=0.0,\n",
                "                 lr:float=1e-3):\n",
                "        super().__init__()\n",
                "        self.save_hyperparameters()\n",
                "\n",
                "        layers = [nn.Flatten()]\n",
                "        prev = input_dim\n",
                "        for h in hidden_units:\n",
                "            layers += [nn.Linear(prev, h), nn.ReLU()]\n",
                "            prev = h\n",
                "        layers.append(nn.Linear(prev, num_classes))\n",
                "\n",
                "        self.model = nn.Sequential(*layers)\n",
                "        self.classifier = self.model        # alias for checkpoint compatibility\n",
                "\n",
                "        self.crit = nn.BCEWithLogitsLoss()\n",
                "        self.f1   = F1Score(task='multilabel', num_labels=num_classes,\n",
                "                            average='micro')\n",
                "        self.ham  = HammingDistance(task='multilabel', num_labels=num_classes)\n",
                "\n",
                "    # forward pass\n",
                "    def forward(self, x): return self.model(x)\n",
                "\n",
                "    # shared logic\n",
                "    def _step(self, batch, stage:str):\n",
                "        x, y = batch\n",
                "        logits = self(x)\n",
                "        loss = self.crit(logits, y.float())\n",
                "        probs = torch.sigmoid(logits)\n",
                "        self.log(f'{stage}_loss', loss, prog_bar=True)\n",
                "        self.log(f'{stage}_f1',   self.f1(probs, y), prog_bar=True)\n",
                "        self.log(f'{stage}_ham',  self.ham(probs, y), prog_bar=True)\n",
                "        return loss\n",
                "\n",
                "    def training_step(self, batch, idx):   return self._step(batch, 'train')\n",
                "    def validation_step(self, batch, idx): return self._step(batch, 'val')\n",
                "    def test_step(self, batch, idx):       return self._step(batch, 'test')\n",
                "\n",
                "    def configure_optimizers(self):\n",
                "        return torch.optim.Adam(self.parameters(),\n",
                "                                lr=self.hparams.lr,\n",
                "                                weight_decay=self.hparams.lambda_L2)\n"
            ]
        },
        {
            "cell_type": "code",
            "execution_count": null,
            "id": "0a6f07ee",
            "metadata": {},
            "outputs": [],
            "source": [
                "# --- Helper to train NN inside a CV fold ---\n",
                "from torch.utils.data import DataLoader, TensorDataset\n",
                "\n",
                "def train_nn(X_tr, y_tr, X_val, y_val, hparams, epochs=15):\n",
                "    scaler = StandardScaler().fit(X_tr)\n",
                "    Xtr = torch.tensor(scaler.transform(X_tr), dtype=torch.float32)\n",
                "    Xv  = torch.tensor(scaler.transform(X_val), dtype=torch.float32)\n",
                "    ytr = torch.tensor(y_tr, dtype=torch.float32)\n",
                "    yv  = torch.tensor(y_val, dtype=torch.float32)\n",
                "\n",
                "    train_dl = DataLoader(TensorDataset(Xtr, ytr), batch_size=32, shuffle=True)\n",
                "    val_dl   = DataLoader(TensorDataset(Xv,  yv),  batch_size=32)\n",
                "\n",
                "    model = SeismicMultilabelModel(\n",
                "        input_dim   = X_tr.shape[1],\n",
                "        num_classes = y_tr.shape[1],\n",
                "        hidden_units= hparams['hidden_units'],\n",
                "        lambda_L2   = hparams['lambda_L2'],\n",
                "        lr          = hparams['lr']\n",
                "    )\n",
                "\n",
                "    trainer = L.Trainer(max_epochs=epochs,\n",
                "                        accelerator='gpu' if torch.cuda.is_available() else 'cpu',\n",
                "                        devices=1,\n",
                "                        logger=False,\n",
                "                        enable_progress_bar=False,\n",
                "                        enable_checkpointing=False)\n",
                "\n",
                "    trainer.fit(model, train_dl, val_dl)\n",
                "    return model, scaler\n"
            ]
        },
        {
            "cell_type": "code",
            "execution_count": null,
            "id": "aa865be9",
            "metadata": {},
            "outputs": [],
            "source": [
                "# --- Load RF & SVM templates ---\n",
                "rf_template  = joblib.load('models/rf_repkfold.pkl')\n",
                "svm_template = joblib.load('models/svm_repkfold.pkl')\n",
                "\n",
                "def make_model(estimator):\n",
                "    return Pipeline([\n",
                "        ('scaler', StandardScaler()),\n",
                "        ('clf', clone(estimator))\n",
                "    ])\n",
                "\n",
                "rf_pipe  = make_model(rf_template)\n",
                "svm_pipe = make_model(svm_template)\n",
                "\n",
                "# Hyperparameters for NN (same as checkpoint best)\n",
                "hparams = dict(hidden_units=(128,64), lambda_L2=0.0, lr=1e-3)\n"
            ]
        },
        {
            "cell_type": "code",
            "execution_count": null,
            "id": "590ebdc2",
            "metadata": {},
            "outputs": [],
            "source": [
                "# --- Repeated K‑Fold evaluation ---\n",
                "n_splits, n_repeats = 5, 2\n",
                "rkf = RepeatedKFold(n_splits=n_splits, n_repeats=n_repeats, random_state=42)\n",
                "\n",
                "rf_scores, svm_scores, nn_scores = [], [], []\n",
                "\n",
                "for fold, (train_idx, val_idx) in enumerate(rkf.split(X), 1):\n",
                "    print(f'Fold {fold}/{n_splits*n_repeats}')\n",
                "    X_tr, y_tr = X[train_idx], y[train_idx]\n",
                "    X_val, y_val = X[val_idx], y[val_idx]\n",
                "\n",
                "    # Random Forest\n",
                "    rf = clone(rf_pipe)\n",
                "    rf.fit(X_tr, y_tr)\n",
                "    rf_scores.append(f1_score(y_val, rf.predict(X_val), average='micro'))\n",
                "\n",
                "    # SVM\n",
                "    svm = clone(svm_pipe)\n",
                "    svm.fit(X_tr, y_tr)\n",
                "    svm_scores.append(f1_score(y_val, svm.predict(X_val), average='micro'))\n",
                "\n",
                "    # Neural Net\n",
                "    nn_model, scaler_fold = train_nn(X_tr, y_tr, X_val, y_val, hparams, epochs=15)\n",
                "    X_val_scaled = scaler_fold.transform(X_val)\n",
                "    with torch.no_grad():\n",
                "        logits = nn_model(torch.tensor(X_val_scaled, dtype=torch.float32))\n",
                "        probs  = torch.sigmoid(logits).cpu().numpy()\n",
                "    nn_scores.append(f1_score(y_val, (probs > 0.5).astype(int), average='micro'))\n",
                "\n",
                "# Collect scores\n",
                "df_scores = pd.DataFrame({\n",
                "    'RandomForest': rf_scores,\n",
                "    'SVM':          svm_scores,\n",
                "    'NeuralNet':    nn_scores\n",
                "})\n",
                "df_scores.head()\n"
            ]
        },
        {
            "cell_type": "code",
            "execution_count": null,
            "id": "f42f313e",
            "metadata": {},
            "outputs": [
                {
                    "name": "stdout",
                    "output_type": "stream",
                    "text": [
                        "       RandomForest        SVM  NeuralNet\n",
                        "count     10.000000  10.000000  10.000000\n",
                        "mean       0.608415   0.538660   0.596592\n",
                        "std        0.010968   0.009503   0.011809\n",
                        "min        0.594300   0.523419   0.579247\n",
                        "25%        0.599614   0.535057   0.592358\n",
                        "50%        0.607167   0.539052   0.596244\n",
                        "75%        0.613179   0.543834   0.601345\n",
                        "max        0.625826   0.553995   0.618363\n"
                    ]
                },
                {
                    "data": {
                        "image/png": "[encoded data removed]",
                        "text/plain": [
                            "<Figure size 800x500 with 1 Axes>"
                        ]
                    },
                    "metadata": {},
                    "output_type": "display_data"
                }
            ],
            "source": [
                "# --- Summary & boxplot ---\n",
                "print(df_scores.describe())\n",
                "\n",
                "plt.figure(figsize=(8,5))\n",
                "sns.boxplot(data=df_scores)\n",
                "plt.ylabel('F1‑micro')\n",
                "plt.title('Repeated K‑Fold distribution (2×5)')\n",
                "plt.show()\n"
            ]
        },
        {
            "cell_type": "code",
            "execution_count": null,
            "id": "7a932bbb",
            "metadata": {},
            "outputs": [
                {
                    "name": "stdout",
                    "output_type": "stream",
                    "text": [
                        "Friedman χ² = 18.2000, p = 1.1167e-04\n",
                        "→ Significant differences ➜ Wilcoxon:\n",
                        "  RandomForest vs SVM: W=0.0, p=1.9531e-03\n",
                        "  RandomForest vs NeuralNet: W=2.0, p=5.8594e-03\n",
                        "  SVM vs NeuralNet: W=0.0, p=1.9531e-03\n"
                    ]
                }
            ],
            "source": [
                "# --- Friedman + Wilcoxon ---\n",
                "stat, p = friedmanchisquare(df_scores['RandomForest'],\n",
                "                             df_scores['SVM'],\n",
                "                             df_scores['NeuralNet'])\n",
                "print(f'Friedman χ² = {stat:.4f}, p = {p:.4e}')\n",
                "\n",
                "alpha = 0.05\n",
                "if p < alpha:\n",
                "    print('→ Significant differences ➜ Wilcoxon:')\n",
                "    pairs = [('RandomForest','SVM'),\n",
                "             ('RandomForest','NeuralNet'),\n",
                "             ('SVM','NeuralNet')]\n",
                "    for a,b in pairs:\n",
                "        w, p_pair = wilcoxon(df_scores[a], df_scores[b])\n",
                "        print(f'  {a} vs {b}: W={w:.1f}, p={p_pair:.4e}')\n",
                "else:\n",
                "    print('→ No significant differences (fail to reject H₀)')\n"
            ]
        },
        {
            "cell_type": "code",
            "execution_count": null,
            "id": "acfcae2e",
            "metadata": {},
            "outputs": [
                {
                    "name": "stdout",
                    "output_type": "stream",
                    "text": [
                        "Saved per‑fold scores ➜ models/repeated_kfold_scores.csv\n"
                    ]
                }
            ],
            "source": [
                "df_scores.to_csv('models/repeated_kfold_scores.csv', index=False)\n",
                "print('Saved per‑fold scores ➜ models/repeated_kfold_scores.csv')"
            ]
        }
    ],
    "metadata": {
        "kernelspec": {
            "display_name": "env",
            "language": "python",
            "name": "python3"
        }
    },
    "nbformat": 4,
    "nbformat_minor": 5
}
