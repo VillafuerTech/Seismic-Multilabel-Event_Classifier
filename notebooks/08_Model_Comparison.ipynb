{
    "cells": [
        {
            "cell_type": "markdown",
            "id": "150fcb31",
            "metadata": {},
            "source": [
                "# Statistical Comparison of Three ML Techniques\n",
                "\n",
                "**Project:** Multilabel Classification of Seismic Signals  \n",
                "**Models compared:**\n",
                "1. Random Forest (`rf_repkfold.pkl`)\n",
                "2. Support‑Vector Machine (`svm_repkfold.pkl`)\n",
                "3. Neural Network (`best_seismic.ckpt` + `scaler.pkl`)\n",
                "\n",
                "We evaluate the models with **Repeated K‑Fold Cross‑Validation** and statistically compare their F1‑micro performance using the Friedman test and Wilcoxon signed‑rank post‑hoc tests. Adjust the number of repeats/folds if training time is excessive (default `n_repeats=2`, `k=5`)."
            ]
        },
        {
            "cell_type": "code",
            "execution_count": 41,
            "id": "8bb691d9",
            "metadata": {},
            "outputs": [],
            "source": [
                "import os, json, joblib, torch, numpy as np, pandas as pd\n",
                "from sklearn.model_selection import RepeatedKFold\n",
                "from sklearn.metrics import f1_score\n",
                "from sklearn.preprocessing import StandardScaler\n",
                "from sklearn.compose import ColumnTransformer\n",
                "from sklearn.pipeline import Pipeline\n",
                "from sklearn.base import clone\n",
                "from scipy.stats import friedmanchisquare, wilcoxon\n",
                "import matplotlib.pyplot as plt\n",
                "import seaborn as sns  # only for nicer plots, uninstall if not present\n"
            ]
        },
        {
            "cell_type": "code",
            "execution_count": 42,
            "id": "31f1430c",
            "metadata": {},
            "outputs": [],
            "source": [
                "if os.path.basename(os.getcwd()) != 'Seismic-Multilabel-Event-Classifier':\n",
                "    while os.path.basename(os.getcwd()) != 'Seismic-Multilabel-Event-Classifier':\n",
                "        os.chdir('..')\n",
                "    print('CWD cambiado →', os.getcwd())"
            ]
        },
        {
            "cell_type": "code",
            "execution_count": 43,
            "id": "8b2f5daa",
            "metadata": {},
            "outputs": [],
            "source": [
                "\n",
                "# PyTorch‑Lightning model class must be importable; adjust path if needed\n",
                "from src.seismic_model import SeismicMultilabelModel  # Adjusted path based on project structure\n"
            ]
        },
        {
            "cell_type": "code",
            "execution_count": 44,
            "id": "e61c3c95",
            "metadata": {},
            "outputs": [
                {
                    "name": "stdout",
                    "output_type": "stream",
                    "text": [
                        "Dataset: (1674, 82) (1674, 9)\n"
                    ]
                }
            ],
            "source": [
                "# --- Load processed JSON dataset ---\n",
                "path_json = 'data/processed/dataset_final.json'\n",
                "with open(path_json, 'r') as f:\n",
                "    data = json.load(f)\n",
                "df = pd.DataFrame(data)\n",
                "\n",
                "label_cols = [\n",
                "    '1 Stiker Slip (SS)', '2 Normal-Oblique (SO)', '3 Reverse-Oblique (RO)',\n",
                "    '4-6', '6-8', '0-200', '200-400', '400-600', '600-'\n",
                "]\n",
                "feature_cols = [c for c in df.columns if c not in label_cols]\n",
                "\n",
                "X = df[feature_cols].to_numpy(dtype='float32')\n",
                "y = df[label_cols].astype(int).to_numpy()\n",
                "print('Dataset:', X.shape, y.shape)"
            ]
        },
        {
            "cell_type": "code",
            "execution_count": 47,
            "id": "95be056e",
            "metadata": {},
            "outputs": [
                {
                    "ename": "RuntimeError",
                    "evalue": "Error(s) in loading state_dict for SeismicMultilabelModel:\n\tMissing key(s) in state_dict: \"model.0.weight\", \"model.0.bias\". \n\tUnexpected key(s) in state_dict: \"model.5.weight\", \"model.5.bias\", \"model.5.running_mean\", \"model.5.running_var\", \"model.5.num_batches_tracked\", \"model.7.weight\", \"model.7.bias\", \"model.1.weight\", \"model.1.bias\", \"model.2.running_mean\", \"model.2.running_var\", \"model.2.num_batches_tracked\". \n\tsize mismatch for model.2.weight: copying a param with shape torch.Size([128]) from checkpoint, the shape in current model is torch.Size([64, 128]).\n\tsize mismatch for model.2.bias: copying a param with shape torch.Size([128]) from checkpoint, the shape in current model is torch.Size([64]).\n\tsize mismatch for model.4.weight: copying a param with shape torch.Size([64, 128]) from checkpoint, the shape in current model is torch.Size([9, 64]).\n\tsize mismatch for model.4.bias: copying a param with shape torch.Size([64]) from checkpoint, the shape in current model is torch.Size([9]).",
                    "output_type": "error",
                    "traceback": [
                        "\u001b[31m---------------------------------------------------------------------------\u001b[39m",
                        "\u001b[31mRuntimeError\u001b[39m                              Traceback (most recent call last)",
                        "\u001b[36mCell\u001b[39m\u001b[36m \u001b[39m\u001b[32mIn[47]\u001b[39m\u001b[32m, line 25\u001b[39m\n\u001b[32m     15\u001b[39m model = SeismicMultilabelModel(\n\u001b[32m     16\u001b[39m     input_dim= \u001b[32m82\u001b[39m,\n\u001b[32m     17\u001b[39m     input_shape=hparams[\u001b[33m'\u001b[39m\u001b[33minput_shape\u001b[39m\u001b[33m'\u001b[39m],\n\u001b[32m   (...)\u001b[39m\u001b[32m     21\u001b[39m     lr=hparams[\u001b[33m'\u001b[39m\u001b[33mlr\u001b[39m\u001b[33m'\u001b[39m]\n\u001b[32m     22\u001b[39m )\n\u001b[32m     24\u001b[39m \u001b[38;5;66;03m# 5. Carga el estado ya renombrado\u001b[39;00m\n\u001b[32m---> \u001b[39m\u001b[32m25\u001b[39m \u001b[43mmodel\u001b[49m\u001b[43m.\u001b[49m\u001b[43mload_state_dict\u001b[49m\u001b[43m(\u001b[49m\u001b[43mnew_sd\u001b[49m\u001b[43m)\u001b[49m\n",
                        "\u001b[36mFile \u001b[39m\u001b[32m~/Documents/Academic/University/Sexto_Semestre/Machine_Learning/Seismic-Multilabel-Event-Classifier/env/lib/python3.12/site-packages/torch/nn/modules/module.py:2593\u001b[39m, in \u001b[36mModule.load_state_dict\u001b[39m\u001b[34m(self, state_dict, strict, assign)\u001b[39m\n\u001b[32m   2585\u001b[39m         error_msgs.insert(\n\u001b[32m   2586\u001b[39m             \u001b[32m0\u001b[39m,\n\u001b[32m   2587\u001b[39m             \u001b[33m\"\u001b[39m\u001b[33mMissing key(s) in state_dict: \u001b[39m\u001b[38;5;132;01m{}\u001b[39;00m\u001b[33m. \u001b[39m\u001b[33m\"\u001b[39m.format(\n\u001b[32m   2588\u001b[39m                 \u001b[33m\"\u001b[39m\u001b[33m, \u001b[39m\u001b[33m\"\u001b[39m.join(\u001b[33mf\u001b[39m\u001b[33m'\u001b[39m\u001b[33m\"\u001b[39m\u001b[38;5;132;01m{\u001b[39;00mk\u001b[38;5;132;01m}\u001b[39;00m\u001b[33m\"\u001b[39m\u001b[33m'\u001b[39m \u001b[38;5;28;01mfor\u001b[39;00m k \u001b[38;5;129;01min\u001b[39;00m missing_keys)\n\u001b[32m   2589\u001b[39m             ),\n\u001b[32m   2590\u001b[39m         )\n\u001b[32m   2592\u001b[39m \u001b[38;5;28;01mif\u001b[39;00m \u001b[38;5;28mlen\u001b[39m(error_msgs) > \u001b[32m0\u001b[39m:\n\u001b[32m-> \u001b[39m\u001b[32m2593\u001b[39m     \u001b[38;5;28;01mraise\u001b[39;00m \u001b[38;5;167;01mRuntimeError\u001b[39;00m(\n\u001b[32m   2594\u001b[39m         \u001b[33m\"\u001b[39m\u001b[33mError(s) in loading state_dict for \u001b[39m\u001b[38;5;132;01m{}\u001b[39;00m\u001b[33m:\u001b[39m\u001b[38;5;130;01m\\n\u001b[39;00m\u001b[38;5;130;01m\\t\u001b[39;00m\u001b[38;5;132;01m{}\u001b[39;00m\u001b[33m\"\u001b[39m.format(\n\u001b[32m   2595\u001b[39m             \u001b[38;5;28mself\u001b[39m.\u001b[34m__class__\u001b[39m.\u001b[34m__name__\u001b[39m, \u001b[33m\"\u001b[39m\u001b[38;5;130;01m\\n\u001b[39;00m\u001b[38;5;130;01m\\t\u001b[39;00m\u001b[33m\"\u001b[39m.join(error_msgs)\n\u001b[32m   2596\u001b[39m         )\n\u001b[32m   2597\u001b[39m     )\n\u001b[32m   2598\u001b[39m \u001b[38;5;28;01mreturn\u001b[39;00m _IncompatibleKeys(missing_keys, unexpected_keys)\n",
                        "\u001b[31mRuntimeError\u001b[39m: Error(s) in loading state_dict for SeismicMultilabelModel:\n\tMissing key(s) in state_dict: \"model.0.weight\", \"model.0.bias\". \n\tUnexpected key(s) in state_dict: \"model.5.weight\", \"model.5.bias\", \"model.5.running_mean\", \"model.5.running_var\", \"model.5.num_batches_tracked\", \"model.7.weight\", \"model.7.bias\", \"model.1.weight\", \"model.1.bias\", \"model.2.running_mean\", \"model.2.running_var\", \"model.2.num_batches_tracked\". \n\tsize mismatch for model.2.weight: copying a param with shape torch.Size([128]) from checkpoint, the shape in current model is torch.Size([64, 128]).\n\tsize mismatch for model.2.bias: copying a param with shape torch.Size([128]) from checkpoint, the shape in current model is torch.Size([64]).\n\tsize mismatch for model.4.weight: copying a param with shape torch.Size([64, 128]) from checkpoint, the shape in current model is torch.Size([9, 64]).\n\tsize mismatch for model.4.bias: copying a param with shape torch.Size([64]) from checkpoint, the shape in current model is torch.Size([9])."
                    ]
                }
            ],
            "source": [
                "import torch\n",
                "\n",
                "# 1. Carga el checkpoint “a mano”\n",
                "ckpt = torch.load('models/best_seismic.ckpt', map_location='cpu')\n",
                "\n",
                "# 2. Extrae el state_dict y renombra classifier. → model.\n",
                "old_sd = ckpt['state_dict']\n",
                "new_sd = {k.replace('classifier.', 'model.'): v for k, v in old_sd.items()}\n",
                "\n",
                "# 3. Lee los hyperparams guardados\n",
                "hparams = ckpt['hyper_parameters']\n",
                "#    hidden_units, lambda_L2, lr, input_shape, num_classes, etc.\n",
                "\n",
                "# 4. Instancia tu clase con los mismos hyperparams\n",
                "model = SeismicMultilabelModel(\n",
                "    input_dim= 82,\n",
                "    input_shape=hparams['input_shape'],\n",
                "    num_classes=hparams['num_classes'],\n",
                "    hidden_units=hparams['hidden_units'],\n",
                "    lambda_L2=hparams['lambda_L2'],\n",
                "    lr=hparams['lr']\n",
                ")\n",
                "\n",
                "# 5. Carga el estado ya renombrado\n",
                "model.load_state_dict(new_sd)"
            ]
        },
        {
            "cell_type": "code",
            "execution_count": 45,
            "id": "d8c4d613",
            "metadata": {},
            "outputs": [
                {
                    "ename": "RuntimeError",
                    "evalue": "Error(s) in loading state_dict for SeismicMultilabelModel:\n\tMissing key(s) in state_dict: \"model.0.weight\", \"model.0.bias\", \"model.2.weight\", \"model.2.bias\", \"model.4.weight\", \"model.4.bias\". \n\tUnexpected key(s) in state_dict: \"classifier.1.weight\", \"classifier.1.bias\", \"classifier.2.weight\", \"classifier.2.bias\", \"classifier.2.running_mean\", \"classifier.2.running_var\", \"classifier.2.num_batches_tracked\", \"classifier.4.weight\", \"classifier.4.bias\", \"classifier.5.weight\", \"classifier.5.bias\", \"classifier.5.running_mean\", \"classifier.5.running_var\", \"classifier.5.num_batches_tracked\", \"classifier.7.weight\", \"classifier.7.bias\". ",
                    "output_type": "error",
                    "traceback": [
                        "\u001b[31m---------------------------------------------------------------------------\u001b[39m",
                        "\u001b[31mRuntimeError\u001b[39m                              Traceback (most recent call last)",
                        "\u001b[36mCell\u001b[39m\u001b[36m \u001b[39m\u001b[32mIn[45]\u001b[39m\u001b[32m, line 50\u001b[39m\n\u001b[32m     47\u001b[39m \u001b[38;5;66;03m# Hyperparameters from best_seismic.ckpt (stored in checkpoint)\u001b[39;00m\n\u001b[32m     48\u001b[39m ckpt_path = \u001b[33m'\u001b[39m\u001b[33mmodels/best_seismic.ckpt\u001b[39m\u001b[33m'\u001b[39m\n\u001b[32m---> \u001b[39m\u001b[32m50\u001b[39m best_nn = \u001b[43mSeismicMultilabelModel\u001b[49m\u001b[43m.\u001b[49m\u001b[43mload_from_checkpoint\u001b[49m\u001b[43m(\u001b[49m\n\u001b[32m     51\u001b[39m \u001b[43m    \u001b[49m\u001b[43mckpt_path\u001b[49m\u001b[43m,\u001b[49m\n\u001b[32m     52\u001b[39m \u001b[43m    \u001b[49m\u001b[43minput_dim\u001b[49m\u001b[43m=\u001b[49m\u001b[32;43m82\u001b[39;49m\u001b[43m,\u001b[49m\u001b[43m       \u001b[49m\u001b[38;5;66;43;03m# ← n-features en X\u001b[39;49;00m\n\u001b[32m     53\u001b[39m \u001b[43m    \u001b[49m\u001b[43mnum_classes\u001b[49m\u001b[43m=\u001b[49m\u001b[32;43m9\u001b[39;49m\u001b[43m       \u001b[49m\u001b[38;5;66;43;03m# ← n-etiquetas\u001b[39;49;00m\n\u001b[32m     54\u001b[39m \u001b[43m)\u001b[49m\n\u001b[32m     55\u001b[39m hparams = {\n\u001b[32m     56\u001b[39m     \u001b[33m'\u001b[39m\u001b[33mhidden_units\u001b[39m\u001b[33m'\u001b[39m: best_nn.hparams.hidden_units,\n\u001b[32m     57\u001b[39m     \u001b[33m'\u001b[39m\u001b[33mlambda_L2\u001b[39m\u001b[33m'\u001b[39m:    best_nn.hparams.lambda_L2,\n\u001b[32m     58\u001b[39m     \u001b[33m'\u001b[39m\u001b[33mlr\u001b[39m\u001b[33m'\u001b[39m:           best_nn.hparams.lr\n\u001b[32m     59\u001b[39m }\n",
                        "\u001b[36mFile \u001b[39m\u001b[32m~/Documents/Academic/University/Sexto_Semestre/Machine_Learning/Seismic-Multilabel-Event-Classifier/env/lib/python3.12/site-packages/pytorch_lightning/utilities/model_helpers.py:125\u001b[39m, in \u001b[36m_restricted_classmethod_impl.__get__.<locals>.wrapper\u001b[39m\u001b[34m(*args, **kwargs)\u001b[39m\n\u001b[32m    120\u001b[39m \u001b[38;5;28;01mif\u001b[39;00m instance \u001b[38;5;129;01mis\u001b[39;00m \u001b[38;5;129;01mnot\u001b[39;00m \u001b[38;5;28;01mNone\u001b[39;00m \u001b[38;5;129;01mand\u001b[39;00m \u001b[38;5;129;01mnot\u001b[39;00m is_scripting:\n\u001b[32m    121\u001b[39m     \u001b[38;5;28;01mraise\u001b[39;00m \u001b[38;5;167;01mTypeError\u001b[39;00m(\n\u001b[32m    122\u001b[39m         \u001b[33mf\u001b[39m\u001b[33m\"\u001b[39m\u001b[33mThe classmethod `\u001b[39m\u001b[38;5;132;01m{\u001b[39;00m\u001b[38;5;28mcls\u001b[39m.\u001b[34m__name__\u001b[39m\u001b[38;5;132;01m}\u001b[39;00m\u001b[33m.\u001b[39m\u001b[38;5;132;01m{\u001b[39;00m\u001b[38;5;28mself\u001b[39m.method.\u001b[34m__name__\u001b[39m\u001b[38;5;132;01m}\u001b[39;00m\u001b[33m` cannot be called on an instance.\u001b[39m\u001b[33m\"\u001b[39m\n\u001b[32m    123\u001b[39m         \u001b[33m\"\u001b[39m\u001b[33m Please call it on the class type and make sure the return value is used.\u001b[39m\u001b[33m\"\u001b[39m\n\u001b[32m    124\u001b[39m     )\n\u001b[32m--> \u001b[39m\u001b[32m125\u001b[39m \u001b[38;5;28;01mreturn\u001b[39;00m \u001b[38;5;28;43mself\u001b[39;49m\u001b[43m.\u001b[49m\u001b[43mmethod\u001b[49m\u001b[43m(\u001b[49m\u001b[38;5;28;43mcls\u001b[39;49m\u001b[43m,\u001b[49m\u001b[43m \u001b[49m\u001b[43m*\u001b[49m\u001b[43margs\u001b[49m\u001b[43m,\u001b[49m\u001b[43m \u001b[49m\u001b[43m*\u001b[49m\u001b[43m*\u001b[49m\u001b[43mkwargs\u001b[49m\u001b[43m)\u001b[49m\n",
                        "\u001b[36mFile \u001b[39m\u001b[32m~/Documents/Academic/University/Sexto_Semestre/Machine_Learning/Seismic-Multilabel-Event-Classifier/env/lib/python3.12/site-packages/pytorch_lightning/core/module.py:1581\u001b[39m, in \u001b[36mLightningModule.load_from_checkpoint\u001b[39m\u001b[34m(cls, checkpoint_path, map_location, hparams_file, strict, **kwargs)\u001b[39m\n\u001b[32m   1492\u001b[39m \u001b[38;5;129m@_restricted_classmethod\u001b[39m\n\u001b[32m   1493\u001b[39m \u001b[38;5;28;01mdef\u001b[39;00m\u001b[38;5;250m \u001b[39m\u001b[34mload_from_checkpoint\u001b[39m(\n\u001b[32m   1494\u001b[39m     \u001b[38;5;28mcls\u001b[39m,\n\u001b[32m   (...)\u001b[39m\u001b[32m   1499\u001b[39m     **kwargs: Any,\n\u001b[32m   1500\u001b[39m ) -> Self:\n\u001b[32m   1501\u001b[39m \u001b[38;5;250m    \u001b[39m\u001b[33mr\u001b[39m\u001b[33;03m\"\"\"Primary way of loading a model from a checkpoint. When Lightning saves a checkpoint it stores the arguments\u001b[39;00m\n\u001b[32m   1502\u001b[39m \u001b[33;03m    passed to ``__init__``  in the checkpoint under ``\"hyper_parameters\"``.\u001b[39;00m\n\u001b[32m   1503\u001b[39m \n\u001b[32m   (...)\u001b[39m\u001b[32m   1579\u001b[39m \n\u001b[32m   1580\u001b[39m \u001b[33;03m    \"\"\"\u001b[39;00m\n\u001b[32m-> \u001b[39m\u001b[32m1581\u001b[39m     loaded = \u001b[43m_load_from_checkpoint\u001b[49m\u001b[43m(\u001b[49m\n\u001b[32m   1582\u001b[39m \u001b[43m        \u001b[49m\u001b[38;5;28;43mcls\u001b[39;49m\u001b[43m,\u001b[49m\n\u001b[32m   1583\u001b[39m \u001b[43m        \u001b[49m\u001b[43mcheckpoint_path\u001b[49m\u001b[43m,\u001b[49m\n\u001b[32m   1584\u001b[39m \u001b[43m        \u001b[49m\u001b[43mmap_location\u001b[49m\u001b[43m,\u001b[49m\n\u001b[32m   1585\u001b[39m \u001b[43m        \u001b[49m\u001b[43mhparams_file\u001b[49m\u001b[43m,\u001b[49m\n\u001b[32m   1586\u001b[39m \u001b[43m        \u001b[49m\u001b[43mstrict\u001b[49m\u001b[43m,\u001b[49m\n\u001b[32m   1587\u001b[39m \u001b[43m        \u001b[49m\u001b[43m*\u001b[49m\u001b[43m*\u001b[49m\u001b[43mkwargs\u001b[49m\u001b[43m,\u001b[49m\n\u001b[32m   1588\u001b[39m \u001b[43m    \u001b[49m\u001b[43m)\u001b[49m\n\u001b[32m   1589\u001b[39m     \u001b[38;5;28;01mreturn\u001b[39;00m cast(Self, loaded)\n",
                        "\u001b[36mFile \u001b[39m\u001b[32m~/Documents/Academic/University/Sexto_Semestre/Machine_Learning/Seismic-Multilabel-Event-Classifier/env/lib/python3.12/site-packages/pytorch_lightning/core/saving.py:91\u001b[39m, in \u001b[36m_load_from_checkpoint\u001b[39m\u001b[34m(cls, checkpoint_path, map_location, hparams_file, strict, **kwargs)\u001b[39m\n\u001b[32m     89\u001b[39m     \u001b[38;5;28;01mreturn\u001b[39;00m _load_state(\u001b[38;5;28mcls\u001b[39m, checkpoint, **kwargs)\n\u001b[32m     90\u001b[39m \u001b[38;5;28;01mif\u001b[39;00m \u001b[38;5;28missubclass\u001b[39m(\u001b[38;5;28mcls\u001b[39m, pl.LightningModule):\n\u001b[32m---> \u001b[39m\u001b[32m91\u001b[39m     model = \u001b[43m_load_state\u001b[49m\u001b[43m(\u001b[49m\u001b[38;5;28;43mcls\u001b[39;49m\u001b[43m,\u001b[49m\u001b[43m \u001b[49m\u001b[43mcheckpoint\u001b[49m\u001b[43m,\u001b[49m\u001b[43m \u001b[49m\u001b[43mstrict\u001b[49m\u001b[43m=\u001b[49m\u001b[43mstrict\u001b[49m\u001b[43m,\u001b[49m\u001b[43m \u001b[49m\u001b[43m*\u001b[49m\u001b[43m*\u001b[49m\u001b[43mkwargs\u001b[49m\u001b[43m)\u001b[49m\n\u001b[32m     92\u001b[39m     state_dict = checkpoint[\u001b[33m\"\u001b[39m\u001b[33mstate_dict\u001b[39m\u001b[33m\"\u001b[39m]\n\u001b[32m     93\u001b[39m     \u001b[38;5;28;01mif\u001b[39;00m \u001b[38;5;129;01mnot\u001b[39;00m state_dict:\n",
                        "\u001b[36mFile \u001b[39m\u001b[32m~/Documents/Academic/University/Sexto_Semestre/Machine_Learning/Seismic-Multilabel-Event-Classifier/env/lib/python3.12/site-packages/pytorch_lightning/core/saving.py:187\u001b[39m, in \u001b[36m_load_state\u001b[39m\u001b[34m(cls, checkpoint, strict, **cls_kwargs_new)\u001b[39m\n\u001b[32m    184\u001b[39m     obj.on_load_checkpoint(checkpoint)\n\u001b[32m    186\u001b[39m \u001b[38;5;66;03m# load the state_dict on the model automatically\u001b[39;00m\n\u001b[32m--> \u001b[39m\u001b[32m187\u001b[39m keys = \u001b[43mobj\u001b[49m\u001b[43m.\u001b[49m\u001b[43mload_state_dict\u001b[49m\u001b[43m(\u001b[49m\u001b[43mcheckpoint\u001b[49m\u001b[43m[\u001b[49m\u001b[33;43m\"\u001b[39;49m\u001b[33;43mstate_dict\u001b[39;49m\u001b[33;43m\"\u001b[39;49m\u001b[43m]\u001b[49m\u001b[43m,\u001b[49m\u001b[43m \u001b[49m\u001b[43mstrict\u001b[49m\u001b[43m=\u001b[49m\u001b[43mstrict\u001b[49m\u001b[43m)\u001b[49m\n\u001b[32m    189\u001b[39m \u001b[38;5;28;01mif\u001b[39;00m \u001b[38;5;129;01mnot\u001b[39;00m strict:\n\u001b[32m    190\u001b[39m     \u001b[38;5;28;01mif\u001b[39;00m keys.missing_keys:\n",
                        "\u001b[36mFile \u001b[39m\u001b[32m~/Documents/Academic/University/Sexto_Semestre/Machine_Learning/Seismic-Multilabel-Event-Classifier/env/lib/python3.12/site-packages/torch/nn/modules/module.py:2593\u001b[39m, in \u001b[36mModule.load_state_dict\u001b[39m\u001b[34m(self, state_dict, strict, assign)\u001b[39m\n\u001b[32m   2585\u001b[39m         error_msgs.insert(\n\u001b[32m   2586\u001b[39m             \u001b[32m0\u001b[39m,\n\u001b[32m   2587\u001b[39m             \u001b[33m\"\u001b[39m\u001b[33mMissing key(s) in state_dict: \u001b[39m\u001b[38;5;132;01m{}\u001b[39;00m\u001b[33m. \u001b[39m\u001b[33m\"\u001b[39m.format(\n\u001b[32m   2588\u001b[39m                 \u001b[33m\"\u001b[39m\u001b[33m, \u001b[39m\u001b[33m\"\u001b[39m.join(\u001b[33mf\u001b[39m\u001b[33m'\u001b[39m\u001b[33m\"\u001b[39m\u001b[38;5;132;01m{\u001b[39;00mk\u001b[38;5;132;01m}\u001b[39;00m\u001b[33m\"\u001b[39m\u001b[33m'\u001b[39m \u001b[38;5;28;01mfor\u001b[39;00m k \u001b[38;5;129;01min\u001b[39;00m missing_keys)\n\u001b[32m   2589\u001b[39m             ),\n\u001b[32m   2590\u001b[39m         )\n\u001b[32m   2592\u001b[39m \u001b[38;5;28;01mif\u001b[39;00m \u001b[38;5;28mlen\u001b[39m(error_msgs) > \u001b[32m0\u001b[39m:\n\u001b[32m-> \u001b[39m\u001b[32m2593\u001b[39m     \u001b[38;5;28;01mraise\u001b[39;00m \u001b[38;5;167;01mRuntimeError\u001b[39;00m(\n\u001b[32m   2594\u001b[39m         \u001b[33m\"\u001b[39m\u001b[33mError(s) in loading state_dict for \u001b[39m\u001b[38;5;132;01m{}\u001b[39;00m\u001b[33m:\u001b[39m\u001b[38;5;130;01m\\n\u001b[39;00m\u001b[38;5;130;01m\\t\u001b[39;00m\u001b[38;5;132;01m{}\u001b[39;00m\u001b[33m\"\u001b[39m.format(\n\u001b[32m   2595\u001b[39m             \u001b[38;5;28mself\u001b[39m.\u001b[34m__class__\u001b[39m.\u001b[34m__name__\u001b[39m, \u001b[33m\"\u001b[39m\u001b[38;5;130;01m\\n\u001b[39;00m\u001b[38;5;130;01m\\t\u001b[39;00m\u001b[33m\"\u001b[39m.join(error_msgs)\n\u001b[32m   2596\u001b[39m         )\n\u001b[32m   2597\u001b[39m     )\n\u001b[32m   2598\u001b[39m \u001b[38;5;28;01mreturn\u001b[39;00m _IncompatibleKeys(missing_keys, unexpected_keys)\n",
                        "\u001b[31mRuntimeError\u001b[39m: Error(s) in loading state_dict for SeismicMultilabelModel:\n\tMissing key(s) in state_dict: \"model.0.weight\", \"model.0.bias\", \"model.2.weight\", \"model.2.bias\", \"model.4.weight\", \"model.4.bias\". \n\tUnexpected key(s) in state_dict: \"classifier.1.weight\", \"classifier.1.bias\", \"classifier.2.weight\", \"classifier.2.bias\", \"classifier.2.running_mean\", \"classifier.2.running_var\", \"classifier.2.num_batches_tracked\", \"classifier.4.weight\", \"classifier.4.bias\", \"classifier.5.weight\", \"classifier.5.bias\", \"classifier.5.running_mean\", \"classifier.5.running_var\", \"classifier.5.num_batches_tracked\", \"classifier.7.weight\", \"classifier.7.bias\". "
                    ]
                }
            ],
            "source": [
                "# --- Helper: build a pipeline with saved hyperparameters ---\n",
                "# Load pre‑trained scikit‑learn models (they already contain optimal hyperparameters)\n",
                "rf_template = joblib.load('models/rf_repkfold.pkl')\n",
                "svm_template = joblib.load('models/svm_repkfold.pkl')\n",
                "\n",
                "# clone() makes a fresh estimator with same params, ensuring a new fit each fold\n",
                "from sklearn.base import clone\n",
                "\n",
                "# For RF and SVM we wrap in Pipeline to avoid data leakage (fit scaler inside CV)\n",
                "def make_model(estimator):\n",
                "    return Pipeline([\n",
                "        ('scaler', StandardScaler()),\n",
                "        ('clf', clone(estimator))\n",
                "    ])\n",
                "\n",
                "rf_pipe  = make_model(rf_template)\n",
                "svm_pipe = make_model(svm_template)\n",
                "\n",
                "# --- Neural Net pipeline (Lightning) ---\n",
                "scaler_pkl = joblib.load('models/scaler.pkl')  # only for inference; we'll fit another scaler per fold\n",
                "\n",
                "def train_nn(X_train, y_train, X_val, y_val, hparams, epochs=20):\n",
                "    import lightning as L\n",
                "    from torch.utils.data import TensorDataset, DataLoader\n",
                "    Xsc = StandardScaler().fit_transform(X_train)\n",
                "    Xv  = StandardScaler().fit_transform(X_val)\n",
                "    Xtr_tensor = torch.tensor(Xsc, dtype=torch.float32)\n",
                "    ytr_tensor = torch.tensor(y_train, dtype=torch.float32)\n",
                "    Xv_tensor  = torch.tensor(Xv, dtype=torch.float32)\n",
                "    yv_tensor  = torch.tensor(y_val, dtype=torch.float32)\n",
                "    train_ds   = TensorDataset(Xtr_tensor, ytr_tensor)\n",
                "    val_ds     = TensorDataset(Xv_tensor,  yv_tensor)\n",
                "    train_dl   = DataLoader(train_ds, batch_size=32, shuffle=True)\n",
                "    val_dl     = DataLoader(val_ds,   batch_size=32, shuffle=False)\n",
                "    model = SeismicMultilabelModel(\n",
                "        input_shape=X_train.shape[1],\n",
                "        num_classes=y_train.shape[1],\n",
                "        hidden_units=hparams['hidden_units'],\n",
                "        lambda_L2=hparams['lambda_L2'],\n",
                "        lr=hparams['lr']\n",
                "    )\n",
                "    trainer = L.Trainer(max_epochs=epochs, logger=False, enable_progress_bar=False, enable_checkpointing=False,\n",
                "                        accelerator='gpu' if torch.cuda.is_available() else 'cpu', devices=1)\n",
                "    trainer.fit(model, train_dl, val_dl)\n",
                "    return model, StandardScaler().fit(X_train)  # return fresh scaler too\n",
                "\n",
                "# Hyperparameters from best_seismic.ckpt (stored in checkpoint)\n",
                "ckpt_path = 'models/best_seismic.ckpt'\n",
                "\n",
                "best_nn = SeismicMultilabelModel.load_from_checkpoint(\n",
                "    ckpt_path,\n",
                "    input_dim=82,       # ← n-features en X\n",
                "    num_classes=9       # ← n-etiquetas\n",
                ")\n",
                "hparams = {\n",
                "    'hidden_units': best_nn.hparams.hidden_units,\n",
                "    'lambda_L2':    best_nn.hparams.lambda_L2,\n",
                "    'lr':           best_nn.hparams.lr\n",
                "}\n"
            ]
        },
        {
            "cell_type": "code",
            "execution_count": null,
            "id": "899cbb4a",
            "metadata": {},
            "outputs": [],
            "source": [
                "# ---- Repeated K‑Fold evaluation ----\n",
                "n_splits = 5\n",
                "n_repeats = 2\n",
                "rkf = RepeatedKFold(n_splits=n_splits, n_repeats=n_repeats, random_state=42)\n",
                "\n",
                "rf_scores, svm_scores, nn_scores = [], [], []\n",
                "\n",
                "for fold, (train_idx, val_idx) in enumerate(rkf.split(X)):\n",
                "    print(f'Fold {fold+1}/{n_splits*n_repeats}')\n",
                "    X_train, y_train = X[train_idx], y[train_idx]\n",
                "    X_val,   y_val   = X[val_idx],   y[val_idx]\n",
                "\n",
                "    # --- Random Forest ---\n",
                "    rf = clone(rf_pipe)\n",
                "    rf.fit(X_train, y_train)\n",
                "    y_pred = rf.predict(X_val)\n",
                "    rf_scores.append(f1_score(y_val, y_pred, average='micro'))\n",
                "\n",
                "    # --- SVM ---\n",
                "    svm = clone(svm_pipe)\n",
                "    svm.fit(X_train, y_train)\n",
                "    y_pred = svm.predict(X_val)\n",
                "    svm_scores.append(f1_score(y_val, y_pred, average='micro'))\n",
                "\n",
                "    # --- Neural Net --- (lightweight epochs=15)\n",
                "    nn_model, scaler_fold = train_nn(X_train, y_train, X_val, y_val, hparams, epochs=15)\n",
                "    X_val_scaled = scaler_fold.transform(X_val)\n",
                "    with torch.no_grad():\n",
                "        logits = nn_model(torch.tensor(X_val_scaled, dtype=torch.float32))\n",
                "        probs  = torch.sigmoid(logits).numpy()\n",
                "    y_pred = (probs > 0.5).astype(int)\n",
                "    nn_scores.append(f1_score(y_val, y_pred, average='micro'))\n",
                "\n",
                "# Store results in DataFrame\n",
                "df_scores = pd.DataFrame({\n",
                "    'RandomForest': rf_scores,\n",
                "    'SVM':          svm_scores,\n",
                "    'NeuralNet':    nn_scores\n",
                "})\n",
                "df_scores.head()"
            ]
        },
        {
            "cell_type": "code",
            "execution_count": null,
            "id": "03ebaabc",
            "metadata": {},
            "outputs": [],
            "source": [
                "print(df_scores.describe())\n",
                "\n",
                "plt.figure(figsize=(8,5))\n",
                "sns.boxplot(data=df_scores)\n",
                "plt.ylabel('F1‑micro')\n",
                "plt.title('Repeated K‑Fold distribution (n_repeats=2, k=5)')\n",
                "plt.show()"
            ]
        },
        {
            "cell_type": "code",
            "execution_count": null,
            "id": "df7f4e3d",
            "metadata": {},
            "outputs": [],
            "source": [
                "# --- Friedman test (overall) ---\n",
                "stat, p = friedmanchisquare(df_scores['RandomForest'], df_scores['SVM'], df_scores['NeuralNet'])\n",
                "print(f'Friedman χ² = {stat:.4f}, p‑value = {p:.4e}')\n",
                "\n",
                "alpha = 0.05\n",
                "if p < alpha:\n",
                "    print('» Significant differences among models -> running Wilcoxon pairwise tests')\n",
                "    pairs = [('RandomForest','SVM'), ('RandomForest','NeuralNet'), ('SVM','NeuralNet')]\n",
                "    for a,b in pairs:\n",
                "        w_stat, p_pair = wilcoxon(df_scores[a], df_scores[b])\n",
                "        print(f'  {a} vs {b}: W={w_stat:.3f}, p={p_pair:.4e}')\n",
                "else:\n",
                "    print('» No statistically significant difference detected (fail to reject H0)')"
            ]
        },
        {
            "cell_type": "code",
            "execution_count": null,
            "id": "2c76d337",
            "metadata": {},
            "outputs": [],
            "source": [
                "df_scores.to_csv('models/repeated_kfold_scores.csv', index=False)\n",
                "print('Saved per‑fold scores to models/repeated_kfold_scores.csv')"
            ]
        }
    ],
    "metadata": {
        "kernelspec": {
            "display_name": "env",
            "language": "python",
            "name": "python3"
        },
        "language_info": {
            "codemirror_mode": {
                "name": "ipython",
                "version": 3
            },
            "file_extension": ".py",
            "mimetype": "text/x-python",
            "name": "python",
            "nbconvert_exporter": "python",
            "pygments_lexer": "ipython3",
            "version": "3.12.7"
        }
    },
    "nbformat": 4,
    "nbformat_minor": 5
}
