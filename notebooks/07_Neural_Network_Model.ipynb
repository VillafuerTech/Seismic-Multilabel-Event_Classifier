{
 "cells": [
  {
   "cell_type": "markdown",
   "id": "3109cfc9",
   "metadata": {},
   "source": [
    "# 07 – Neural Network Model"
   ]
  },
  {
   "cell_type": "code",
   "execution_count": null,
   "id": "f2ec5ab8",
   "metadata": {},
   "outputs": [],
   "source": [
    "import pickle, numpy as np, pandas as pd\n",
    "from sklearn.preprocessing import LabelEncoder, StandardScaler\n",
    "from sklearn.model_selection import train_test_split\n",
    "from tensorflow.keras.utils import to_categorical\n",
    "from tensorflow.keras.models import Model\n",
    "from tensorflow.keras.layers import Input, Dense"
   ]
  },
  {
   "cell_type": "code",
   "execution_count": null,
   "id": "5fdf916f",
   "metadata": {},
   "outputs": [],
   "source": [
    "# load feature vectors\n",
    "with open('../../data/processed/features_fft_512.pkl','rb') as f:\n",
    "    features = pickle.load(f)\n",
    "# reload grouped meta\n",
    "import json, pickle\n",
    "with open('../../data/interim/registros.pkl','rb') as f:\n",
    "    registros = pickle.load(f)\n",
    "# map base file to meta\n",
    "meta = {r['Archivo'].rsplit('_',1)[0]:r for r in registros}\n",
    "X, y_f, y_m, y_v = [], [], [], []\n",
    "for name, vec in features.items():\n",
    "    if name in meta:\n",
    "        X.append(vec)\n",
    "        m = meta[name]\n",
    "        y_f.append(m['Falla']); y_m.append(m['Mag']); y_v.append(m['Vs'])\n",
    "X = np.array(X)"
   ]
  },
  {
   "cell_type": "code",
   "execution_count": null,
   "id": "6147e239",
   "metadata": {},
   "outputs": [],
   "source": [
    "enc_f = LabelEncoder().fit(y_f); enc_m = LabelEncoder().fit(y_m); enc_v = LabelEncoder().fit(y_v)\n",
    "Y_f = to_categorical(enc_f.transform(y_f))\n",
    "Y_m = to_categorical(enc_m.transform(y_m))\n",
    "Y_v = to_categorical(enc_v.transform(y_v))\n",
    "scaler = StandardScaler()\n",
    "X_scaled = scaler.fit_transform(X)\n",
    "X_train, X_test, yf_tr, yf_te, ym_tr, ym_te, yv_tr, yv_te = train_test_split(\n",
    "    X_scaled,Y_f,Y_m,Y_v,test_size=0.2,random_state=42)"
   ]
  },
  {
   "cell_type": "code",
   "execution_count": null,
   "id": "140fe7e5",
   "metadata": {},
   "outputs": [],
   "source": [
    "inp = Input(shape=(X.shape[1],))\n",
    "x = Dense(256,activation='relu')(inp)\n",
    "x = Dense(128,activation='relu')(x)\n",
    "out_f = Dense(Y_f.shape[1],activation='softmax',name='falla')(x)\n",
    "out_m = Dense(Y_m.shape[1],activation='softmax',name='mag')(x)\n",
    "out_v = Dense(Y_v.shape[1],activation='softmax',name='vs')(x)\n",
    "model = Model(inp,[out_f,out_m,out_v])\n",
    "model.compile(optimizer='adam',\n",
    "              loss={'falla':'categorical_crossentropy','mag':'categorical_crossentropy','vs':'categorical_crossentropy'},\n",
    "              metrics={'falla':'accuracy','mag':'accuracy','vs':'accuracy'})\n"
   ]
  },
  {
   "cell_type": "code",
   "execution_count": null,
   "id": "5dc899aa",
   "metadata": {},
   "outputs": [],
   "source": [
    "history = model.fit(X_train,[yf_tr,ym_tr,yv_tr],\n",
    "                    validation_split=0.2,epochs=20,batch_size=32,verbose=1)"
   ]
  },
  {
   "cell_type": "code",
   "execution_count": null,
   "id": "9855aa2d",
   "metadata": {},
   "outputs": [],
   "source": [
    "results = model.evaluate(X_test,[yf_te,ym_te,yv_te],verbose=0)\n",
    "print('Test accuracy Falla:',results[2]); print('Mag:',results[4]); print('Vs:',results[6])"
   ]
  }
 ],
 "metadata": {},
 "nbformat": 4,
 "nbformat_minor": 5
}
