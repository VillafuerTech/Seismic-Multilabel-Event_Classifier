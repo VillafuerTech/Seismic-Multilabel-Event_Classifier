{
    "cells": [
        {
            "cell_type": "markdown",
            "id": "939fee02",
            "metadata": {},
            "source": [
                "# Random Forest multietiqueta con búsqueda Repeated K‑Fold\n",
                "Implementamos un **Random Forest** para clasificación multietiqueta de eventos sísmicos, con optimización de hiperparámetros mediante **Repeated K‑Fold CV** (5×3). Se muestran:\n",
                "1. Gráfica de optimización de λ (λ ≡ `ccp_alpha` del árbol).\n",
                "2. Curva de aprendizaje (tamaño de entrenamiento vs F1‑micro).\n",
                "> Nota: `ccp_alpha` actúa como parámetro de regularización en cada árbol; mayor λ ⇒ mayor poda ⇒ modelo más simple."
            ]
        },
        {
            "cell_type": "markdown",
            "id": "b709d43b",
            "metadata": {},
            "source": [
                "## Bloque 1 – Importaciones\n",
                "Incluimos `RepeatedKFold`, `MultiOutputClassifier` y métricas."
            ]
        },
        {
            "cell_type": "code",
            "execution_count": 13,
            "id": "c89ada30",
            "metadata": {},
            "outputs": [],
            "source": [
                "# ----- Bloque 1 -----\n",
                "import os, joblib, json\n",
                "import numpy as np\n",
                "import pandas as pd\n",
                "import matplotlib.pyplot as plt\n",
                "import seaborn as sns\n",
                "\n",
                "from sklearn.model_selection import train_test_split, RepeatedKFold, GridSearchCV, learning_curve\n",
                "from sklearn.preprocessing import StandardScaler\n",
                "from sklearn.multioutput import MultiOutputClassifier\n",
                "from sklearn.ensemble import RandomForestClassifier\n",
                "from sklearn.pipeline import Pipeline\n",
                "from sklearn.metrics import f1_score, hamming_loss, make_scorer\n"
            ]
        },
        {
            "cell_type": "markdown",
            "id": "1b0fd1d2",
            "metadata": {},
            "source": [
                "## Bloque 2 – Ruta\n"
            ]
        },
        {
            "cell_type": "code",
            "execution_count": 14,
            "id": "9ff6e39d",
            "metadata": {},
            "outputs": [],
            "source": [
                "# ----- Bloque 2 -----\n",
                "if os.path.basename(os.getcwd()) != 'Seismic-Multilabel-Event-Classifier':\n",
                "    os.chdir('..')\n",
                "    print('CWD cambiado ->', os.getcwd())"
            ]
        },
        {
            "cell_type": "markdown",
            "id": "9ce77171",
            "metadata": {},
            "source": [
                "## Bloque 3 – Carga de datos\n"
            ]
        },
        {
            "cell_type": "code",
            "execution_count": 15,
            "id": "b15f4853",
            "metadata": {},
            "outputs": [
                {
                    "name": "stdout",
                    "output_type": "stream",
                    "text": [
                        "Shape: (1674, 91)\n"
                    ]
                },
                {
                    "data": {
                        "text/html": [
                            "<div>\n",
                            "<style scoped>\n",
                            "    .dataframe tbody tr th:only-of-type {\n",
                            "        vertical-align: middle;\n",
                            "    }\n",
                            "\n",
                            "    .dataframe tbody tr th {\n",
                            "        vertical-align: top;\n",
                            "    }\n",
                            "\n",
                            "    .dataframe thead th {\n",
                            "        text-align: right;\n",
                            "    }\n",
                            "</style>\n",
                            "<table border=\"1\" class=\"dataframe\">\n",
                            "  <thead>\n",
                            "    <tr style=\"text-align: right;\">\n",
                            "      <th></th>\n",
                            "      <th>max_V</th>\n",
                            "      <th>rms_V</th>\n",
                            "      <th>max_H1</th>\n",
                            "      <th>rms_H1</th>\n",
                            "      <th>max_H2</th>\n",
                            "      <th>rms_H2</th>\n",
                            "      <th>duration</th>\n",
                            "      <th>zcr_V</th>\n",
                            "      <th>dom_freq_V</th>\n",
                            "      <th>centroid_V</th>\n",
                            "      <th>...</th>\n",
                            "      <th>FFT_PCA_62</th>\n",
                            "      <th>1 Stiker Slip (SS)</th>\n",
                            "      <th>2 Normal-Oblique (SO)</th>\n",
                            "      <th>3 Reverse-Oblique (RO)</th>\n",
                            "      <th>4-6</th>\n",
                            "      <th>6-8</th>\n",
                            "      <th>0-200</th>\n",
                            "      <th>200-400</th>\n",
                            "      <th>400-600</th>\n",
                            "      <th>600-</th>\n",
                            "    </tr>\n",
                            "  </thead>\n",
                            "  <tbody>\n",
                            "    <tr>\n",
                            "      <th>0</th>\n",
                            "      <td>0.000342</td>\n",
                            "      <td>0.000052</td>\n",
                            "      <td>0.000587</td>\n",
                            "      <td>0.000111</td>\n",
                            "      <td>0.000617</td>\n",
                            "      <td>0.000107</td>\n",
                            "      <td>321.68</td>\n",
                            "      <td>2.014362</td>\n",
                            "      <td>0.000000</td>\n",
                            "      <td>5.447156</td>\n",
                            "      <td>...</td>\n",
                            "      <td>0.015319</td>\n",
                            "      <td>True</td>\n",
                            "      <td>False</td>\n",
                            "      <td>False</td>\n",
                            "      <td>True</td>\n",
                            "      <td>False</td>\n",
                            "      <td>False</td>\n",
                            "      <td>False</td>\n",
                            "      <td>False</td>\n",
                            "      <td>True</td>\n",
                            "    </tr>\n",
                            "    <tr>\n",
                            "      <th>1</th>\n",
                            "      <td>0.003967</td>\n",
                            "      <td>0.000347</td>\n",
                            "      <td>0.006399</td>\n",
                            "      <td>0.000501</td>\n",
                            "      <td>0.004988</td>\n",
                            "      <td>0.000475</td>\n",
                            "      <td>200.00</td>\n",
                            "      <td>9.034548</td>\n",
                            "      <td>0.781250</td>\n",
                            "      <td>17.551070</td>\n",
                            "      <td>...</td>\n",
                            "      <td>0.015314</td>\n",
                            "      <td>True</td>\n",
                            "      <td>False</td>\n",
                            "      <td>False</td>\n",
                            "      <td>True</td>\n",
                            "      <td>False</td>\n",
                            "      <td>False</td>\n",
                            "      <td>False</td>\n",
                            "      <td>False</td>\n",
                            "      <td>True</td>\n",
                            "    </tr>\n",
                            "    <tr>\n",
                            "      <th>2</th>\n",
                            "      <td>0.000135</td>\n",
                            "      <td>0.000023</td>\n",
                            "      <td>0.000204</td>\n",
                            "      <td>0.000028</td>\n",
                            "      <td>0.000157</td>\n",
                            "      <td>0.000026</td>\n",
                            "      <td>323.79</td>\n",
                            "      <td>1.429895</td>\n",
                            "      <td>0.195312</td>\n",
                            "      <td>2.573894</td>\n",
                            "      <td>...</td>\n",
                            "      <td>0.015312</td>\n",
                            "      <td>True</td>\n",
                            "      <td>False</td>\n",
                            "      <td>False</td>\n",
                            "      <td>True</td>\n",
                            "      <td>False</td>\n",
                            "      <td>False</td>\n",
                            "      <td>False</td>\n",
                            "      <td>False</td>\n",
                            "      <td>True</td>\n",
                            "    </tr>\n",
                            "    <tr>\n",
                            "      <th>3</th>\n",
                            "      <td>0.003166</td>\n",
                            "      <td>0.000453</td>\n",
                            "      <td>0.005030</td>\n",
                            "      <td>0.000657</td>\n",
                            "      <td>0.004669</td>\n",
                            "      <td>0.000725</td>\n",
                            "      <td>41.00</td>\n",
                            "      <td>21.189954</td>\n",
                            "      <td>14.062500</td>\n",
                            "      <td>14.019404</td>\n",
                            "      <td>...</td>\n",
                            "      <td>0.001835</td>\n",
                            "      <td>True</td>\n",
                            "      <td>False</td>\n",
                            "      <td>False</td>\n",
                            "      <td>True</td>\n",
                            "      <td>False</td>\n",
                            "      <td>False</td>\n",
                            "      <td>False</td>\n",
                            "      <td>False</td>\n",
                            "      <td>True</td>\n",
                            "    </tr>\n",
                            "    <tr>\n",
                            "      <th>4</th>\n",
                            "      <td>0.000011</td>\n",
                            "      <td>0.000002</td>\n",
                            "      <td>0.000021</td>\n",
                            "      <td>0.000003</td>\n",
                            "      <td>0.000018</td>\n",
                            "      <td>0.000003</td>\n",
                            "      <td>180.80</td>\n",
                            "      <td>3.943366</td>\n",
                            "      <td>0.195312</td>\n",
                            "      <td>10.936094</td>\n",
                            "      <td>...</td>\n",
                            "      <td>0.015316</td>\n",
                            "      <td>True</td>\n",
                            "      <td>False</td>\n",
                            "      <td>False</td>\n",
                            "      <td>True</td>\n",
                            "      <td>False</td>\n",
                            "      <td>False</td>\n",
                            "      <td>False</td>\n",
                            "      <td>False</td>\n",
                            "      <td>True</td>\n",
                            "    </tr>\n",
                            "  </tbody>\n",
                            "</table>\n",
                            "<p>5 rows × 91 columns</p>\n",
                            "</div>"
                        ],
                        "text/plain": [
                            "      max_V     rms_V    max_H1    rms_H1    max_H2    rms_H2  duration  \\\n",
                            "0  0.000342  0.000052  0.000587  0.000111  0.000617  0.000107    321.68   \n",
                            "1  0.003967  0.000347  0.006399  0.000501  0.004988  0.000475    200.00   \n",
                            "2  0.000135  0.000023  0.000204  0.000028  0.000157  0.000026    323.79   \n",
                            "3  0.003166  0.000453  0.005030  0.000657  0.004669  0.000725     41.00   \n",
                            "4  0.000011  0.000002  0.000021  0.000003  0.000018  0.000003    180.80   \n",
                            "\n",
                            "       zcr_V  dom_freq_V  centroid_V  ...  FFT_PCA_62  1 Stiker Slip (SS)  \\\n",
                            "0   2.014362    0.000000    5.447156  ...    0.015319                True   \n",
                            "1   9.034548    0.781250   17.551070  ...    0.015314                True   \n",
                            "2   1.429895    0.195312    2.573894  ...    0.015312                True   \n",
                            "3  21.189954   14.062500   14.019404  ...    0.001835                True   \n",
                            "4   3.943366    0.195312   10.936094  ...    0.015316                True   \n",
                            "\n",
                            "   2 Normal-Oblique (SO)  3 Reverse-Oblique (RO)   4-6    6-8  0-200  200-400  \\\n",
                            "0                  False                   False  True  False  False    False   \n",
                            "1                  False                   False  True  False  False    False   \n",
                            "2                  False                   False  True  False  False    False   \n",
                            "3                  False                   False  True  False  False    False   \n",
                            "4                  False                   False  True  False  False    False   \n",
                            "\n",
                            "   400-600  600-  \n",
                            "0    False  True  \n",
                            "1    False  True  \n",
                            "2    False  True  \n",
                            "3    False  True  \n",
                            "4    False  True  \n",
                            "\n",
                            "[5 rows x 91 columns]"
                        ]
                    },
                    "execution_count": 15,
                    "metadata": {},
                    "output_type": "execute_result"
                }
            ],
            "source": [
                "# ----- Bloque 3 -----\n",
                "df = pd.read_json('data/processed/dataset_final.json')\n",
                "print('Shape:', df.shape)\n",
                "df.head()"
            ]
        },
        {
            "cell_type": "markdown",
            "id": "7e5d6ce1",
            "metadata": {},
            "source": [
                "## Bloque 4 – Separación X / y\n"
            ]
        },
        {
            "cell_type": "code",
            "execution_count": 16,
            "id": "4e9a6696",
            "metadata": {},
            "outputs": [
                {
                    "name": "stdout",
                    "output_type": "stream",
                    "text": [
                        "X: (1674, 82) y: (1674, 9)\n"
                    ]
                }
            ],
            "source": [
                "# ----- Bloque 4 -----\n",
                "label_cols = ['1 Stiker Slip (SS)','2 Normal-Oblique (SO)','3 Reverse-Oblique (RO)',\n",
                "              '4-6','6-8','0-200','200-400','400-600','600-']\n",
                "drop_cols = ['Archivo','Falla_lbl','Mag_lbl','Vs_lbl','Combo'] + label_cols\n",
                "feature_cols = [c for c in df.columns if c not in drop_cols]\n",
                "\n",
                "X = df[feature_cols].values\n",
                "y = df[label_cols].values\n",
                "\n",
                "print('X:', X.shape, 'y:', y.shape)"
            ]
        },
        {
            "cell_type": "markdown",
            "id": "d7760514",
            "metadata": {},
            "source": [
                "## Bloque 5 – Hold‑out Test (20 %)\n"
            ]
        },
        {
            "cell_type": "code",
            "execution_count": 17,
            "id": "b83023f5",
            "metadata": {},
            "outputs": [
                {
                    "name": "stdout",
                    "output_type": "stream",
                    "text": [
                        "Train: (1339, 82)  Test: (335, 82)\n"
                    ]
                }
            ],
            "source": [
                "# ----- Bloque 5 -----\n",
                "X_train, X_test, y_train, y_test = train_test_split(\n",
                "    X, y, test_size=0.2, random_state=42, stratify=y)\n",
                "print('Train:', X_train.shape, ' Test:', X_test.shape)"
            ]
        },
        {
            "cell_type": "markdown",
            "id": "69926c7b",
            "metadata": {},
            "source": [
                "## Bloque 6 – Pipeline base\n"
            ]
        },
        {
            "cell_type": "code",
            "execution_count": 18,
            "id": "42bcb712",
            "metadata": {},
            "outputs": [],
            "source": [
                "# ----- Bloque 6 -----\n",
                "base_pipe = Pipeline([\n",
                "    ('scaler', StandardScaler()),\n",
                "    ('clf', MultiOutputClassifier(RandomForestClassifier(\n",
                "        n_estimators=200,\n",
                "        random_state=42,\n",
                "        n_jobs=-1\n",
                "    )))\n",
                "])"
            ]
        },
        {
            "cell_type": "markdown",
            "id": "b87680c2",
            "metadata": {},
            "source": [
                "## Bloque 7 – Grid y Repeated K‑Fold\n"
            ]
        },
        {
            "cell_type": "code",
            "execution_count": null,
            "id": "6279f198",
            "metadata": {},
            "outputs": [
                {
                    "name": "stdout",
                    "output_type": "stream",
                    "text": [
                        "Fitting 50 folds for each of 5 candidates, totalling 250 fits\n"
                    ]
                }
            ],
            "source": [
                "# ----- Bloque 7 -----\n",
                "# Definimos λ = ccp_alpha\n",
                "lambda_vals = np.concatenate(([0.0], np.logspace(-4, -1, 4)))  # 0, 1e‑4,1e‑3,1e‑2,1e‑1\n",
                "param_grid = {'clf__estimator__ccp_alpha': lambda_vals}\n",
                "\n",
                "rkf = RepeatedKFold(n_splits=5, n_repeats=10, random_state=42)\n",
                "scorer = make_scorer(f1_score, average='micro')\n",
                "\n",
                "grid = GridSearchCV(\n",
                "    base_pipe,\n",
                "    param_grid=param_grid,\n",
                "    scoring=scorer,\n",
                "    cv=rkf,\n",
                "    n_jobs=-1,\n",
                "    verbose=2\n",
                ")\n",
                "\n",
                "grid.fit(X_train, y_train)\n",
                "print('Mejor λ (ccp_alpha):', grid.best_params_['clf__estimator__ccp_alpha'])\n",
                "print('Mejor F1‑micro CV:', grid.best_score_)"
            ]
        },
        {
            "cell_type": "markdown",
            "id": "f292bd94",
            "metadata": {},
            "source": [
                "## Bloque 8 – Optimización de λ\n"
            ]
        },
        {
            "cell_type": "code",
            "execution_count": null,
            "id": "c6fe1ffb",
            "metadata": {},
            "outputs": [
                {
                    "data": {
                        "image/png": "[encoded data removed]",
                        "text/plain": [
                            "<Figure size 700x500 with 1 Axes>"
                        ]
                    },
                    "metadata": {},
                    "output_type": "display_data"
                }
            ],
            "source": [
                "# ----- Bloque 8 -----\n",
                "results = pd.DataFrame(grid.cv_results_)\n",
                "results['lambda'] = results['param_clf__estimator__ccp_alpha'].astype(float)\n",
                "means = results.sort_values('lambda').groupby('lambda')['mean_test_score'].mean()\n",
                "\n",
                "plt.figure(figsize=(7,5))\n",
                "plt.plot(means.index, means.values, marker='o')\n",
                "plt.xscale('log')\n",
                "plt.xlabel('λ = ccp_alpha (log)')\n",
                "plt.ylabel('F1‑micro promedio CV')\n",
                "plt.title('Búsqueda de λ con Repeated K‑Fold')\n",
                "plt.grid(True)\n",
                "plt.show()"
            ]
        },
        {
            "cell_type": "markdown",
            "id": "7db30347",
            "metadata": {},
            "source": [
                "## Bloque 9 – Curva de aprendizaje\n"
            ]
        },
        {
            "cell_type": "code",
            "execution_count": null,
            "id": "05dde6c8",
            "metadata": {},
            "outputs": [
                {
                    "data": {
                        "image/png": "[encoded data removed]",
                        "text/plain": [
                            "<Figure size 700x500 with 1 Axes>"
                        ]
                    },
                    "metadata": {},
                    "output_type": "display_data"
                }
            ],
            "source": [
                "# ----- Bloque 9 -----\n",
                "best_lambda = grid.best_params_['clf__estimator__ccp_alpha']\n",
                "best_pipe = Pipeline([\n",
                "    ('scaler', StandardScaler()),\n",
                "    ('clf', MultiOutputClassifier(RandomForestClassifier(\n",
                "        n_estimators=200,\n",
                "        ccp_alpha=best_lambda,\n",
                "        random_state=42,\n",
                "        n_jobs=-1\n",
                "    )))\n",
                "])\n",
                "\n",
                "train_sizes, tr_scores, val_scores = learning_curve(\n",
                "    best_pipe, X_train, y_train,\n",
                "    cv=rkf, scoring=scorer,\n",
                "    train_sizes=np.linspace(0.1, 1.0, 6),\n",
                "    n_jobs=-1\n",
                ")\n",
                "\n",
                "plt.figure(figsize=(7,5))\n",
                "plt.plot(train_sizes, tr_scores.mean(axis=1), marker='o', label='Train')\n",
                "plt.plot(train_sizes, val_scores.mean(axis=1), marker='o', label='Validación CV')\n",
                "plt.xlabel('Tamaño de entrenamiento')\n",
                "plt.ylabel('F1‑micro')\n",
                "plt.title('Curva de aprendizaje – RandomForest')\n",
                "plt.legend()\n",
                "plt.grid(True)\n",
                "plt.show()"
            ]
        },
        {
            "cell_type": "markdown",
            "id": "93993400",
            "metadata": {},
            "source": [
                "## Bloque 10 – Evaluación en Test\n"
            ]
        },
        {
            "cell_type": "code",
            "execution_count": null,
            "id": "f2bd6fea",
            "metadata": {},
            "outputs": [
                {
                    "name": "stdout",
                    "output_type": "stream",
                    "text": [
                        "Test F1‑micro: 0.6391\n",
                        "Test F1‑macro: 0.5505\n",
                        "Test Hamming loss: 0.2027\n"
                    ]
                }
            ],
            "source": [
                "# ----- Bloque 10 -----\n",
                "best_pipe.fit(X_train, y_train)\n",
                "y_pred = best_pipe.predict(X_test)\n",
                "\n",
                "f1 = f1_score(y_test, y_pred, average='micro')\n",
                "f1_macro = f1_score(y_test, y_pred, average='macro')\n",
                "hl = hamming_loss(y_test, y_pred)\n",
                "\n",
                "print(f'Test F1‑micro: {f1:.4f}')\n",
                "print(f'Test F1‑macro: {f1_macro:.4f}')\n",
                "print(f'Test Hamming loss: {hl:.4f}')"
            ]
        },
        {
            "cell_type": "markdown",
            "id": "72c4489d",
            "metadata": {},
            "source": [
                "## Bloque 11 – Guardar modelo\n"
            ]
        },
        {
            "cell_type": "code",
            "execution_count": null,
            "id": "e76fcc85",
            "metadata": {},
            "outputs": [
                {
                    "name": "stdout",
                    "output_type": "stream",
                    "text": [
                        "Modelo guardado en models/rf_repkfold.pkl\n"
                    ]
                }
            ],
            "source": [
                "# ----- Bloque 11 -----\n",
                "os.makedirs('models', exist_ok=True)\n",
                "joblib.dump(best_pipe, 'models/rf_repkfold.pkl')\n",
                "print('Modelo guardado en models/rf_repkfold.pkl')"
            ]
        }
    ],
    "metadata": {
        "kernelspec": {
            "display_name": "env",
            "language": "python",
            "name": "python3"
        },
        "language_info": {
            "codemirror_mode": {
                "name": "ipython",
                "version": 3
            },
            "file_extension": ".py",
            "mimetype": "text/x-python",
            "name": "python",
            "nbconvert_exporter": "python",
            "pygments_lexer": "ipython3",
            "version": "3.12.7"
        }
    },
    "nbformat": 4,
    "nbformat_minor": 5
}
